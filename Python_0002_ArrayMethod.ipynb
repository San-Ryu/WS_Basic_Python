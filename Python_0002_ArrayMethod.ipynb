{
 "cells": [
  {
   "cell_type": "code",
   "execution_count": 7,
   "id": "9f68d447",
   "metadata": {},
   "outputs": [],
   "source": [
    "import numpy as np"
   ]
  },
  {
   "cell_type": "code",
   "execution_count": 26,
   "id": "7f0b090d",
   "metadata": {},
   "outputs": [
    {
     "name": "stdout",
     "output_type": "stream",
     "text": [
      "arr_4 : (4,)\n",
      "arr_2x4 : (2, 4)\n",
      "arr_2x5x3 : (2, 5, 3)\n"
     ]
    }
   ],
   "source": [
    "##1. ndarray.shape : Array가 몇행 몇열 구성인지 반환\n",
    "## 4개 원소 1차원 배열\n",
    "arr_4 = np.array([4, 3, 2, 1])\n",
    "print('arr_4 : ' + str(arr_4.shape))\n",
    "\n",
    "## 2x4 2차원 배열\n",
    "arr_2x4 = np.array([[10, 11, 12, 13]\n",
    "                    , [1, 2, 3, 4]])\n",
    "print('arr_2x4 : ' + str(arr_2x4.shape))\n",
    "\n",
    "## 2x5x3 3차원 배열\n",
    "arr_2x5x3 = np.array([[[10, 11, 12], [1, 2, 3], [29, 30, 31], [51, 52, 53], [1, 3, 5]]\n",
    "                      , [[4, 5, 6], [99, 100, 101], [2, 5, 1], [2, 4, 8], [98, 99, 100]]])\n",
    "print('arr_2x5x3 : ' + str(arr_2x5x3.shape))\n"
   ]
  },
  {
   "cell_type": "code",
   "execution_count": 18,
   "id": "256dae8c",
   "metadata": {},
   "outputs": [],
   "source": [
    "##2. ndarray.ndim : 몇 차원인지 반환"
   ]
  },
  {
   "cell_type": "code",
   "execution_count": 27,
   "id": "04793a59",
   "metadata": {},
   "outputs": [
    {
     "name": "stdout",
     "output_type": "stream",
     "text": [
      "1\n",
      "2\n",
      "3\n"
     ]
    }
   ],
   "source": [
    "print(arr_4.ndim)\n",
    "print(arr_2x4.ndim)\n",
    "print(arr_2x5x3.ndim)"
   ]
  },
  {
   "cell_type": "code",
   "execution_count": 42,
   "id": "01202739",
   "metadata": {},
   "outputs": [
    {
     "name": "stdout",
     "output_type": "stream",
     "text": [
      "Size\n",
      "4\n",
      "8\n",
      "30\n",
      "\n",
      "\n",
      "Len\n",
      "4\n",
      "2\n",
      "2\n",
      "\n",
      "\n",
      "Tup / Dict / Ran\n",
      "4\n",
      "2\n",
      "9\n"
     ]
    }
   ],
   "source": [
    "##3. ndarray.size : 전체 원소의 개수 반환\n",
    "print('Size')\n",
    "print(arr_4.size)\n",
    "print(arr_2x4.size)\n",
    "print(arr_2x5x3.size)\n",
    "print('\\n')\n",
    "\n",
    "##4. len(ndarray) : 첫번째 차원의 갯수(행수) 반환\n",
    "print('Len')\n",
    "print(len(arr_4))\n",
    "print(len(arr_2x4))\n",
    "print(len(arr_2x5x3))\n",
    "print('\\n')\n",
    "\n",
    "## size와 len\n",
    "## size                                    \n",
    "## 전체 원소의 갯수                        \n",
    "## 2x3 배열의 경우, 원소의 갯수인 6 반환   \n",
    "##                                        \n",
    "## Shape, ndim, size와 같은 numpy.ndarray 객체의 메서드\n",
    "\n",
    "## len\n",
    "## 첫번째 차원의 원소(행) 수\n",
    "## 2x3 배열의 경우, 첫번째 차원의 행수인 2를 반환\n",
    "## [1, 2, 3]같은 1차원 배열의 경우, shape가 (3,)이므로 첫번째 차원의 행수인 3을 반환한다고 생각해도 됨\n",
    "## Python 기본 List나 문자열에 사용 가능 (List / Tuple / Dictionary / Range / Byte / String 가능)\n",
    "tup01 = (10, 20, 30, 40)\n",
    "dict01 = {1 : 'ABC', 2 : 'DEF'}\n",
    "ran01 = range(1, 10)\n",
    "\n",
    "print('Tup / Dict / Ran')\n",
    "print(len(tup01))\n",
    "print(len(dict01))\n",
    "print(len(ran01))"
   ]
  },
  {
   "cell_type": "code",
   "execution_count": null,
   "id": "58600148",
   "metadata": {},
   "outputs": [],
   "source": []
  }
 ],
 "metadata": {
  "kernelspec": {
   "display_name": "Python 3 (ipykernel)",
   "language": "python",
   "name": "python3"
  },
  "language_info": {
   "codemirror_mode": {
    "name": "ipython",
    "version": 3
   },
   "file_extension": ".py",
   "mimetype": "text/x-python",
   "name": "python",
   "nbconvert_exporter": "python",
   "pygments_lexer": "ipython3",
   "version": "3.9.12"
  }
 },
 "nbformat": 4,
 "nbformat_minor": 5
}
