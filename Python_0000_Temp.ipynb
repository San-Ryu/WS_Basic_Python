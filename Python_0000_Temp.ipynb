{
 "cells": [
  {
   "cell_type": "code",
   "execution_count": 3,
   "id": "9c1fb206",
   "metadata": {},
   "outputs": [
    {
     "name": "stdout",
     "output_type": "stream",
     "text": [
      "123\n",
      "456\n",
      "123\n",
      "456\n",
      "123456"
     ]
    }
   ],
   "source": [
    "## https://wikidocs.net/134994\n",
    "## str() 함수와 repr() 함수의 차이\n",
    "\n",
    "## https://angelplayer.tistory.com/106\n",
    "## print 함수에서 개행 제거 하는 방법\n",
    "## 통상적인 이용\n",
    "print(\"123\")\n",
    "print(\"456\")\n",
    "\n",
    "## 실제로는 end = '\\n'옵션이 Default로 설정되어있음.\n",
    "print(\"123\", end='\\n')\n",
    "print(\"456\", end='\\n')\n",
    "\n",
    "## 그러므로, end 옵션을 ''로 바꿔주면 된다\n",
    "print(\"123\", end='')\n",
    "print(\"456\", end='')"
   ]
  },
  {
   "cell_type": "code",
   "execution_count": null,
   "id": "56db1f25",
   "metadata": {},
   "outputs": [],
   "source": []
  }
 ],
 "metadata": {
  "kernelspec": {
   "display_name": "Python 3 (ipykernel)",
   "language": "python",
   "name": "python3"
  },
  "language_info": {
   "codemirror_mode": {
    "name": "ipython",
    "version": 3
   },
   "file_extension": ".py",
   "mimetype": "text/x-python",
   "name": "python",
   "nbconvert_exporter": "python",
   "pygments_lexer": "ipython3",
   "version": "3.9.12"
  }
 },
 "nbformat": 4,
 "nbformat_minor": 5
}
