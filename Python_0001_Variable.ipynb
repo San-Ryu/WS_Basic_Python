{
 "cells": [
  {
   "cell_type": "markdown",
   "id": "cf7f796d",
   "metadata": {},
   "source": [
    "■ Variable (변수)\n",
    "- 데이터를 저장하는 공간\n",
    "- 저장공간(Memory)에 값을 생성하고 이름(Name)을 지정\n",
    "- \"=\" (대입연산자)를 사용하여 왼쪽은 변수명, 오른쪽은 데이터가 위치"
   ]
  },
  {
   "cell_type": "markdown",
   "id": "20ce0f23",
   "metadata": {},
   "source": [
    "데이터타입 : int / float / str / bool\n",
    "\n",
    "■ 기본 데이터 타입\n",
    "Variable Declaration & value assignment (변수 선언 및 값 할당)\n",
    "\n",
    "■ Evaluation : 대입 연산자\n",
    "- \"=\" 로 표기되며, 우측의 값을 좌측으로 대입\n",
    "\n",
    "■ compare : 비교 연산자\n",
    "- \"==\" 로 표기되며, 좌측과 우측의 값을 비교\n",
    "\n",
    "■ Comment : 주석\n",
    "- 코드에서 # 이후의 부분은 실행되지 않음"
   ]
  },
  {
   "cell_type": "code",
   "execution_count": 2,
   "id": "ab4820f3",
   "metadata": {},
   "outputs": [
    {
     "name": "stdout",
     "output_type": "stream",
     "text": [
      "10\n",
      "11.4\n"
     ]
    }
   ],
   "source": [
    "# integer \n",
    "a = 10 \n",
    "\n",
    "# float\n",
    "b = 11.4 "
   ]
  },
  {
   "cell_type": "markdown",
   "id": "3c462834",
   "metadata": {},
   "source": [
    "■ Function : 함수\n",
    "- 특정 기능을 반복적으로 호출하여 사용 가능한 코드\n",
    "\n",
    "■ Print() : 출력 함수\n",
    "- 괄호 내 값을 출력\n",
    "- \",\"로 여러 변수를 나열하면 한줄에 출력 가능\n",
    "- 기본적으로는 한 칸 띄어쓰기 후 출력\n",
    "- sep : 구분자, 각 출력 변수 사이에 구별하는 역할\n",
    "- end : 마지막에 출력할 문자열"
   ]
  },
  {
   "cell_type": "code",
   "execution_count": 11,
   "id": "68899ef5",
   "metadata": {},
   "outputs": [
    {
     "name": "stdout",
     "output_type": "stream",
     "text": [
      "10\n",
      "11.4\n",
      "10 11.4\n",
      "10 100 200 11.4\n",
      "10       11.4\n",
      "10  +*-  11.4  +*-  100■"
     ]
    }
   ],
   "source": [
    "# 괄호 내 값을 출력\n",
    "print(a) \n",
    "print(b)\n",
    "\n",
    "# 여러 변수 나열, 한 칸 띄어쓰기 후 출력\n",
    "print(a, b)\n",
    "print(a, 100 ,200, b)\n",
    "print(a, \"     \", b)\n",
    "\n",
    "#\n",
    "print(a, b, \"100\", sep = '  +*-  ', end = '!!■')"
   ]
  },
  {
   "cell_type": "markdown",
   "id": "5534daa2",
   "metadata": {},
   "source": [
    "■ 변수값 확인법\n",
    "1) print() 함수를 이용하거나,\n",
    "\n",
    "2) 변수값을 코드의 마지막에 입력하여 실행\n",
    "- 이 경우, output으로 변수값이 출력됨"
   ]
  },
  {
   "cell_type": "code",
   "execution_count": 17,
   "id": "8646b306",
   "metadata": {},
   "outputs": [
    {
     "name": "stdout",
     "output_type": "stream",
     "text": [
      "10\n"
     ]
    },
    {
     "data": {
      "text/plain": [
       "(10, 11.4)"
      ]
     },
     "execution_count": 17,
     "metadata": {},
     "output_type": "execute_result"
    }
   ],
   "source": [
    "print(a)\n",
    "b\n",
    "a\n",
    "a, b\n",
    "# 맨 마지막줄만 Output으로 출력된다."
   ]
  },
  {
   "cell_type": "markdown",
   "id": "291eb14a",
   "metadata": {},
   "source": [
    "■ Variable Naming : 변수 명명규칙\n",
    "- 영문 대소문자, _, 숫자로 구성 가능하나,\n",
    "- 숫자로 시작할 수 없다. (단, 숫자로 끝나는 것은 가능하다.)\n",
    "- 정확하고, 간결하고, 직관적인 이름을 사용하는 것이 원칙"
   ]
  },
  {
   "cell_type": "code",
   "execution_count": 23,
   "id": "f96e1117",
   "metadata": {},
   "outputs": [
    {
     "name": "stdout",
     "output_type": "stream",
     "text": [
      "-1\n",
      "1\n",
      "aaa AAA\n"
     ]
    }
   ],
   "source": [
    "a = -1\n",
    "Abs = 1\n",
    "_alpha = \"aaa\"\n",
    "_alpha02 = \"AAA\"\n",
    "\n",
    "print(a)\n",
    "print(Abs)\n",
    "print(_alpha, _alpha02)"
   ]
  },
  {
   "cell_type": "markdown",
   "id": "ff3b6ef6",
   "metadata": {},
   "source": [
    "■ 왜 숫자로 변수명을 시작할 수 없는가?  \n",
    "\"1 = 2\" 등으로 대입될 경우, 프로그램 상 혼선이 오기 때문일 수도 있지만,  \n",
    "Lexical Analysis의 편의를 위해 로직이 지정되었기 때문이다.  \n",
    "보통, 컴파일의 과정은 크게 3단계로 나뉜다.  \n",
    "1. Lexical Analysis : 어휘 분석\n",
    "  - 입력된 소스코드를 의미를 가지는 최소한의 단위(Lexeme)로 자른다.  \n",
    "  이 Lexeme(어휘)을 종류에 따라 상수 / 변수 / 연산자인지 판단하여 Token으로 분류하며,  \n",
    "  이 Token의 열을 구문 분석기로 전달한다.  \n",
    "  따라서, Lexical Analyzer(이하 Lexer)에는 해당 언어에서 사용하는 어휘의 종류를 어떻게 판단할 수 있는지 정의되어있어야 한다.  \n",
    "  예를들어, \"abs = 1020;\"이라는 Source Code가 입력된 경우, Lexer는 다음과 같이 해석한다.  \n",
    "  (abs,  식별자)  \n",
    "  (=,    연산자)  \n",
    "  (1020, 상수)  \n",
    "  (;,    연산자)  \n",
    "2. Syntax Analysis : 문법 분석  \n",
    "  - Lexer로부터 전달되는 토큰의 열이 문법에 맞는지 검사한다.  \n",
    "  Syntax Analyzer(이하 Parser)는 실제 Lexeme이 무엇인지 무관하게, 토큰의 구성 및 관계가 인가된 형태인지(문법적으로 맞는지) 판별한다.  \n",
    "  따라서, Parser에는 해당 언어의 문법에 관한 정보가 포함되어있어야 한다.\n",
    "3. Code Generation : 코드 생성  \n",
    "  - Parser가 분석한 정보를 바탕으로 실제 Object Code를 생성한다.\n",
    "  즉, abs = 1020;이라는 Source Code가 문법적으로 알맞은 형태라면,\n",
    "  할당된 메모리 공간 abs에 1020이라는 값을 저장하는 기계어 코드를 생성한다.\n",
    "\n",
    "위와 같은 과정에서, 소스코드를 최소한의 단위로 나누어 구분하는 것은 Lexer의 역할이다.  \n",
    "기본적으로 문자열의 패턴을 파악하는데, Finite State Machine의 일종인 Deterministic Finite State Automata (DFA)로 해석한다.\n",
    "기본적으로 DFA는 현재 상태에 따라 입력을 하나씩 점검하며 상태를 바꾸는 해석기이다.\n",
    "\n",
    "예를 들어,  \n",
    "초기 상태에서 값 A를 만나면 상태 0으로,  \n",
    "초기 상태에서 값 B를 만나면 상태 1로,  \n",
    "그 밖의 값을 만나면 상태 2로 변경된다.  \n",
    "값을 하나씩 체크하며 상태가 바뀌되, 지나간 값을 다시 보는 경우는 없다.  \n",
    "\n",
    "이론적으로 DFA는 정규식으로 표현되는 어떠한 패턴의 문자열이라도 그 종류를 구분할 수 있으므로,  \n",
    "Lexer의 근간을 이루는 계산 모델을 이룬다.  \n",
    "하지만, 실제 컴파일러에 필요한 Lexeme의 종류는 한정되어있고, 일정한 규칙이 있으므로,  \n",
    "Lexer의 상태 변화를 간단하게 만들어줄 수 있는 규칙의 집합을 적절히 설계,  \n",
    "효율적인 컴파일러를 작성해야한다.  \n",
    "\n",
    "C의 Lexer의 경우, 대략 이런 식으로 구성되어있다.  \n",
    "- 초기상태  \n",
    "  1) 알파벳 혹은 _를 만나는 경우 \"식별자 해석 상태\"로 전이  \n",
    "  2) 숫자를 만나는 경우 \"상수 해석 상태\"로 전이  \n",
    "  3) 그 밖의 다른 특수문자를 만나는 경우 \"연산자 해석 상태\"로 전이\n",
    "\n",
    "- 식별자 해석 상태  \n",
    "  1) 알파벳이나 숫자, _를 만나는 경우 상태 유지 \n",
    "  2) 그 밖의 다른 특수문자를 만나는 경우 지금까지 읽어들인 문자들을 모두 식별자로 해석,  \n",
    "     구문 분석기에 전송 후 \"초기상태\"로 전이\n",
    "  \n",
    "- 상수 해석 상태  \n",
    "  1) 숫자가 들어오면 상태 유지\n",
    "  2) 그 밖의 다른 특수문자를 만나는 경우 지금까지 읽어들인 문자들을 모두 상수로 해석,  \n",
    "     구문 분석기에 전송 후 \"초기상태\"로 전이\n",
    "  \n",
    "- 연산자 해석 상태  \n",
    "  1) 특수문자 외 다른 문자(알파벳, 숫자) 등을 만나는 경우, 읽어들인 특수문자를 모두 연산자로 해석,  \n",
    "     구문 분석기에 전송 후 \"초기상태\"로 전이\n",
    "\n",
    "즉, 첫글자를 기준으로 상태를 세 갈래로 분류 및 해석하여, 어휘 분석을 더욱 쉽게 할 수 있게 된다.\n",
    "첫글자가 숫자이면 \"상수 해석 상태\"에서 \"식별자 해석 상태\"로 전이할 일이 없는 구조가 되어  \n",
    "Lexical Analysis의 구현이 훨씬 효율적이어진다.  \n",
    "<br><br><br>  \n",
    "  \n",
    "  \n",
    "■ 출처\n",
    "1) https://epicdevsold.tistory.com/20  \n",
    "2) 네이버 오픈백과\n"
   ]
  },
  {
   "cell_type": "markdown",
   "id": "037894d1",
   "metadata": {},
   "source": [
    "■ Reserved Keyword : 예약어\n",
    "- 언어에서 미치 선점하여 사용중인 키워드\n",
    "- 변수, 함수, 클래스 등 \"사용자 정의 이름으로 사용할 수 없는 특정명\"\n",
    "- 녹색 Bolder체로 표시됨\n",
    "- 쓰고싶다면 앞에 \"_\" 등을 붙여서 특정화시키면 된다."
   ]
  },
  {
   "cell_type": "code",
   "execution_count": 26,
   "id": "14357838",
   "metadata": {},
   "outputs": [
    {
     "ename": "SyntaxError",
     "evalue": "invalid syntax (<ipython-input-26-380f1de3cd73>, line 1)",
     "output_type": "error",
     "traceback": [
      "\u001b[1;36m  File \u001b[1;32m\"<ipython-input-26-380f1de3cd73>\"\u001b[1;36m, line \u001b[1;32m1\u001b[0m\n\u001b[1;33m    class = 100\u001b[0m\n\u001b[1;37m          ^\u001b[0m\n\u001b[1;31mSyntaxError\u001b[0m\u001b[1;31m:\u001b[0m invalid syntax\n"
     ]
    }
   ],
   "source": [
    "class = 100 # 녹색 Bolder체\n",
    "print(class)\n",
    "# SyntaxError : invalid syntax"
   ]
  },
  {
   "cell_type": "code",
   "execution_count": null,
   "id": "9a37e8e4",
   "metadata": {},
   "outputs": [],
   "source": []
  }
 ],
 "metadata": {
  "kernelspec": {
   "display_name": "Python 3",
   "language": "python",
   "name": "python3"
  },
  "language_info": {
   "codemirror_mode": {
    "name": "ipython",
    "version": 3
   },
   "file_extension": ".py",
   "mimetype": "text/x-python",
   "name": "python",
   "nbconvert_exporter": "python",
   "pygments_lexer": "ipython3",
   "version": "3.8.8"
  }
 },
 "nbformat": 4,
 "nbformat_minor": 5
}
