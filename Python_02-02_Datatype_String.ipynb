{
 "cells": [
  {
   "cell_type": "markdown",
   "id": "f0ce7efd",
   "metadata": {},
   "source": [
    "Ref : 패스트캠퍼스 - 초격차 패키지 : 한 번에 끝내는 딥러닝/인공지능  \n",
    "데이터 사이언스 기초(파이썬) - 데이어 타입과 컬렉션 - 문자열 타입의 이해 및 활용하기"
   ]
  },
  {
   "cell_type": "markdown",
   "id": "740642ce",
   "metadata": {},
   "source": [
    "# <문자열 (String)>\n",
    "- 복수개의 문자를 순서대로 나열한 것\n",
    "- 문자열은 '(작은 따옴표) 혹은 \"(큰 따옴표) 사이에 문자를 넣어 생성\n",
    "- 문자열 자체에 '(작은 따옴표)나 \"(큰 따옴표)가 있는 경우에는   \n",
    "각각 그 반대의 기호로 생성됨"
   ]
  },
  {
   "cell_type": "markdown",
   "id": "1bc86a1f",
   "metadata": {},
   "source": [
    "''' '''(작은 따옴표 3개) 사용하여 표현 가능\n",
    "- 차이점\n",
    "    - '', \"\" -> 한 줄 문자열 표현\n",
    "    - ''' ''', \"\"\" \"\"\" -> 여러 줄에 걸쳐 문자열 표현 가능"
   ]
  },
  {
   "cell_type": "code",
   "execution_count": 16,
   "id": "a70a4f3f",
   "metadata": {},
   "outputs": [
    {
     "name": "stdout",
     "output_type": "stream",
     "text": [
      "Hello World\n",
      "Hello 'World!'\n"
     ]
    }
   ],
   "source": [
    "a = 'Hello World'\n",
    "print(a)\n",
    "\n",
    "b = \"Hello 'World!'\"\n",
    "print(b)\n",
    "## 작은 따옴표를 사용하고 싶으면, \n",
    "## 큰 따옴표 내에서 작은 따옴표 사용 가능\n",
    "\n",
    "## 작은 따옴표 String과 큰 따옴표 String은 큰 차이가 없으나,\n",
    "## String 내용 상 따옴표 사용에서 차이가 생길 수 있음."
   ]
  },
  {
   "cell_type": "code",
   "execution_count": 23,
   "id": "12aceccd",
   "metadata": {},
   "outputs": [
    {
     "ename": "SyntaxError",
     "evalue": "EOL while scanning string literal (4249787432.py, line 1)",
     "output_type": "error",
     "traceback": [
      "\u001b[1;36m  Input \u001b[1;32mIn [23]\u001b[1;36m\u001b[0m\n\u001b[1;33m    c = \"Hello World.\u001b[0m\n\u001b[1;37m                      ^\u001b[0m\n\u001b[1;31mSyntaxError\u001b[0m\u001b[1;31m:\u001b[0m EOL while scanning string literal\n"
     ]
    }
   ],
   "source": [
    "c = \"Hello World. \n",
    "It's wonderful World\"\n",
    "print(c)\n",
    "## SyntaxError: EOL while scanning string literal\n",
    "## 문자열은 이렇게 여러 행으로 나뉘어서 정의될 수 없다.\n",
    "## (한 줄로만 정의되어야만 함.)"
   ]
  },
  {
   "cell_type": "code",
   "execution_count": 28,
   "id": "68b33a91",
   "metadata": {},
   "outputs": [
    {
     "name": "stdout",
     "output_type": "stream",
     "text": [
      "Hello\n",
      "World!!\n",
      "\n",
      "It's Beautiful World!\n",
      "\n",
      "Hello \n",
      "\n",
      "\n",
      "\n",
      "World!!!\n"
     ]
    }
   ],
   "source": [
    "## 하지만, ''' '''또는 \"\"\" \"\"\"를 통해\n",
    "## 여러 행에 걸쳐 정의될 수 있다.\n",
    "a = '''Hello\n",
    "World!!\n",
    "\n",
    "It's Beautiful World!'''\n",
    "print(a)\n",
    "\n",
    "print()\n",
    "\n",
    "b = \"\"\"Hello \n",
    "\n",
    "\n",
    "\n",
    "World!!!\"\"\"\n",
    "print(b)"
   ]
  },
  {
   "cell_type": "markdown",
   "id": "cc68a541",
   "metadata": {},
   "source": [
    "### Escape String (이스케이프 문자)\n",
    "- 문자열 내의 일부 문자의 의미를 달리하여 특정한 효과를 주는 것\n",
    "- \\n(New Line), \\t(Tab) 등"
   ]
  },
  {
   "cell_type": "code",
   "execution_count": 33,
   "id": "943f7c99",
   "metadata": {},
   "outputs": [
    {
     "name": "stdout",
     "output_type": "stream",
     "text": [
      "Hello\tWorld!\n",
      "It's\n",
      "Awesome\tWorld!\n",
      "\n",
      "\n",
      "Isn't\tIt?\n"
     ]
    }
   ],
   "source": [
    "a = \"Hello\\tWorld!\\nIt's\\nAwesome\\tWorld!\\n\\n\"\n",
    "print(a)\n",
    "print(\"Isn't\\tIt?\")\n",
    "\n",
    "## \\t 부분의 일정한 탭과\n",
    "## \\n 부분의 개행을 확인할 수 있다."
   ]
  },
  {
   "cell_type": "markdown",
   "id": "7c8abd7f",
   "metadata": {},
   "source": [
    "### Indexing & Slicing (인덱스 및 추출)\n",
    "- 문자열의 각 문자는 순서가 있음 (Index)\n",
    "- 0 (첫 문자)로부터 n-1 (마지막 문자)까지의 순서를 가짐"
   ]
  },
  {
   "cell_type": "markdown",
   "id": "fa20b615",
   "metadata": {},
   "source": [
    "### Indexing\n",
    "(글자 세기 번거로우니, Len 함수의 도움을 받도록 하자 (추후 학습 예정))"
   ]
  },
  {
   "cell_type": "code",
   "execution_count": 48,
   "id": "15bb1b4c",
   "metadata": {},
   "outputs": [
    {
     "name": "stdout",
     "output_type": "stream",
     "text": [
      "Hello\tWorld!\n",
      "It's\n",
      "Awesome\tWorld!\n",
      "\n",
      "\n",
      "34\n",
      "H\n",
      "\n",
      "\n",
      "!\n"
     ]
    }
   ],
   "source": [
    "## 위에서 선언되었던 문자열 a를 사용하여 알아보자.\n",
    "print(a) ## 문자열 a\n",
    "print(len(a)) ## 문자열 a의 길이 (len 함수)\n",
    "\n",
    "print(a[0]) ## 첫 문자 : H\n",
    "print(a[33]) ## 마지막 문자 : 보이지 않음 (\\n)\n",
    "## 개행도 카운트되는 것을 볼 수 있다.\n",
    "print(a[31])\n",
    "## 눈에 보이는 마지막 글자인 !를 출력하려면,\n",
    "## 2개의 개행을 제외한 31번 Index를 입력하여 처리할 수 있다. "
   ]
  },
  {
   "cell_type": "markdown",
   "id": "da303852",
   "metadata": {},
   "source": [
    "#### Indexing_음수 인덱스\n",
    "- 다른 언어와 달리, Python은 음수 인덱스를 사용할 수 있음\n",
    "- -1은 가장 마지막 인덱스를 의미, -2는 마지막에서 두번째 인덱스를 의미"
   ]
  },
  {
   "cell_type": "code",
   "execution_count": 54,
   "id": "8f005cf8",
   "metadata": {},
   "outputs": [
    {
     "name": "stdout",
     "output_type": "stream",
     "text": [
      "\n",
      "\n",
      "\n",
      "\n",
      "!\n",
      "d\n"
     ]
    }
   ],
   "source": [
    "## 마지막 문자는 다른 방법으로도 출력할 수 있다.\n",
    "print(a[-1]) ## 마지막 문자 : 보이지 않음 (\\n)\n",
    "print(a[-2]) ## 마지막-1 문자 : 보이지 않음 (\\n)\n",
    "print(a[-3]) ## 마지막-2 문자 : !\n",
    "print(a[-4]) ## 마지막-3 문자 : d"
   ]
  },
  {
   "cell_type": "markdown",
   "id": "c892ae76",
   "metadata": {},
   "source": [
    "#### Indexing_인덱스의 범위\n",
    "- 길이가 N인 문자열의 인덱스는 [0, N - 1]의 범위를 가짐  \n",
    "(음수 인덱스는 [-N, -1])\n",
    "- 범위를 넘어갈 경우 에러 발생"
   ]
  },
  {
   "cell_type": "code",
   "execution_count": 63,
   "id": "afd8b2f2",
   "metadata": {},
   "outputs": [
    {
     "name": "stdout",
     "output_type": "stream",
     "text": [
      "34 \n",
      " Hello\tWorld!\n",
      "It's\n",
      "Awesome\tWorld!\n",
      "\n",
      "\n"
     ]
    },
    {
     "ename": "IndexError",
     "evalue": "string index out of range",
     "output_type": "error",
     "traceback": [
      "\u001b[1;31m---------------------------------------------------------------------------\u001b[0m",
      "\u001b[1;31mIndexError\u001b[0m                                Traceback (most recent call last)",
      "Input \u001b[1;32mIn [63]\u001b[0m, in \u001b[0;36m<cell line: 3>\u001b[1;34m()\u001b[0m\n\u001b[0;32m      1\u001b[0m \u001b[38;5;28mprint\u001b[39m(\u001b[38;5;28mlen\u001b[39m(a), \u001b[38;5;124m\"\u001b[39m\u001b[38;5;130;01m\\n\u001b[39;00m\u001b[38;5;124m\"\u001b[39m, a)\n\u001b[0;32m      2\u001b[0m \u001b[38;5;66;03m# print(a[34])\u001b[39;00m\n\u001b[1;32m----> 3\u001b[0m \u001b[38;5;28mprint\u001b[39m(\u001b[43ma\u001b[49m\u001b[43m[\u001b[49m\u001b[38;5;241;43m-\u001b[39;49m\u001b[38;5;241;43m35\u001b[39;49m\u001b[43m]\u001b[49m)\n",
      "\u001b[1;31mIndexError\u001b[0m: string index out of range"
     ]
    }
   ],
   "source": [
    "print(len(a), \"\\n\", a)\n",
    "# print(a[34])\n",
    "print(a[-35])\n",
    "## IndexError: string index out of range\n",
    "## 두 케이스 모두 에러가 발생하는 것을 알 수 있음."
   ]
  },
  {
   "cell_type": "markdown",
   "id": "aa39caff",
   "metadata": {},
   "source": [
    "### Slicing\n",
    "- 인덱싱은 하나의 문자를 추출하는 것.\n",
    "- 슬라이싱은 부분 문자열을 추출하는 것.\n",
    "- [Start : End]를 명시, [Start : End - 1]에 해당하는 부분 문자열 추출\n",
    "- 시작과 끝 인덱스를 생략한 경우, 시작점부터 또는 끝점까지의 범위로 판단"
   ]
  },
  {
   "cell_type": "code",
   "execution_count": 93,
   "id": "0706bba3",
   "metadata": {},
   "outputs": [
    {
     "name": "stdout",
     "output_type": "stream",
     "text": [
      "C, JAVA, C#, Python\n",
      "Len(b) :  19\n",
      "\n",
      "\n",
      "C, JAVA, C#, Python\n",
      "\n",
      "\n",
      ", J\n",
      " J\n",
      "\n",
      "\n",
      "VA, C#, Python\n",
      "C, JAVA, C#, P\n",
      "\n",
      "\n",
      "C, JAVA, C#, Python\n"
     ]
    }
   ],
   "source": [
    "## 문자열 b를 새로 선언하여 알아보자.\n",
    "b = \"C, JAVA, C#, Python\"\n",
    "print(b) ## 문자열 b\n",
    "print(\"Len(b) : \", len(b)) ## 문자열 a의 길이\n",
    "print(\"\\n\")\n",
    "\n",
    "## 범위를 지정하지 않으면, 전체 문자열이 출력된다.\n",
    "print(b[:]) \n",
    "print(\"\\n\")\n",
    "\n",
    "## 범위를 지정하면, 해당 문자열이 출력된다\n",
    "print(b[1:4]) ## 2~4번째 문자 : ell\n",
    "print(b[2:4]) ## 3~4번째 문자 : ll\n",
    "print(\"\\n\")\n",
    "\n",
    "## 한쪽을 생략하면, 반대편까지의 범위를 잡는다.\n",
    "print(b[5:]) ## 6번째 문자부터 끝까지\n",
    "print(b[:-5]) ## 처음부터 -5번째 문자까지\n",
    "print(\"\\n\")\n",
    "\n",
    "## 당연히 오류날 것 같지만, 의외로 안난다.\n",
    "print(b[:1000])"
   ]
  },
  {
   "cell_type": "markdown",
   "id": "65638c4c",
   "metadata": {},
   "source": [
    "### 문자열 함수\n",
    "- 파이썬에는 문자열과 관련된 여러 기능을 위한 함수 내장\n",
    "- 언제든 호출하여 해당 기능을 사용할 수 있도록 구성되어있음."
   ]
  },
  {
   "cell_type": "code",
   "execution_count": 95,
   "id": "51b2d974",
   "metadata": {},
   "outputs": [],
   "source": [
    "a = \"my string\"\n",
    "# a.\n",
    "## Jupyter notebook : a.뒤에 커서를 두고 tab키를 누르면 내장된 함수를 볼 수 있음."
   ]
  },
  {
   "cell_type": "code",
   "execution_count": 98,
   "id": "c0f3bc27",
   "metadata": {},
   "outputs": [
    {
     "name": "stdout",
     "output_type": "stream",
     "text": [
      "MY STRING\n",
      "my string\n"
     ]
    }
   ],
   "source": [
    "print(a.upper()) ## 대문자로 변경되는 것을 볼 수 있음\n",
    "print(a)\n",
    "## 이전에 연산자에서 배운 것과 같이,\n",
    "## 대입연산자가 사용되지 않으면 변수가 직접적으로 변경되진 않음."
   ]
  },
  {
   "cell_type": "markdown",
   "id": "9fea7beb",
   "metadata": {},
   "source": [
    "#### 문자열 함수_replace([Tar], [Obj])\n",
    "- 문자열 내 Target(특정 문자)를 Object로 치환 (대소문자 구분)"
   ]
  },
  {
   "cell_type": "code",
   "execution_count": 99,
   "id": "8a5e7f5a",
   "metadata": {},
   "outputs": [
    {
     "data": {
      "text/plain": [
       "'You am the disappearing boy'"
      ]
     },
     "execution_count": 99,
     "metadata": {},
     "output_type": "execute_result"
    }
   ],
   "source": [
    "a = \"I am the disappearing boy\"\n",
    "\n",
    "a.replace('I', 'You')\n",
    "## 중간에 있는 'i'(소문자)는 치환되지 않는다."
   ]
  },
  {
   "cell_type": "markdown",
   "id": "3b2eaef4",
   "metadata": {},
   "source": [
    "#### 문자열 함수_format()\n",
    "- 문자열 내 특정한 값을 변수로부터 추출하여, 문자열 생성에 사용\n",
    "\n",
    "(현재 날짜와 시간을 구하기 위해 datetime 모듈의 도움을 받도록 하자. (추후 학습 예정))"
   ]
  },
  {
   "cell_type": "code",
   "execution_count": 114,
   "id": "4e3d53c3",
   "metadata": {},
   "outputs": [
    {
     "name": "stdout",
     "output_type": "stream",
     "text": [
      "안녕하세요, 오늘은 {}월 {}일입니다. 기온은 {}°C 이고, 강수 확률은 {}% 입니다.\n"
     ]
    }
   ],
   "source": [
    "a = '안녕하세요, 오늘은 {}월 {}일입니다. 기온은 {}°C 이고, 강수 확률은 {}% 입니다.'\n",
    "print(a)\n",
    "## {} 부분이 비어있는 것을 볼 수 있다.\n",
    "## 이는 format() 함수를 통해 내용을 동적으로 삽입할 수 있다."
   ]
  },
  {
   "cell_type": "code",
   "execution_count": 115,
   "id": "132d54f5",
   "metadata": {},
   "outputs": [
    {
     "name": "stdout",
     "output_type": "stream",
     "text": [
      "1\n",
      "16\n"
     ]
    }
   ],
   "source": [
    "import datetime\n",
    "now = datetime.datetime.now()\n",
    "\n",
    "## 뒤에서 사용할 월/일만 확인한다.\n",
    "print(now.month)\n",
    "print(now.day)\n",
    "\n",
    "## 외기온도와 강수확률을 선언한다.\n",
    "## (이는 Open API를 통해 받아오는 방법도 있다.)\n",
    "temperature = -8\n",
    "rain = 12"
   ]
  },
  {
   "cell_type": "code",
   "execution_count": 118,
   "id": "4a63a973",
   "metadata": {},
   "outputs": [
    {
     "data": {
      "text/plain": [
       "'안녕하세요, 오늘은 1월 16일입니다. 기온은 -8°C 이고, 강수 확률은 12% 입니다.'"
      ]
     },
     "execution_count": 118,
     "metadata": {},
     "output_type": "execute_result"
    }
   ],
   "source": [
    "a.format(now.month, now.day, temperature, rain)\n",
    "## 위에서 선언한 값들이 정상적으로 삽입되는 것을 볼 수 있다."
   ]
  },
  {
   "cell_type": "code",
   "execution_count": 120,
   "id": "66a455ca",
   "metadata": {},
   "outputs": [
    {
     "name": "stdout",
     "output_type": "stream",
     "text": [
      "안녕하세요, 오늘은 1월 16일입니다. 기온은 -8°C 이고, 강수 확률은 12% 입니다.\n"
     ]
    }
   ],
   "source": [
    "## 당연히 아래와 같이 대입연산자를 직접 사용해서 정의할 수 있다.\n",
    "a = '안녕하세요, 오늘은 {}월 {}일입니다. 기온은 {}°C 이고, 강수 확률은 {}% 입니다.'.format(now.month, now.day, temperature, rain)\n",
    "print(a)"
   ]
  },
  {
   "cell_type": "markdown",
   "id": "c373e322",
   "metadata": {},
   "source": [
    "#### 문자열 함수_split([Obj])\n",
    "- 문자열을 Object(특정 문자)로 구분하여(Delimiter) 문자열 리스트로 치환"
   ]
  },
  {
   "cell_type": "code",
   "execution_count": 127,
   "id": "be615ef3",
   "metadata": {},
   "outputs": [
    {
     "name": "stdout",
     "output_type": "stream",
     "text": [
      "['Hey,', 'Look', 'at', 'this!', \"It's\", 'Awesome.', 'I', 'Love', 'it,', 'Very', 'Much.']\n",
      "['Hey', \" Look at this! It's Awesome. I Love it\", ' Very Much.']\n",
      "['H', \"y, Look at this! It's Aw\", 'som', '. I Lov', ' it, V', 'ry Much.']\n"
     ]
    }
   ],
   "source": [
    "a = \"Hey, Look at this! It's Awesome. I Love it, Very Much.\"\n",
    "## split 함수의 Default Object는 Space(\" \")이다.\n",
    "print(a.split())\n",
    "\n",
    "## Object를 직접 설정해줄 수도 있다.\n",
    "print(a.split(','))\n",
    "\n",
    "## Object가 반드시 특수문자일 필요는 없다.\n",
    "print(a.split('e'))"
   ]
  },
  {
   "cell_type": "code",
   "execution_count": null,
   "id": "524e10df",
   "metadata": {},
   "outputs": [],
   "source": []
  }
 ],
 "metadata": {
  "kernelspec": {
   "display_name": "Python 3 (ipykernel)",
   "language": "python",
   "name": "python3"
  },
  "language_info": {
   "codemirror_mode": {
    "name": "ipython",
    "version": 3
   },
   "file_extension": ".py",
   "mimetype": "text/x-python",
   "name": "python",
   "nbconvert_exporter": "python",
   "pygments_lexer": "ipython3",
   "version": "3.9.12"
  }
 },
 "nbformat": 4,
 "nbformat_minor": 5
}
