{
 "cells": [
  {
   "cell_type": "markdown",
   "id": "f0ce7efd",
   "metadata": {},
   "source": [
    "Ref : 패스트캠퍼스 - 초격차 패키지 : 한 번에 끝내는 딥러닝/인공지능  \n",
    "데이터 사이언스 기초(파이썬) - 조건문과 반복문 - 조건문(if, elif, else) 활용하기 1 (IF만)"
   ]
  },
  {
   "cell_type": "markdown",
   "id": "740642ce",
   "metadata": {},
   "source": [
    "# <조건문 (Conditional)>\n",
    "- 특정 조건을 만족하는 경우에만 작업을 수행하도록 함  \n",
    "- 모든 조건은 Boolean으로 입력됨  \n",
    "- if, elif, else가 사용됨  "
   ]
  },
  {
   "cell_type": "markdown",
   "id": "6d8f3890",
   "metadata": {},
   "source": [
    "### if_조건문 형성\n",
    "- 조건문 Keyword에 종속된 코드는 들여쓰기로 작성  \n",
    "- 아래의 예시 코드와 같이, 들여쓰기 처리된 1줄의 Code만 조건의 영향을 받음  \n",
    "  (이를 Block 또는 Code-Block이라 함)\n",
    "- 모든 블록의 시작행의 마지막에는 : (Colon)이 필요  "
   ]
  },
  {
   "cell_type": "code",
   "execution_count": 4,
   "id": "78b0a6c1",
   "metadata": {},
   "outputs": [
    {
     "name": "stdout",
     "output_type": "stream",
     "text": [
      "Not Conditional Sentence\n"
     ]
    }
   ],
   "source": [
    "a = 1\n",
    "if a >= 5:\n",
    "    print(\"Conditional Sentence\")\n",
    "    \n",
    "print(\"Not Conditional Sentence\")"
   ]
  },
  {
   "cell_type": "markdown",
   "id": "949d1538",
   "metadata": {},
   "source": [
    "■ Logical AND, OR, NOT\n",
    "- 조건은 Boolean 형태이므로, 논리 연산인 AND / OR / NOT이 사용 가능"
   ]
  },
  {
   "cell_type": "markdown",
   "id": "60150649",
   "metadata": {},
   "source": [
    "- AND  \n",
    "  X | Y | X AND Y  \n",
    "  T | T |    T  \n",
    "  T | F |    F  \n",
    "  F | T |    F  \n",
    "  F | F |    F  \n",
    "\n",
    "- OR  \n",
    "  X | Y | X OR Y  \n",
    "  T | T |   T  \n",
    "  T | F |   T  \n",
    "  F | T |   T  \n",
    "  F | F |   F  \n",
    "\n",
    "- NOT  \n",
    "  X | NOT X  \n",
    "  T |   F  \n",
    "  F |   T  \n",
    "\n",
    "- 논리연산 우선순위  \n",
    "  NOT > AND > OR\n",
    "  (수학과 같이 ()(소괄호)를 통해 우선순위를 지정해줄 수 있음)"
   ]
  },
  {
   "cell_type": "code",
   "execution_count": 9,
   "id": "c6b184bf",
   "metadata": {},
   "outputs": [
    {
     "name": "stdout",
     "output_type": "stream",
     "text": [
      "a = 100\n",
      "b = 9\n"
     ]
    }
   ],
   "source": [
    "a = 100\n",
    "b = 30\n",
    "c = 25\n",
    "\n",
    "if a == 100 :\n",
    "    print(\"a = 100\")\n",
    "## True : 결과 출력\n",
    "    \n",
    "if b == 9 : \n",
    "    print(\"b = 9\")\n",
    "## False : 결과 출력되지 않음\n",
    "    \n",
    "if a == 100 and b == 9 : \n",
    "    print(\"b = 9\")\n",
    "## T AND F = F : 결과 출력되지 않음\n",
    "\n",
    "if a == 100 or b == 9 : \n",
    "    print(\"b = 9\")\n",
    "## T OR T = T : 결과 출력"
   ]
  },
  {
   "cell_type": "code",
   "execution_count": 11,
   "id": "de0198db",
   "metadata": {},
   "outputs": [],
   "source": [
    "## Not 사용\n",
    "if not a == 100:\n",
    "    print('A')\n",
    "## Not T = F : 결과 출력되지 않음."
   ]
  },
  {
   "cell_type": "markdown",
   "id": "94b1584d",
   "metadata": {},
   "source": [
    "#### if의 조건이 Bool이 아닌 경우\n",
    "- 일반적으로 if의 조건은 Boolean값으로 입력되어야 하나,  \n",
    "  정수, 실수, 리스트 등 기본 타입도 조건에 사용 가능  \n",
    "\n",
    "1) False로 간주되는 값 (각 타입의 기본값)  \n",
    "  - None  \n",
    "  - 0  \n",
    "  - 0.0  \n",
    "  - '' 또는 \"\" (빈 문자열)  \n",
    "  - []  -> 빈 List  \n",
    "  - ()  -> 빈 Tuple  \n",
    "  - {}  -> 빈 Dict.  \n",
    "  - set()  -> 빈 Set  \n",
    "  \n",
    "2) True로 간주되는 값 (그 외)  "
   ]
  },
  {
   "cell_type": "code",
   "execution_count": 20,
   "id": "d02224d2",
   "metadata": {},
   "outputs": [
    {
     "name": "stdout",
     "output_type": "stream",
     "text": [
      "True\n"
     ]
    }
   ],
   "source": [
    "if '': # False\n",
    "    print(\"True\")\n",
    "\n",
    "if 3: ## True\n",
    "    print(\"True\")"
   ]
  },
  {
   "cell_type": "code",
   "execution_count": null,
   "id": "cf835935",
   "metadata": {},
   "outputs": [],
   "source": []
  }
 ],
 "metadata": {
  "kernelspec": {
   "display_name": "Python 3 (ipykernel)",
   "language": "python",
   "name": "python3"
  },
  "language_info": {
   "codemirror_mode": {
    "name": "ipython",
    "version": 3
   },
   "file_extension": ".py",
   "mimetype": "text/x-python",
   "name": "python",
   "nbconvert_exporter": "python",
   "pygments_lexer": "ipython3",
   "version": "3.9.12"
  }
 },
 "nbformat": 4,
 "nbformat_minor": 5
}
