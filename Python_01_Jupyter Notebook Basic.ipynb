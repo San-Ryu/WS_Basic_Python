{
 "cells": [
  {
   "cell_type": "markdown",
   "id": "43952e26",
   "metadata": {},
   "source": [
    "Ref : 패스트캠퍼스 - 초격차 패키지 : 한 번에 끝내는 딥러닝/인공지능  \n",
    "데이터 사이언스 기초(파이썬) - 데이어 타입과 컬렉션 - Jupyter Notebook Basic"
   ]
  },
  {
   "cell_type": "markdown",
   "id": "bbfbf87c",
   "metadata": {},
   "source": [
    "# I. 마크다운"
   ]
  },
  {
   "cell_type": "markdown",
   "id": "2bd41cc2",
   "metadata": {},
   "source": [
    "<타이틀>  \n",
    "# 1. Python\n",
    "## 2. Python\n",
    "### 3. Python\n",
    "#### 4. Python\n",
    "##### 5. Python\n",
    "###### 6. Python"
   ]
  },
  {
   "cell_type": "markdown",
   "id": "30b05d1f",
   "metadata": {},
   "source": [
    "<강조>  \n",
    "**Python** is really *cool*"
   ]
  },
  {
   "cell_type": "markdown",
   "id": "70b251a1",
   "metadata": {},
   "source": [
    "<마크 리스트>  \n",
    "- python\n",
    "    - pandas\n",
    "        - depth2\n",
    "    - numpy\n",
    "- java\n",
    "- c++\n",
    "- c#\n",
    "- go"
   ]
  },
  {
   "cell_type": "markdown",
   "id": "cb75b45b",
   "metadata": {},
   "source": [
    "<번호 리스트>  \n",
    "1. python\n",
    "2. java\n",
    "3. c++"
   ]
  },
  {
   "cell_type": "markdown",
   "id": "bcec80e3",
   "metadata": {},
   "source": [
    "<인용구>  \n",
    "> 파이썬 재미있다. "
   ]
  },
  {
   "cell_type": "markdown",
   "id": "fc31a9f5",
   "metadata": {},
   "source": [
    "<수식>  \n",
    "$y = 3x$ "
   ]
  },
  {
   "cell_type": "markdown",
   "id": "6bb5e9e8",
   "metadata": {},
   "source": [
    "<코드 예시 추가>  \n",
    "    \n",
    "```python\n",
    "a = 10\n",
    "print(a)\n",
    "```"
   ]
  },
  {
   "cell_type": "markdown",
   "id": "79625075",
   "metadata": {},
   "source": [
    "<링크 (하이퍼링크 등)>  \n",
    "원본 Link : https://www.python.org/  \n",
    "링크 이름 변경 : [파이썬 공식 홈페이지](https://www.python.org/)  \n",
    "(링크 이름 클릭시, 동일한 홈페이지로 이동되는 것을 알 수 있음)"
   ]
  },
  {
   "cell_type": "markdown",
   "id": "ed098a1f",
   "metadata": {},
   "source": [
    "# II. 코드"
   ]
  },
  {
   "cell_type": "code",
   "execution_count": 5,
   "id": "c2a4d2ac",
   "metadata": {},
   "outputs": [
    {
     "name": "stdout",
     "output_type": "stream",
     "text": [
      "hello world\n"
     ]
    }
   ],
   "source": [
    "print('hello world')"
   ]
  },
  {
   "cell_type": "code",
   "execution_count": 6,
   "id": "e12bffc5",
   "metadata": {},
   "outputs": [
    {
     "name": "stdout",
     "output_type": "stream",
     "text": [
      "10\n"
     ]
    }
   ],
   "source": [
    "a = 10\n",
    "print(a)"
   ]
  },
  {
   "cell_type": "code",
   "execution_count": null,
   "id": "13994dfa",
   "metadata": {},
   "outputs": [],
   "source": []
  }
 ],
 "metadata": {
  "kernelspec": {
   "display_name": "Python 3 (ipykernel)",
   "language": "python",
   "name": "python3"
  },
  "language_info": {
   "codemirror_mode": {
    "name": "ipython",
    "version": 3
   },
   "file_extension": ".py",
   "mimetype": "text/x-python",
   "name": "python",
   "nbconvert_exporter": "python",
   "pygments_lexer": "ipython3",
   "version": "3.9.12"
  }
 },
 "nbformat": 4,
 "nbformat_minor": 5
}
