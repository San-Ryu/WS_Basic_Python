{
 "cells": [
  {
   "cell_type": "markdown",
   "id": "7cdae8ad",
   "metadata": {},
   "source": [
    "Ref.  \n",
    "https://wikidocs.net/64"
   ]
  },
  {
   "cell_type": "markdown",
   "id": "f0ce0861",
   "metadata": {},
   "source": [
    "### 람다 (Lambda)\n",
    "키워드.  \n",
    "AutoCAD의 Lisp 언어에서 계승됨.  \n",
    "\n",
    "lambda [매개변수] : [표현식]"
   ]
  },
  {
   "cell_type": "markdown",
   "id": "5b5ee604",
   "metadata": {},
   "source": [
    "#### 예제01.\n",
    "두 수를 더하는 함수를 람다 형식으로 표현"
   ]
  },
  {
   "cell_type": "code",
   "execution_count": 9,
   "id": "a46aba7e",
   "metadata": {},
   "outputs": [
    {
     "name": "stdout",
     "output_type": "stream",
     "text": [
      "30\n",
      "30\n",
      "\n",
      "▶ Oper01\n",
      "20\n",
      "10.0\n",
      "200.0\n"
     ]
    }
   ],
   "source": [
    "## 01. 원래 방식\n",
    "def sum(x, y):\n",
    "    return x + y\n",
    "\n",
    "print(sum(10, 20))\n",
    "\n",
    "## 02. Lambda 형식으로 표현\n",
    "print((lambda x, y : x + y)(10, 20))\n",
    "\n",
    "## 03. Lambda 형식으로 표현하되,\n",
    "## 연산이 복잡한 경우 (별도의 함수 필요)\n",
    "def oper01(x, y):\n",
    "    x = x * 2\n",
    "    y = y / 2\n",
    "    print(\"\\n▶ Oper01\")\n",
    "    print(x)\n",
    "    print(y)\n",
    "    return x * y\n",
    "\n",
    "print((lambda x, y : oper01(x, y))(10, 20))"
   ]
  },
  {
   "cell_type": "markdown",
   "id": "3800e71a",
   "metadata": {},
   "source": [
    "별도로 함수 정의되어있지 않은 연산 / 함수로 정의된 연산 모두 표현 가능"
   ]
  },
  {
   "cell_type": "markdown",
   "id": "79eb55ea",
   "metadata": {},
   "source": [
    "### map()\n",
    "함수  \n",
    "map([함수], [리스트])  \n",
    "\n",
    "리스트로부터 원소를 하나씩 추출하여 함수에 적용,  \n",
    "그 결과값으로 새로운 리스트를 출력  "
   ]
  },
  {
   "cell_type": "code",
   "execution_count": 25,
   "id": "00ba3243",
   "metadata": {},
   "outputs": [
    {
     "name": "stdout",
     "output_type": "stream",
     "text": [
      "[0, 1, 2, 3, 4, 5, 6, 7, 8, 9]\n"
     ]
    },
    {
     "data": {
      "text/plain": [
       "[0, 1, 4, 9, 16, 25, 36, 49, 64, 81]"
      ]
     },
     "execution_count": 25,
     "metadata": {},
     "output_type": "execute_result"
    }
   ],
   "source": [
    "## \n",
    "def sum(x, y):\n",
    "    return x + y\n",
    "    \n",
    "def sq(x):\n",
    "    return x * x\n",
    "\n",
    "print(list(range(10)))\n",
    "list(map(lambda x: sq(x), range(10)))"
   ]
  },
  {
   "cell_type": "code",
   "execution_count": null,
   "id": "91f4b2d0",
   "metadata": {},
   "outputs": [],
   "source": []
  }
 ],
 "metadata": {
  "kernelspec": {
   "display_name": "Python 3 (ipykernel)",
   "language": "python",
   "name": "python3"
  },
  "language_info": {
   "codemirror_mode": {
    "name": "ipython",
    "version": 3
   },
   "file_extension": ".py",
   "mimetype": "text/x-python",
   "name": "python",
   "nbconvert_exporter": "python",
   "pygments_lexer": "ipython3",
   "version": "3.9.12"
  }
 },
 "nbformat": 4,
 "nbformat_minor": 5
}
