{
 "cells": [
  {
   "cell_type": "markdown",
   "id": "f0ce7efd",
   "metadata": {},
   "source": [
    "Ref : 패스트캠퍼스 - 초격차 패키지 : 한 번에 끝내는 딥러닝/인공지능  \n",
    "데이터 사이언스 기초(파이썬) - 조건문과 반복문 - 반복문(While) 활용하기"
   ]
  },
  {
   "cell_type": "markdown",
   "id": "740642ce",
   "metadata": {},
   "source": [
    "# <반복문 (Loop)>\n",
    "-    \n",
    "-    \n",
    "- While  "
   ]
  },
  {
   "cell_type": "code",
   "execution_count": 1,
   "id": "fb73ceac",
   "metadata": {},
   "outputs": [],
   "source": [
    "## Code!"
   ]
  }
 ],
 "metadata": {
  "kernelspec": {
   "display_name": "Python 3 (ipykernel)",
   "language": "python",
   "name": "python3"
  },
  "language_info": {
   "codemirror_mode": {
    "name": "ipython",
    "version": 3
   },
   "file_extension": ".py",
   "mimetype": "text/x-python",
   "name": "python",
   "nbconvert_exporter": "python",
   "pygments_lexer": "ipython3",
   "version": "3.9.12"
  }
 },
 "nbformat": 4,
 "nbformat_minor": 5
}
