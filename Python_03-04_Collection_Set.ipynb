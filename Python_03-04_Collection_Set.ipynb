{
 "cells": [
  {
   "cell_type": "markdown",
   "id": "f0ce7efd",
   "metadata": {},
   "source": [
    "Ref : 패스트캠퍼스 - 초격차 패키지 : 한 번에 끝내는 딥러닝/인공지능  \n",
    "데이터 사이언스 기초(파이썬) - 데이어 타입과 컬렉션 - 컬렉션 타입의 이해_Set"
   ]
  },
  {
   "cell_type": "markdown",
   "id": "740642ce",
   "metadata": {},
   "source": [
    "# <컬렉션 (Collection)>\n",
    "- 어떤 것들의 모음\n",
    "- List, Tuple, Dict, Set  "
   ]
  },
  {
   "cell_type": "markdown",
   "id": "6d8f3890",
   "metadata": {},
   "source": [
    "### 세트 (Set)\n",
    "- 수학에서의 집합과 동일한 개념.  \n",
    "- 원소간 중복이 불가하고, 순서가 없음.  \n",
    "\n",
    "※ Set은 실무적으로 거의 사용하지 않음"
   ]
  },
  {
   "cell_type": "markdown",
   "id": "f6dbb7ad",
   "metadata": {},
   "source": [
    "#### Set_선언"
   ]
  },
  {
   "cell_type": "markdown",
   "id": "927345f0",
   "metadata": {},
   "source": [
    "1) {} 안에 값을 담아서 생성  \n",
    "   {'[Value]'}  \n",
    "   형태로 값을 저장"
   ]
  },
  {
   "cell_type": "code",
   "execution_count": 6,
   "id": "55902381",
   "metadata": {},
   "outputs": [
    {
     "name": "stdout",
     "output_type": "stream",
     "text": [
      "{1, 2, 3, 4, 5, 8}\n",
      "<class 'set'>\n"
     ]
    }
   ],
   "source": [
    "## 일반적인 Set의 선언\n",
    "set_a = {1, 1, 2, 3, 5, 8, 1, 3, 4}\n",
    "print(set_a)\n",
    "print(type(set_a))\n",
    "## 중복된 값이 추가되지 않음을 볼 수 있다."
   ]
  },
  {
   "cell_type": "code",
   "execution_count": 7,
   "id": "4545c9c3",
   "metadata": {},
   "outputs": [
    {
     "ename": "TypeError",
     "evalue": "'set' object is not subscriptable",
     "output_type": "error",
     "traceback": [
      "\u001b[1;31m---------------------------------------------------------------------------\u001b[0m",
      "\u001b[1;31mTypeError\u001b[0m                                 Traceback (most recent call last)",
      "Input \u001b[1;32mIn [7]\u001b[0m, in \u001b[0;36m<cell line: 2>\u001b[1;34m()\u001b[0m\n\u001b[0;32m      1\u001b[0m \u001b[38;5;66;03m## 순서 개념이 없으므로, Indexing이 불가하다\u001b[39;00m\n\u001b[1;32m----> 2\u001b[0m \u001b[38;5;28mprint\u001b[39m(\u001b[43mset_a\u001b[49m\u001b[43m[\u001b[49m\u001b[38;5;241;43m0\u001b[39;49m\u001b[43m]\u001b[49m)\n",
      "\u001b[1;31mTypeError\u001b[0m: 'set' object is not subscriptable"
     ]
    }
   ],
   "source": [
    "## 순서 개념이 없으므로, Indexing이 불가하다\n",
    "print(set_a[0])\n",
    "## 위에서 선언한 것을 보면, 나름 순서가 있는 것처럼 보이지만,\n",
    "## 사실상 순서가 없는 것."
   ]
  },
  {
   "cell_type": "code",
   "execution_count": 11,
   "id": "11b35fc7",
   "metadata": {},
   "outputs": [
    {
     "name": "stdout",
     "output_type": "stream",
     "text": [
      "<class 'dict'>\n",
      "<class 'set'>\n",
      "[1, 1, 2, 3, 4, 4, 5, 5, 6]\n",
      "{1, 2, 3, 4, 5, 6}\n"
     ]
    }
   ],
   "source": [
    "## Dictionary에서 Key 부분만 사용하는 것이라고 이해해도 됨.\n",
    "\n",
    "## {}(중괄호) 선언시 \n",
    "a = {}\n",
    "print(type(a))\n",
    "## 빈 set이 아닌, Dict로 선언되는 것을 볼 수 있다.\n",
    "## 그러므로, 앞서 선언한 방법으로 {'[value]'} 방식으로 선언하거나\n",
    "## set() 메서드를 통해 set을 선언한다.\n",
    "\n",
    "a = set()\n",
    "print(type(a))\n",
    "\n",
    "## List to set\n",
    "a = [1, 1, 2, 3, 4, 4, 5, 5, 6]\n",
    "print(a)\n",
    "a = set(a)\n",
    "print(a)\n",
    "## List를 Set으로"
   ]
  },
  {
   "cell_type": "markdown",
   "id": "89e24468",
   "metadata": {},
   "source": [
    "#### Set_연산\n",
    "\n",
    "- 수학 연산과 동일  \n",
    "- 교집합, 합집합, 차집합 등 지원"
   ]
  },
  {
   "cell_type": "code",
   "execution_count": 16,
   "id": "6db2250c",
   "metadata": {},
   "outputs": [
    {
     "name": "stdout",
     "output_type": "stream",
     "text": [
      "{1, 2, 3, 4}\n",
      "{2, 3}\n",
      "{1}\n",
      "False\n"
     ]
    }
   ],
   "source": [
    "#### Set_선언\n",
    "set_a = {1, 2, 3}\n",
    "set_b = {2, 3, 4}\n",
    "\n",
    "## 합집합\n",
    "print(set_a.union(set_b))\n",
    "## 교집합\n",
    "print(set_a.intersection(set_b))\n",
    "## 차집합\n",
    "print(set_a.difference(set_b))\n",
    "## 부분집합 관계 여부\n",
    "print(set_a.issubset(set_b))"
   ]
  },
  {
   "cell_type": "code",
   "execution_count": null,
   "id": "3f751887",
   "metadata": {},
   "outputs": [],
   "source": []
  }
 ],
 "metadata": {
  "kernelspec": {
   "display_name": "Python 3 (ipykernel)",
   "language": "python",
   "name": "python3"
  },
  "language_info": {
   "codemirror_mode": {
    "name": "ipython",
    "version": 3
   },
   "file_extension": ".py",
   "mimetype": "text/x-python",
   "name": "python",
   "nbconvert_exporter": "python",
   "pygments_lexer": "ipython3",
   "version": "3.9.12"
  }
 },
 "nbformat": 4,
 "nbformat_minor": 5
}
