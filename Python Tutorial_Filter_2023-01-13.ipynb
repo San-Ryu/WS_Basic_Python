{
 "cells": [
  {
   "cell_type": "markdown",
   "id": "7f7e39fa",
   "metadata": {},
   "source": [
    "■ 목록  \n",
    "필터  \n",
    "- 홀수 판별 필터  \n",
    "- 빈 문자열 제거 필터  \n",
    "- 소수 출력(Prime Number Printer)  \n",
    "\n",
    "■ Ref. Link  \n",
    "라오쉐펑 > 함수형 프로그래밍 > 고차함수 > 필터  \n",
    "https://www.liaoxuefeng.com/wiki/1016959663602400/1017404530360000  "
   ]
  },
  {
   "cell_type": "markdown",
   "id": "b59f16f8",
   "metadata": {},
   "source": [
    "### 1. 필터\n",
    "### 1-1. 필터링\n",
    "#### 1-1-1. 홀수 판별 필터"
   ]
  },
  {
   "cell_type": "code",
   "execution_count": 1,
   "id": "be3f5dd6",
   "metadata": {},
   "outputs": [
    {
     "data": {
      "text/plain": [
       "[1, 3, 5, 7, 9, 11, 13, 15]"
      ]
     },
     "execution_count": 1,
     "metadata": {},
     "output_type": "execute_result"
    }
   ],
   "source": [
    "def is_odd(n):\n",
    "    return n % 2 == 1\n",
    "\n",
    "list(filter(is_odd, [1, 2, 3, 4, 5, 6, 7, 8, 9, 10, 11, 12, 13, 14, 15]))\n",
    "## Out : [1, 3, 5, 7, 9, 11, 13, 15]"
   ]
  },
  {
   "cell_type": "markdown",
   "id": "e79a98b0",
   "metadata": {},
   "source": [
    "#### 1-1-2. 공백 String 판별 필터"
   ]
  },
  {
   "cell_type": "code",
   "execution_count": 6,
   "id": "d98f58a1",
   "metadata": {},
   "outputs": [
    {
     "data": {
      "text/plain": [
       "['A', 'B', 'C']"
      ]
     },
     "execution_count": 6,
     "metadata": {},
     "output_type": "execute_result"
    }
   ],
   "source": [
    "def not_empty(s):\n",
    "    return s and s.strip()\n",
    "list(filter(not_empty, ['A', '', 'B', None, 'C', '           ', '\\t']))"
   ]
  },
  {
   "cell_type": "markdown",
   "id": "915714fb",
   "metadata": {},
   "source": [
    "#### 1-1-3. 소수 출력 필터"
   ]
  },
  {
   "cell_type": "markdown",
   "id": "09cca80c",
   "metadata": {},
   "source": [
    "1) 홀수 Sequence 구성 : 이는 생성기이며, 무한 시퀀스이다."
   ]
  },
  {
   "cell_type": "code",
   "execution_count": 7,
   "id": "61a2f7f1",
   "metadata": {},
   "outputs": [],
   "source": [
    "def _odd_iter():\n",
    "    n = 1\n",
    "    while True:\n",
    "        n = n + 2\n",
    "        yield n"
   ]
  },
  {
   "cell_type": "markdown",
   "id": "825b4017",
   "metadata": {},
   "source": [
    "2) 필터 함수 정의"
   ]
  },
  {
   "cell_type": "code",
   "execution_count": 9,
   "id": "7ca0ff45",
   "metadata": {},
   "outputs": [],
   "source": [
    "def _not_divisible(n):\n",
    "    return lambda x: x % n > 0"
   ]
  },
  {
   "cell_type": "markdown",
   "id": "d17988cc",
   "metadata": {},
   "source": [
    "3) 생성기 정의 : 위의 함수들을 통해 소수를 지속적으로 반환"
   ]
  },
  {
   "cell_type": "code",
   "execution_count": 11,
   "id": "d21ac64f",
   "metadata": {},
   "outputs": [],
   "source": [
    "def primes():\n",
    "    yield 2\n",
    "    it = _odd_iter()\n",
    "    while True:\n",
    "        n = next(it)\n",
    "        yield n\n",
    "        it = filter(_not_divisible(n), it)"
   ]
  },
  {
   "cell_type": "code",
   "execution_count": 13,
   "id": "8bd655da",
   "metadata": {},
   "outputs": [
    {
     "name": "stdout",
     "output_type": "stream",
     "text": [
      "2\n",
      "3\n",
      "5\n",
      "7\n",
      "11\n",
      "13\n",
      "17\n",
      "19\n",
      "23\n",
      "29\n",
      "31\n",
      "37\n",
      "41\n",
      "43\n",
      "47\n",
      "53\n",
      "59\n",
      "61\n",
      "67\n",
      "71\n",
      "73\n",
      "79\n",
      "83\n",
      "89\n",
      "97\n",
      "101\n",
      "103\n",
      "107\n",
      "109\n",
      "113\n",
      "127\n",
      "131\n",
      "137\n",
      "139\n",
      "149\n",
      "151\n",
      "157\n",
      "163\n",
      "167\n",
      "173\n",
      "179\n",
      "181\n",
      "191\n",
      "193\n",
      "197\n",
      "199\n",
      "211\n",
      "223\n",
      "227\n",
      "229\n",
      "233\n",
      "239\n",
      "241\n",
      "251\n",
      "257\n",
      "263\n",
      "269\n",
      "271\n",
      "277\n",
      "281\n",
      "283\n",
      "293\n",
      "307\n",
      "311\n",
      "313\n",
      "317\n",
      "331\n",
      "337\n",
      "347\n",
      "349\n",
      "353\n",
      "359\n",
      "367\n",
      "373\n",
      "379\n",
      "383\n",
      "389\n",
      "397\n",
      "401\n",
      "409\n",
      "419\n",
      "421\n",
      "431\n",
      "433\n",
      "439\n",
      "443\n",
      "449\n",
      "457\n",
      "461\n",
      "463\n",
      "467\n",
      "479\n",
      "487\n",
      "491\n",
      "499\n",
      "503\n",
      "509\n",
      "521\n",
      "523\n",
      "541\n",
      "547\n",
      "557\n",
      "563\n",
      "569\n",
      "571\n",
      "577\n",
      "587\n",
      "593\n",
      "599\n",
      "601\n",
      "607\n",
      "613\n",
      "617\n",
      "619\n",
      "631\n",
      "641\n",
      "643\n",
      "647\n",
      "653\n",
      "659\n",
      "661\n",
      "673\n",
      "677\n",
      "683\n",
      "691\n",
      "701\n",
      "709\n",
      "719\n",
      "727\n",
      "733\n",
      "739\n",
      "743\n",
      "751\n",
      "757\n",
      "761\n",
      "769\n",
      "773\n",
      "787\n",
      "797\n",
      "809\n",
      "811\n",
      "821\n",
      "823\n",
      "827\n",
      "829\n",
      "839\n",
      "853\n",
      "857\n",
      "859\n",
      "863\n",
      "877\n",
      "881\n",
      "883\n",
      "887\n",
      "907\n",
      "911\n",
      "919\n",
      "929\n",
      "937\n",
      "941\n",
      "947\n",
      "953\n",
      "967\n",
      "971\n",
      "977\n",
      "983\n",
      "991\n",
      "997\n"
     ]
    }
   ],
   "source": [
    "for n in primes():\n",
    "    if n < 1000:\n",
    "        print(n)\n",
    "    else:\n",
    "        break"
   ]
  },
  {
   "cell_type": "code",
   "execution_count": null,
   "id": "93e4374a",
   "metadata": {},
   "outputs": [],
   "source": []
  }
 ],
 "metadata": {
  "kernelspec": {
   "display_name": "Python 3 (ipykernel)",
   "language": "python",
   "name": "python3"
  },
  "language_info": {
   "codemirror_mode": {
    "name": "ipython",
    "version": 3
   },
   "file_extension": ".py",
   "mimetype": "text/x-python",
   "name": "python",
   "nbconvert_exporter": "python",
   "pygments_lexer": "ipython3",
   "version": "3.9.12"
  }
 },
 "nbformat": 4,
 "nbformat_minor": 5
}
