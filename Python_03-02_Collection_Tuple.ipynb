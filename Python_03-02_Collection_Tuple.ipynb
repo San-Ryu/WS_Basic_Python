{
 "cells": [
  {
   "cell_type": "markdown",
   "id": "f0ce7efd",
   "metadata": {},
   "source": [
    "Ref : 패스트캠퍼스 - 초격차 패키지 : 한 번에 끝내는 딥러닝/인공지능  \n",
    "데이터 사이언스 기초(파이썬) - 데이어 타입과 컬렉션 - 컬렉션 타입의 이해_Tuple"
   ]
  },
  {
   "cell_type": "markdown",
   "id": "740642ce",
   "metadata": {},
   "source": [
    "# <컬렉션 (Collection)>\n",
    "- 어떤 것들의 모음\n",
    "- List, Tuple, Dict, Set  "
   ]
  },
  {
   "cell_type": "markdown",
   "id": "6d8f3890",
   "metadata": {},
   "source": [
    "### 튜플 (Tuple)\n",
    "- List와 같이, 복수개의 값을 갖는 컬렉션 타입  \n",
    "- 생성된 후, 변경 불가능  \n",
    "- 쓰임새가 명확함. "
   ]
  },
  {
   "cell_type": "markdown",
   "id": "e3a31757",
   "metadata": {},
   "source": [
    "#### Q. Tuple, 왜 쓰는걸까?\n",
    "Ref. https://fierycoding.tistory.com/59"
   ]
  },
  {
   "cell_type": "markdown",
   "id": "f6dbb7ad",
   "metadata": {},
   "source": [
    "#### Tuple_선언"
   ]
  },
  {
   "cell_type": "markdown",
   "id": "927345f0",
   "metadata": {},
   "source": [
    "1) () 안에 값을 담아서 생성 "
   ]
  },
  {
   "cell_type": "code",
   "execution_count": 13,
   "id": "55902381",
   "metadata": {},
   "outputs": [],
   "source": [
    "## Tuple의 선언\n",
    "tup_a = (1, 2, 3)"
   ]
  },
  {
   "cell_type": "markdown",
   "id": "4cb06d52",
   "metadata": {},
   "source": [
    "※ List와의 차이"
   ]
  },
  {
   "cell_type": "code",
   "execution_count": 14,
   "id": "7f9599e3",
   "metadata": {
    "scrolled": true
   },
   "outputs": [
    {
     "name": "stdout",
     "output_type": "stream",
     "text": [
      "<class 'list'>\n",
      "<class 'tuple'>\n",
      "[100, 2, 3]\n",
      "2\n",
      "2\n",
      "[2, 3]\n",
      "(2, 3)\n"
     ]
    }
   ],
   "source": [
    "## 선언\n",
    "ls_a = [1, 2, 3] ## List\n",
    "tup_a = (1, 2, 3) ## Tuple\n",
    "\n",
    "## Type의 비교\n",
    "print(type(ls_a))\n",
    "print(type(tup_b))\n",
    "\n",
    "## 값의 갱신\n",
    "ls_a[0] = 100\n",
    "print(ls_a)\n",
    "# tup_b[0] = 100\n",
    "# print(tup_b)\n",
    "## Tuple의 경우, 값을 갱신하려 하면 에러가 발생하는 것을 알 수 있다.\n",
    "## TypeError: 'tuple' object does not support item assignment\n",
    "\n",
    "## Indexing과 Slicing의 방법은 동일하다.\n",
    "## Indexing\n",
    "print(ls_a[1])\n",
    "print(tup_b[1])\n",
    "## Slicing\n",
    "print(ls_a[1:3])\n",
    "print(tup_b[1:3])"
   ]
  },
  {
   "cell_type": "markdown",
   "id": "0dd43b53",
   "metadata": {},
   "source": [
    "#### Tuple_Unpacking\n",
    "- 튜플의 값을 차례대로 변수에 대입  \n",
    "- 문법적인 편의  \n",
    "- 튜플은 Unpacking의 Case에서 주로 쓰임  \n",
    "  (이외에는 함수에서의 Multiple Return 목적 등으로 주로 사용.)  \n",
    "  -> Tuple을 반환하여 하나의 함수에서 여러 값을 반환"
   ]
  },
  {
   "cell_type": "code",
   "execution_count": 18,
   "id": "aa1a87ad",
   "metadata": {},
   "outputs": [
    {
     "name": "stdout",
     "output_type": "stream",
     "text": [
      "<class 'tuple'>\n",
      "<class 'tuple'>\n",
      "100 200 300 400\n",
      "<class 'int'>\n"
     ]
    }
   ],
   "source": [
    "tup_a = (100, 200)\n",
    "print(type(tup_a))\n",
    "\n",
    "a = 100, 200\n",
    "print(type(a))\n",
    "\n",
    "a, b, c, d = 100, 200, 300, 400\n",
    "print(a, b, c, d)\n",
    "print(type(a))"
   ]
  },
  {
   "cell_type": "markdown",
   "id": "a72abc51",
   "metadata": {},
   "source": [
    "#### Example01_a와 b의 값을 교환하시오.\n",
    "a = 5, b = 4"
   ]
  },
  {
   "cell_type": "code",
   "execution_count": 30,
   "id": "751ab193",
   "metadata": {},
   "outputs": [
    {
     "name": "stdout",
     "output_type": "stream",
     "text": [
      "▶ Init01\n",
      "a = 5 / b = 4\n",
      "Case 01\n",
      "a = 4 / b = 4\n",
      "▶ Init02\n",
      "a = 5 / b = 4\n",
      "Case 02\n",
      "a = 4 / b = 5\n",
      "▶ Init03\n",
      "a = 5 / b = 4\n",
      "Case 03\n",
      "a = 4 / b = 5\n"
     ]
    }
   ],
   "source": [
    "## 언뜻 보면 이렇게 해도 될 것 같다.\n",
    "a = 5\n",
    "b = 4\n",
    "print(\"▶ Init01\")\n",
    "print(\"a =\", a, \"/ b =\", b)\n",
    "\n",
    "a = b\n",
    "b = a\n",
    "print(\"Case 01\")\n",
    "print(\"a =\", a, \"/ b =\", b)\n",
    "## 하지만, 이렇게 하면 정상적으로 교환되지 않는다.\n",
    "\n",
    "## 그래서 통상적으로 이렇게 교환한다\n",
    "a = 5\n",
    "b = 4\n",
    "print(\"▶ Init02\")\n",
    "print(\"a =\", a, \"/ b =\", b)\n",
    "\n",
    "tmp = a\n",
    "a = b\n",
    "b = tmp\n",
    "print(\"Case 02\")\n",
    "print(\"a =\", a, \"/ b =\", b)\n",
    "## 정상적으로 교환이 되는 것을 볼 수 있다.\n",
    "\n",
    "## 하지만, Python에서는\n",
    "## 위에서의 Unpacking 기능을 이용하여 1행으로 표현 가능하다.\n",
    "a = 5\n",
    "b = 4\n",
    "print(\"▶ Init03\")\n",
    "print(\"a =\", a, \"/ b =\", b)\n",
    "\n",
    "a, b = b, a\n",
    "print(\"Case 03\")\n",
    "print(\"a =\", a, \"/ b =\", b)"
   ]
  },
  {
   "cell_type": "code",
   "execution_count": 46,
   "id": "c8bf695f",
   "metadata": {},
   "outputs": [
    {
     "name": "stdout",
     "output_type": "stream",
     "text": [
      "■ List\n",
      "64\n",
      "72\n",
      "120\n",
      "120\n",
      "■ List(Append)\n",
      "120\n",
      "120\n",
      "120\n",
      "120\n",
      "■ Tuple\n",
      "28\n",
      "56\n",
      "64\n",
      "72\n"
     ]
    }
   ],
   "source": [
    "import sys\n",
    "\n",
    "## 선언\n",
    "## List\n",
    "print(\"■ List\")\n",
    "ls_a = [1] \n",
    "ls_b = [1, 2] \n",
    "ls_c = [1, 2, 3] \n",
    "ls_d = [1, 2, 3, 4] \n",
    "print(sys.getsizeof(ls_a))\n",
    "print(sys.getsizeof(ls_b))\n",
    "print(sys.getsizeof(ls_c))\n",
    "print(sys.getsizeof(ls_d))\n",
    "\n",
    "print(\"■ List(Append)\")\n",
    "ls_a.append(1)\n",
    "print(sys.getsizeof(ls_a))\n",
    "ls_b.append(1)\n",
    "print(sys.getsizeof(ls_b))\n",
    "ls_c.append(1)\n",
    "print(sys.getsizeof(ls_c))\n",
    "ls_d.append(1)\n",
    "print(sys.getsizeof(ls_d))\n",
    "\n",
    "## Tuple\n",
    "print(\"■ Tuple\")\n",
    "tup_a = (1) \n",
    "tup_b = (1, 2) \n",
    "tup_c = (1, 2, 3) \n",
    "tup_d = (1, 2, 3, 4) \n",
    "print(sys.getsizeof(tup_a))\n",
    "print(sys.getsizeof(tup_b))\n",
    "print(sys.getsizeof(tup_c))\n",
    "print(sys.getsizeof(tup_d))"
   ]
  },
  {
   "cell_type": "code",
   "execution_count": null,
   "id": "ec11a2f3",
   "metadata": {},
   "outputs": [],
   "source": []
  }
 ],
 "metadata": {
  "kernelspec": {
   "display_name": "Python 3 (ipykernel)",
   "language": "python",
   "name": "python3"
  },
  "language_info": {
   "codemirror_mode": {
    "name": "ipython",
    "version": 3
   },
   "file_extension": ".py",
   "mimetype": "text/x-python",
   "name": "python",
   "nbconvert_exporter": "python",
   "pygments_lexer": "ipython3",
   "version": "3.9.12"
  }
 },
 "nbformat": 4,
 "nbformat_minor": 5
}
