{
 "cells": [
  {
   "cell_type": "code",
   "execution_count": 1,
   "id": "1743bdd4",
   "metadata": {},
   "outputs": [],
   "source": [
    "# ■ 기본적으로 필요한 패키지를 Import한다.\n",
    "# ■ 현재 Code로 작성되고 있는지 반드시 확인한다.\n",
    "import numpy as np\n",
    "import pandas as pd\n",
    "import tensorflow as tf"
   ]
  },
  {
   "cell_type": "code",
   "execution_count": 2,
   "id": "ed29b0f0",
   "metadata": {},
   "outputs": [
    {
     "name": "stdout",
     "output_type": "stream",
     "text": [
      "[1, 2, 3]\n",
      "[1 2 3]\n"
     ]
    }
   ],
   "source": [
    "# ■ 일반적인 Array와 ndArray는 다음과 같이 선언 가능하다.\n",
    "L = [1, 2, 3]\n",
    "A = np.array([1, 2, 3])\n",
    "B = np.arange(10)\n",
    "\n",
    "print(L)\n",
    "print(A)\n",
    "print(B)"
   ]
  },
  {
   "cell_type": "code",
   "execution_count": 3,
   "id": "6c383d21",
   "metadata": {},
   "outputs": [
    {
     "data": {
      "text/plain": [
       "[1, 2, 3]"
      ]
     },
     "execution_count": 3,
     "metadata": {},
     "output_type": "execute_result"
    }
   ],
   "source": [
    "# ■ 하나의 개체로서 살펴보면 다음과 같은 차이를 볼 수 있다.\n",
    "L"
   ]
  },
  {
   "cell_type": "code",
   "execution_count": 4,
   "id": "30466c7e",
   "metadata": {},
   "outputs": [
    {
     "data": {
      "text/plain": [
       "array([1, 2, 3])"
      ]
     },
     "execution_count": 4,
     "metadata": {},
     "output_type": "execute_result"
    }
   ],
   "source": [
    "A"
   ]
  },
  {
   "cell_type": "code",
   "execution_count": 5,
   "id": "bb925496",
   "metadata": {},
   "outputs": [
    {
     "name": "stdout",
     "output_type": "stream",
     "text": [
      "1\n",
      "2\n",
      "3\n"
     ]
    }
   ],
   "source": [
    "# ■ print로 각각의 item을 보면 별 다른 차이가 없다.\n",
    "for item in L:\n",
    "    print(item)"
   ]
  },
  {
   "cell_type": "code",
   "execution_count": 6,
   "id": "e8b31704",
   "metadata": {},
   "outputs": [
    {
     "name": "stdout",
     "output_type": "stream",
     "text": [
      "1\n",
      "2\n",
      "3\n"
     ]
    }
   ],
   "source": [
    "for item in A:\n",
    "    print(item)"
   ]
  },
  {
   "cell_type": "code",
   "execution_count": 7,
   "id": "9d44b8de",
   "metadata": {},
   "outputs": [
    {
     "name": "stdout",
     "output_type": "stream",
     "text": [
      "[1, 2, 3, 4]\n"
     ]
    }
   ],
   "source": [
    "# ■ Append 함수 사용에 따른 차이\n",
    "L.append(4)\n",
    "print(L) # 오류 안남"
   ]
  },
  {
   "cell_type": "code",
   "execution_count": 8,
   "id": "2baddf61",
   "metadata": {},
   "outputs": [
    {
     "ename": "AttributeError",
     "evalue": "'numpy.ndarray' object has no attribute 'append'",
     "output_type": "error",
     "traceback": [
      "\u001b[1;31m---------------------------------------------------------------------------\u001b[0m",
      "\u001b[1;31mAttributeError\u001b[0m                            Traceback (most recent call last)",
      "\u001b[1;32m<ipython-input-8-4c8001be26ef>\u001b[0m in \u001b[0;36m<module>\u001b[1;34m\u001b[0m\n\u001b[1;32m----> 1\u001b[1;33m \u001b[0mA\u001b[0m \u001b[1;33m=\u001b[0m \u001b[0mA\u001b[0m\u001b[1;33m.\u001b[0m\u001b[0mappend\u001b[0m\u001b[1;33m(\u001b[0m\u001b[1;36m4\u001b[0m\u001b[1;33m)\u001b[0m\u001b[1;33m\u001b[0m\u001b[1;33m\u001b[0m\u001b[0m\n\u001b[0m\u001b[0;32m      2\u001b[0m \u001b[0mprint\u001b[0m\u001b[1;33m(\u001b[0m\u001b[0mA\u001b[0m\u001b[1;33m)\u001b[0m \u001b[1;31m# 오류남 (Append 지원 안함)\u001b[0m\u001b[1;33m\u001b[0m\u001b[1;33m\u001b[0m\u001b[0m\n",
      "\u001b[1;31mAttributeError\u001b[0m: 'numpy.ndarray' object has no attribute 'append'"
     ]
    }
   ],
   "source": [
    "A = A.append(4)\n",
    "print(A) # 오류남 (Append 지원 안함)\n"
   ]
  },
  {
   "cell_type": "code",
   "execution_count": 12,
   "id": "64d46fc4",
   "metadata": {},
   "outputs": [
    {
     "name": "stdout",
     "output_type": "stream",
     "text": [
      "[6 7 8 4]\n"
     ]
    }
   ],
   "source": [
    "# Append를 통해 ndArray에 인자를 추가하는 방법은 다음과 같다.\n",
    "A = np.append(A, 4)\n",
    "print(A)\n",
    "# # # # # # # # # # # # # # # # # # # # # # # # # # # # # # # # # # # # # # # # # # "
   ]
  },
  {
   "cell_type": "code",
   "execution_count": 9,
   "id": "a8f9765d",
   "metadata": {},
   "outputs": [
    {
     "name": "stdout",
     "output_type": "stream",
     "text": [
      "[1, 2, 3, 4, 5]\n"
     ]
    }
   ],
   "source": [
    "# ■ 연산에 따른 차이 (덧셈)\n",
    "L = L + [5]\n",
    "print(L) # Array L의 후미에 5의 값을 갖는 인자가 추가되나,"
   ]
  },
  {
   "cell_type": "code",
   "execution_count": 10,
   "id": "21b99af2",
   "metadata": {},
   "outputs": [
    {
     "name": "stdout",
     "output_type": "stream",
     "text": [
      "[1 2 3]\n",
      "[6 7 8]\n"
     ]
    }
   ],
   "source": [
    "print(A)\n",
    "A = A + np.array([5])\n",
    "print(A) #각각의 자리에 5만큼의 값이 더해진다.\n",
    "#이러한 현상을 BroadCasting이라고 한다."
   ]
  },
  {
   "cell_type": "code",
   "execution_count": 11,
   "id": "36257522",
   "metadata": {},
   "outputs": [
    {
     "name": "stdout",
     "output_type": "stream",
     "text": [
      "[6 7 8]\n"
     ]
    },
    {
     "ename": "ValueError",
     "evalue": "operands could not be broadcast together with shapes (3,) (2,) ",
     "output_type": "error",
     "traceback": [
      "\u001b[1;31m---------------------------------------------------------------------------\u001b[0m",
      "\u001b[1;31mValueError\u001b[0m                                Traceback (most recent call last)",
      "\u001b[1;32m<ipython-input-11-ea9b664c202e>\u001b[0m in \u001b[0;36m<module>\u001b[1;34m\u001b[0m\n\u001b[0;32m      1\u001b[0m \u001b[0mprint\u001b[0m\u001b[1;33m(\u001b[0m\u001b[0mA\u001b[0m\u001b[1;33m)\u001b[0m\u001b[1;33m\u001b[0m\u001b[1;33m\u001b[0m\u001b[0m\n\u001b[1;32m----> 2\u001b[1;33m \u001b[0mA\u001b[0m \u001b[1;33m=\u001b[0m \u001b[0mA\u001b[0m \u001b[1;33m+\u001b[0m \u001b[0mnp\u001b[0m\u001b[1;33m.\u001b[0m\u001b[0marray\u001b[0m\u001b[1;33m(\u001b[0m\u001b[1;33m[\u001b[0m\u001b[1;36m5\u001b[0m\u001b[1;33m,\u001b[0m \u001b[1;36m10\u001b[0m\u001b[1;33m]\u001b[0m\u001b[1;33m)\u001b[0m\u001b[1;33m\u001b[0m\u001b[1;33m\u001b[0m\u001b[0m\n\u001b[0m\u001b[0;32m      3\u001b[0m \u001b[0mprint\u001b[0m\u001b[1;33m(\u001b[0m\u001b[0mA\u001b[0m\u001b[1;33m)\u001b[0m \u001b[1;31m# 에러가 난다\u001b[0m\u001b[1;33m\u001b[0m\u001b[1;33m\u001b[0m\u001b[0m\n",
      "\u001b[1;31mValueError\u001b[0m: operands could not be broadcast together with shapes (3,) (2,) "
     ]
    }
   ],
   "source": [
    "print(A)\n",
    "A = A + np.array([5, 10])\n",
    "print(A) # 에러가 난다"
   ]
  },
  {
   "cell_type": "code",
   "execution_count": 13,
   "id": "f753f5de",
   "metadata": {},
   "outputs": [
    {
     "name": "stdout",
     "output_type": "stream",
     "text": [
      "[6 7 8 4]\n"
     ]
    },
    {
     "ename": "ValueError",
     "evalue": "operands could not be broadcast together with shapes (4,) (5,) ",
     "output_type": "error",
     "traceback": [
      "\u001b[1;31m---------------------------------------------------------------------------\u001b[0m",
      "\u001b[1;31mValueError\u001b[0m                                Traceback (most recent call last)",
      "\u001b[1;32m<ipython-input-13-491017f475db>\u001b[0m in \u001b[0;36m<module>\u001b[1;34m\u001b[0m\n\u001b[0;32m      1\u001b[0m \u001b[0mprint\u001b[0m\u001b[1;33m(\u001b[0m\u001b[0mA\u001b[0m\u001b[1;33m)\u001b[0m\u001b[1;33m\u001b[0m\u001b[1;33m\u001b[0m\u001b[0m\n\u001b[1;32m----> 2\u001b[1;33m \u001b[0mA\u001b[0m \u001b[1;33m=\u001b[0m \u001b[0mA\u001b[0m \u001b[1;33m+\u001b[0m \u001b[0mnp\u001b[0m\u001b[1;33m.\u001b[0m\u001b[0marray\u001b[0m\u001b[1;33m(\u001b[0m\u001b[1;33m[\u001b[0m\u001b[1;36m5\u001b[0m\u001b[1;33m,\u001b[0m \u001b[1;36m10\u001b[0m\u001b[1;33m,\u001b[0m \u001b[1;36m5\u001b[0m\u001b[1;33m,\u001b[0m \u001b[1;36m10\u001b[0m\u001b[1;33m,\u001b[0m \u001b[1;36m5\u001b[0m\u001b[1;33m]\u001b[0m\u001b[1;33m)\u001b[0m\u001b[1;33m\u001b[0m\u001b[1;33m\u001b[0m\u001b[0m\n\u001b[0m\u001b[0;32m      3\u001b[0m \u001b[0mprint\u001b[0m\u001b[1;33m(\u001b[0m\u001b[0mA\u001b[0m\u001b[1;33m)\u001b[0m \u001b[1;31m# 자릿수가 맞아야 하는 것 같다.\u001b[0m\u001b[1;33m\u001b[0m\u001b[1;33m\u001b[0m\u001b[0m\n\u001b[0;32m      4\u001b[0m \u001b[1;31m# # # # # # # # # # # # # # # # # # # # # # # # # # # # # # # # # # # # # # # # # #\u001b[0m\u001b[1;33m\u001b[0m\u001b[1;33m\u001b[0m\u001b[1;33m\u001b[0m\u001b[0m\n",
      "\u001b[1;31mValueError\u001b[0m: operands could not be broadcast together with shapes (4,) (5,) "
     ]
    }
   ],
   "source": [
    "print(A)\n",
    "A = A + np.array([5, 10, 5, 10, 5])\n",
    "print(A) # 자릿수가 맞아야 하는 것 같다.\n",
    "# # # # # # # # # # # # # # # # # # # # # # # # # # # # # # # # # # # # # # # # # # "
   ]
  },
  {
   "cell_type": "code",
   "execution_count": 14,
   "id": "1145085f",
   "metadata": {},
   "outputs": [
    {
     "name": "stdout",
     "output_type": "stream",
     "text": [
      "[2, 4, 6]\n"
     ]
    }
   ],
   "source": [
    "# ■ 연산에 따른 차이 (곱셈)\n",
    "# python List - 모든 원소를 2배로 만들기\n",
    "L = [1, 2, 3]\n",
    "L2 = []\n",
    "for item in L:\n",
    "    L2.append(item * 2)\n",
    "print(L2)"
   ]
  },
  {
   "cell_type": "code",
   "execution_count": 15,
   "id": "bebbc2b1",
   "metadata": {},
   "outputs": [
    {
     "name": "stdout",
     "output_type": "stream",
     "text": [
      "[2 4 6]\n"
     ]
    }
   ],
   "source": [
    "# ndArray - 모든 원소를 2배로 만들기\n",
    "# ndArray에서는 연산이 조금 쉬워진다.\n",
    "A = np.array(L)\n",
    "A2 = A * 2\n",
    "print(A2)\n"
   ]
  },
  {
   "cell_type": "code",
   "execution_count": 16,
   "id": "1cd10a76",
   "metadata": {},
   "outputs": [
    {
     "name": "stdout",
     "output_type": "stream",
     "text": [
      "[1, 2, 3, 1, 2, 3]\n",
      "[1, 2, 3, 1, 2, 3, 1, 2, 3]\n"
     ]
    }
   ],
   "source": [
    "# List에 * N 연산을 할 경우, 해당 숫자만큼 인자가 늘어난다.\n",
    "L = [1, 2, 3]\n",
    "L2 = L * 2\n",
    "print(L2)\n",
    "L3 = L * 3\n",
    "print(L3)\n",
    "# # # # # # # # # # # # # # # # # # # # # # # # # # # # # # # # # # # # # # # # # # "
   ]
  },
  {
   "cell_type": "code",
   "execution_count": 17,
   "id": "a4ed4f2d",
   "metadata": {},
   "outputs": [
    {
     "name": "stdout",
     "output_type": "stream",
     "text": [
      "[1 2 3]\n",
      "<class 'numpy.ndarray'> 1 (3,) int32\n"
     ]
    }
   ],
   "source": [
    "# ■■■■■■■■■■■■■■■■■■■■■■■■■■■■■■■■■■■■■■■■■\n",
    "# ■ 배열\n",
    "a = np.array([1, 2, 3])\n",
    "print(a)\n",
    "print(type(a), a.ndim, a.shape, a.dtype)"
   ]
  },
  {
   "cell_type": "code",
   "execution_count": 18,
   "id": "e6597b6c",
   "metadata": {},
   "outputs": [
    {
     "name": "stdout",
     "output_type": "stream",
     "text": [
      "[1. 2. 3.]\n",
      "<class 'numpy.ndarray'> 1 (3,) float64\n"
     ]
    }
   ],
   "source": [
    "# 1 뒤에 .을 붙이는 경우, 소수로 인식된다.\n",
    "a = np.array([1., 2, 3])\n",
    "print(a)\n",
    "print(type(a), a.ndim, a.shape, a.dtype) # float64가 된다"
   ]
  },
  {
   "cell_type": "code",
   "execution_count": 19,
   "id": "af7d7638",
   "metadata": {},
   "outputs": [
    {
     "name": "stdout",
     "output_type": "stream",
     "text": [
      "[1 2 3]\n",
      "[1 2 3]\n",
      "[9 2 3]\n",
      "[9 2 3]\n"
     ]
    }
   ],
   "source": [
    "# np ndArray를 생성하는 방법으로는,\n",
    "# np.array와 np.asaray가 있는데,\n",
    "a = np.array([1, 2, 3])\n",
    "print(a)\n",
    "b = np.asarray(a)\n",
    "print(b)\n",
    "\n",
    "b[0] = 9\n",
    "print(a)\n",
    "print(b)\n",
    "# 일종의 View가 된다. (복사가 아니라, 같은 메모리를 바라보는 개체를 생성한다)"
   ]
  },
  {
   "cell_type": "code",
   "execution_count": 20,
   "id": "650c4846",
   "metadata": {},
   "outputs": [
    {
     "name": "stdout",
     "output_type": "stream",
     "text": [
      "[1 2 3]\n",
      "[1 2 3]\n",
      "[1 2 3]\n",
      "[9 2 3]\n"
     ]
    }
   ],
   "source": [
    "# b를 np.array로 선언한 후 같은 연산을 진행하면\n",
    "a = np.array([1, 2, 3])\n",
    "print(a)\n",
    "b = np.array(a)\n",
    "print(b)\n",
    "\n",
    "b[0] = 9\n",
    "print(a)\n",
    "print(b)\n",
    "# A가 변경되지 않는 것을 알 수 있다. \n",
    "# np.array로 생성시, 다른 메모리를 바라보는 새로운 개체가 copy되나,\n",
    "# np.asarray로 생성시, 같은 메모리를 바라보는 개체를 생성한다."
   ]
  },
  {
   "cell_type": "code",
   "execution_count": 21,
   "id": "20651d88",
   "metadata": {},
   "outputs": [
    {
     "name": "stdout",
     "output_type": "stream",
     "text": [
      "[[0. 0. 0. 0.]\n",
      " [0. 0. 0. 0.]\n",
      " [0. 0. 0. 0.]]\n"
     ]
    }
   ],
   "source": [
    "# zeros\n",
    "# 지정한 형태에 따라 0이 채워진 Matrix 생성\n",
    "a = np.zeros((3, 4))\n",
    "print(a)"
   ]
  },
  {
   "cell_type": "code",
   "execution_count": 23,
   "id": "f1755532",
   "metadata": {},
   "outputs": [
    {
     "name": "stdout",
     "output_type": "stream",
     "text": [
      "[[1. 1. 1. 1.]\n",
      " [1. 1. 1. 1.]\n",
      " [1. 1. 1. 1.]]\n"
     ]
    }
   ],
   "source": [
    "# ones\n",
    "# 지정한 형태에 따라 1이 채워진 Matrix 생성\n",
    "a = np.ones((3, 4))\n",
    "print(a)"
   ]
  },
  {
   "cell_type": "code",
   "execution_count": 25,
   "id": "80211975",
   "metadata": {},
   "outputs": [
    {
     "name": "stdout",
     "output_type": "stream",
     "text": [
      "[[10 10 10 10]\n",
      " [10 10 10 10]\n",
      " [10 10 10 10]]\n"
     ]
    }
   ],
   "source": [
    "# full\n",
    "# 지정한 형태에 따라 지정한 숫자가 채워진 Matrix 생성\n",
    "a = np.full((3, 4), 10)\n",
    "print(a)"
   ]
  },
  {
   "cell_type": "code",
   "execution_count": 33,
   "id": "e4e233d8",
   "metadata": {},
   "outputs": [
    {
     "name": "stdout",
     "output_type": "stream",
     "text": [
      "[[0.000e+000 0.000e+000 0.000e+000]\n",
      " [0.000e+000 0.000e+000 1.063e-320]\n",
      " [0.000e+000 0.000e+000 0.000e+000]]\n"
     ]
    }
   ],
   "source": [
    "# empty\n",
    "# 지정한 형태에 따라 공간만생성\n",
    "b = np.empty((3, 3))\n",
    "print(b)"
   ]
  },
  {
   "cell_type": "code",
   "execution_count": 35,
   "id": "3974f32a",
   "metadata": {},
   "outputs": [
    {
     "name": "stdout",
     "output_type": "stream",
     "text": [
      "[[1. 1. 1. 1.]\n",
      " [1. 1. 1. 1.]\n",
      " [1. 1. 1. 1.]]\n",
      "[[0. 0. 0. 0.]\n",
      " [0. 0. 0. 0.]\n",
      " [0. 0. 0. 0.]]\n"
     ]
    }
   ],
   "source": [
    "# _like\n",
    "# 선언된 개체의 형태에 따라 Matrix 생성\n",
    "a = np.ones((3, 4))\n",
    "b = np.zeros_like(a)\n",
    "print(a)\n",
    "print(b)"
   ]
  },
  {
   "cell_type": "code",
   "execution_count": 37,
   "id": "e2aa133a",
   "metadata": {},
   "outputs": [
    {
     "name": "stdout",
     "output_type": "stream",
     "text": [
      "[[22 22 22 22 22]\n",
      " [22 22 22 22 22]\n",
      " [22 22 22 22 22]]\n",
      "[[1 1 1 1 1]\n",
      " [1 1 1 1 1]\n",
      " [1 1 1 1 1]]\n"
     ]
    }
   ],
   "source": [
    "a = np.full((3, 5), 22)\n",
    "b = np.ones_like(a)\n",
    "print(a)\n",
    "print(b)"
   ]
  },
  {
   "cell_type": "code",
   "execution_count": 40,
   "id": "e895c19f",
   "metadata": {},
   "outputs": [
    {
     "name": "stdout",
     "output_type": "stream",
     "text": [
      "[[0.000e+000 0.000e+000 0.000e+000]\n",
      " [0.000e+000 0.000e+000 1.063e-320]\n",
      " [0.000e+000 0.000e+000 0.000e+000]]\n",
      "[[3. 3. 3.]\n",
      " [3. 3. 3.]\n",
      " [3. 3. 3.]]\n"
     ]
    }
   ],
   "source": [
    "a = np.empty((3, 3))\n",
    "b = np.full_like(a, 3)\n",
    "print(a)\n",
    "print(b)"
   ]
  },
  {
   "cell_type": "code",
   "execution_count": 45,
   "id": "8d99314f",
   "metadata": {},
   "outputs": [
    {
     "name": "stdout",
     "output_type": "stream",
     "text": [
      "[[0. 0. 0. 0. 0. 0.]\n",
      " [0. 0. 0. 0. 0. 0.]\n",
      " [0. 0. 0. 0. 0. 0.]]\n",
      "[[0. 0. 0. 0. 0. 0.]\n",
      " [0. 0. 0. 0. 0. 0.]\n",
      " [0. 0. 0. 0. 0. 0.]]\n"
     ]
    }
   ],
   "source": [
    "a = np.zeros((3, 6))\n",
    "b = np.empty_like(a)\n",
    "print(a)\n",
    "print(b)"
   ]
  },
  {
   "cell_type": "code",
   "execution_count": 48,
   "id": "a2943ee0",
   "metadata": {},
   "outputs": [
    {
     "name": "stdout",
     "output_type": "stream",
     "text": [
      "[[1. 0. 0.]\n",
      " [0. 1. 0.]\n",
      " [0. 0. 1.]]\n",
      "[[1. 0. 0.]\n",
      " [0. 1. 0.]\n",
      " [0. 0. 1.]]\n"
     ]
    }
   ],
   "source": [
    "# eyes / identity\n",
    "# 항등행렬\n",
    "i = np.eye(3)\n",
    "j = np.identity(3)\n",
    "print(i)\n",
    "print(j)"
   ]
  },
  {
   "cell_type": "code",
   "execution_count": 66,
   "id": "e9d7ed0c",
   "metadata": {},
   "outputs": [
    {
     "name": "stdout",
     "output_type": "stream",
     "text": [
      "[0 1 2 3 4 5 6 7 8 9]\n",
      "[ 1  2  3  4  5  6  7  8  9 10 11 12 13 14 15 16 17 18 19 20]\n",
      "[20 19 18 17 16 15 14 13 12 11 10  9  8  7  6  5  4  3  2  1]\n"
     ]
    }
   ],
   "source": [
    "# arange\n",
    "# 옵션 : (시적점-이상, 종료점-미만, 방향성)\n",
    "k = np.arange(10)\n",
    "print(k)\n",
    "k = np.arange(1, 21)\n",
    "print(k)\n",
    "k = np.arange(20, 0, -1)\n",
    "print(k)"
   ]
  },
  {
   "cell_type": "code",
   "execution_count": 69,
   "id": "057cf5f7",
   "metadata": {},
   "outputs": [
    {
     "name": "stdout",
     "output_type": "stream",
     "text": [
      "[]\n",
      "[]\n",
      "[10  9  8  7  6  5  4  3  2  1  0]\n",
      "[10  9  8  7  6  5  4  3  2  1  0]\n"
     ]
    }
   ],
   "source": [
    "# 이게 왜 빈 행렬로 보이냐면\n",
    "k = np.arange(10, -1)\n",
    "print(k) \n",
    "# 방향성은 Default 양의 방향인데, 양의 방향으로 10부터 -1까지 존재하는 숫자가 없으므로\n",
    "k = np.arange(10, -1, 1)\n",
    "print(k) \n",
    "# 그러므로 이렇게 표기해주거나 (뱡향성을 올바르게)\n",
    "k = np.arange(10, -1, -1)\n",
    "print(k)\n",
    "# 이렇게 표기해줘야한다. (시점과 종점을 올바르게)\n",
    "K = np.arange(-1, 10)\n",
    "print(k)"
   ]
  },
  {
   "cell_type": "code",
   "execution_count": 71,
   "id": "53f21d57",
   "metadata": {},
   "outputs": [
    {
     "name": "stdout",
     "output_type": "stream",
     "text": [
      "[[0.50928914 0.30459488]\n",
      " [0.48165585 0.21343275]]\n"
     ]
    }
   ],
   "source": [
    "# rand\n",
    "# Uniform Distribution 0~1 값을 모두가 똑같은 확률로 생성\n",
    "l = np.random.rand(2, 2)\n",
    "print(l)"
   ]
  },
  {
   "cell_type": "code",
   "execution_count": 73,
   "id": "01c175ca",
   "metadata": {},
   "outputs": [
    {
     "name": "stdout",
     "output_type": "stream",
     "text": [
      "[[ 0.49739903 -0.54311415]\n",
      " [ 0.58869984  0.48782192]]\n"
     ]
    }
   ],
   "source": [
    "# randn\n",
    "# Normal Distribution (표준 정규분포)에 따른 확률로 생성\n",
    "m = np.random.randn(2, 2)\n",
    "print(m)"
   ]
  },
  {
   "cell_type": "code",
   "execution_count": 76,
   "id": "ed6958d0",
   "metadata": {},
   "outputs": [
    {
     "name": "stdout",
     "output_type": "stream",
     "text": [
      "int32 float64 int32\n"
     ]
    }
   ],
   "source": [
    "#■■■■■■■■■■■■■■■■■■■■■■■■■■■■■■■■■■■■■■■■■\n",
    "a = np.array([1, 2, 3])\n",
    "b = np.array([1, 2, 3], dtype = np.float64)\n",
    "c = np.array([1, 2, 3], dtype = np.int32)\n",
    "\n",
    "print(a.dtype, b.dtype, c.dtype)"
   ]
  },
  {
   "cell_type": "code",
   "execution_count": null,
   "id": "b5e1b434",
   "metadata": {},
   "outputs": [],
   "source": [
    "a = np.array([1, 2, 3])\n",
    "b = np.array([1, 2, 3], dtype = np.float64)\n",
    "c = np.array([1, 2, 3], dtype = np.int32)"
   ]
  }
 ],
 "metadata": {
  "kernelspec": {
   "display_name": "Python 3 (ipykernel)",
   "language": "python",
   "name": "python3"
  },
  "language_info": {
   "codemirror_mode": {
    "name": "ipython",
    "version": 3
   },
   "file_extension": ".py",
   "mimetype": "text/x-python",
   "name": "python",
   "nbconvert_exporter": "python",
   "pygments_lexer": "ipython3",
   "version": "3.9.12"
  }
 },
 "nbformat": 4,
 "nbformat_minor": 5
}
