{
 "cells": [
  {
   "cell_type": "markdown",
   "id": "1682ea36",
   "metadata": {},
   "source": [
    "Ref : 패스트캠퍼스 - 초격차 패키지 : 한 번에 끝내는 딥러닝/인공지능  \n",
    "데이터 사이언스 기초(파이썬) - 데이어 타입과 컬렉션 - 기본 타입 및 변수의 이해 01/02"
   ]
  },
  {
   "cell_type": "markdown",
   "id": "ae7984a6",
   "metadata": {},
   "source": [
    "# <변수>  "
   ]
  },
  {
   "cell_type": "markdown",
   "id": "c27baca6",
   "metadata": {},
   "source": [
    "- 데이터를 저장하는 공간, 변수  \n",
    "- 저장공간(Memory)에 값을 생성하고 이름(Name)을 지정  \n",
    "- = (대입 연산자)를 사용하여 왼쪽은 변수명, 오른쪽은 데이터가 위치  "
   ]
  },
  {
   "cell_type": "code",
   "execution_count": 1,
   "id": "2b6fd0de",
   "metadata": {},
   "outputs": [],
   "source": [
    "a = 10\n",
    "b = 11.4"
   ]
  },
  {
   "cell_type": "markdown",
   "id": "15f3fb9c",
   "metadata": {},
   "source": [
    "# <연산자>"
   ]
  },
  {
   "cell_type": "markdown",
   "id": "a0e45cd8",
   "metadata": {},
   "source": [
    "1) 대입 연산자 =  \n",
    " : 대입의 경우, 오른쪽의 수식이나 값을 Evaluation(여기서는 계산) 한 뒤,  \n",
    "   왼쪽에 명시된 변수에 오른쪽에 명시된 값을 대입.  \n",
    "   (변수는 해당 값을 가지게 됨.)\n",
    "   \n",
    "2) 비교 연산자 ==, !=  \n",
    " : 두 변수가  \n",
    " == (같은 값을 가지고 있는지)  \n",
    " != (다른 값을 가지고 있는지)  \n",
    " 비교  "
   ]
  },
  {
   "cell_type": "markdown",
   "id": "10850d31",
   "metadata": {},
   "source": [
    "# <주석 (Comment)>"
   ]
  },
  {
   "cell_type": "markdown",
   "id": "3fc74edd",
   "metadata": {},
   "source": [
    "- Code에서 #으로 시작하는 부분은 실행되지 않음\n",
    "- Python이 Src Code를 실행하면서 #을 만나면 무시\n",
    "- 개발자가 보기 위한 용도로 사용"
   ]
  },
  {
   "cell_type": "code",
   "execution_count": 6,
   "id": "9e68f28d",
   "metadata": {},
   "outputs": [
    {
     "name": "stdout",
     "output_type": "stream",
     "text": [
      "10\n",
      "False\n",
      "True\n",
      "11.4\n",
      "True\n",
      "False\n"
     ]
    }
   ],
   "source": [
    "a = 10 ## Int\n",
    "b = 11.4 ## Float\n",
    "print(a)\n",
    "print(a == b)\n",
    "print(a != b)\n",
    "\n",
    "## B -> A 대입\n",
    "a = b\n",
    "print(a)\n",
    "print(a == b)\n",
    "print(a != b)"
   ]
  },
  {
   "cell_type": "markdown",
   "id": "73a73f68",
   "metadata": {},
   "source": [
    "# <Print 함수>"
   ]
  },
  {
   "cell_type": "markdown",
   "id": "be1ddf74",
   "metadata": {},
   "source": [
    "- 함수란 특정 기능을 반복적으로 호출하여 사용 가능한 코드 블럭  \n",
    "- 입력된 변수의 값을 출력  \n",
    "- ,(Comma) 로 여러 변수를 나열하면 한 줄로 출력 가능  \n",
    "- 기본적으로, 한 칸 띄어쓰기 후 출력  \n",
    "\n",
    "  \n",
    "- Option  \n",
    "    - sep : 구분자. 각 출력 변수 사이를 구분하는 역할 (Default : \" \" (Space))  \n",
    "    - end : 마지막에 출력할 문자열 (Default : \"\\n\"(New line))"
   ]
  },
  {
   "cell_type": "code",
   "execution_count": 22,
   "id": "b33df7cd",
   "metadata": {},
   "outputs": [
    {
     "name": "stdout",
     "output_type": "stream",
     "text": [
      "100\n",
      "114\n",
      "228\n",
      "100 114 228\n",
      "100  /  114  /  228\n",
      "100 / 114 / 228\n",
      "\n",
      "\n",
      "100 * 114 * 228!!!442\n"
     ]
    }
   ],
   "source": [
    "a = 100\n",
    "b = 114\n",
    "c = 228\n",
    "\n",
    "print(a)\n",
    "print(b)\n",
    "print(c)\n",
    "print(a, b, c)\n",
    "print(a, \" / \",b, \" / \", c)\n",
    "print(a, b, c, sep = ' / ', end = '\\n\\n\\n')\n",
    "print(a, b, c, sep = ' * ', end = '!!!') \n",
    "## Default end값인 \"\\n\"이 대체되서, 개행이 되지 않음을 볼 수 있음.\n",
    "print(a + b + c)"
   ]
  },
  {
   "cell_type": "markdown",
   "id": "db4c85ea",
   "metadata": {},
   "source": [
    "### Print를 사용하지 않고도 변수의 값을 확인할 수 있다.\n",
    "- 변수의 값을 코드 마지막에 위치시킨 후 실행  \n",
    ": 이 경우, output으로 변수의 값이 출력된다."
   ]
  },
  {
   "cell_type": "code",
   "execution_count": 23,
   "id": "4e51d4d1",
   "metadata": {},
   "outputs": [
    {
     "data": {
      "text/plain": [
       "(1, 2)"
      ]
     },
     "execution_count": 23,
     "metadata": {},
     "output_type": "execute_result"
    }
   ],
   "source": [
    "a = 1\n",
    "b = 2\n",
    "a\n",
    "b\n",
    "a, b\n",
    "## Out : (1, 2)\n",
    "## 마지막 값만 Output으로 출력되는 것을 알 수 있다.\n",
    "\n",
    "# print는 그냥 함수의 출력이고.\n",
    "# Output은 해당 Cell의 출력값임."
   ]
  },
  {
   "cell_type": "markdown",
   "id": "42e0d8dd",
   "metadata": {},
   "source": [
    "# <Variable Naming (변수 이름 규칙)>"
   ]
  },
  {
   "cell_type": "markdown",
   "id": "f7cf24b7",
   "metadata": {},
   "source": [
    "- 숫자로 시작하는 이름을 제외하고 영문 대소문자, _, 숫자로 구성 가능  \n",
    "- 아래 예시는 모두 Valid한 변수명  \n",
    "- 일반적으로 해당 변수를 표현하고자 하는 정확하고 간결한 이름을 사용하는 것이 원칙\n",
    "    - 코드를 더욱 쉽게 읽을 수 있음\n",
    "    - Ex) a = 1000의 경우보다 Student_Num = 1000으로 명시한 것이 더욱 가독성이 좋아짐"
   ]
  },
  {
   "cell_type": "code",
   "execution_count": 25,
   "id": "22c2bed0",
   "metadata": {},
   "outputs": [
    {
     "data": {
      "text/plain": [
       "(100, 200, 300, 400, 500, 600)"
      ]
     },
     "execution_count": 25,
     "metadata": {},
     "output_type": "execute_result"
    }
   ],
   "source": [
    "abcABC = 100\n",
    "ABCabc = 200\n",
    "abc123 = 300\n",
    "ABC123 = 400\n",
    "_abc123 = 500\n",
    "a123BC = 600\n",
    "\n",
    "abcABC ,ABCabc ,abc123, ABC123, _abc123, a123BC \n",
    "## Out : (100, 200, 300, 400, 500, 600)"
   ]
  },
  {
   "cell_type": "markdown",
   "id": "fc7611fe",
   "metadata": {},
   "source": [
    "### Invalid한 변수 예시\n",
    "- 왜 변수명을 숫자로 시작하면 안될까>\n",
    "    - \"4 = 9\"를 코드로 입력하게 되면, print(4)의 결과값이 9가 되어버린다.\n",
    "    - 그렇기에 그런 부분은 미리 방지되어있다."
   ]
  },
  {
   "cell_type": "code",
   "execution_count": 27,
   "id": "6e311593",
   "metadata": {},
   "outputs": [
    {
     "ename": "SyntaxError",
     "evalue": "invalid syntax (472781762.py, line 1)",
     "output_type": "error",
     "traceback": [
      "\u001b[1;36m  Input \u001b[1;32mIn [27]\u001b[1;36m\u001b[0m\n\u001b[1;33m    123ABC = 100\u001b[0m\n\u001b[1;37m       ^\u001b[0m\n\u001b[1;31mSyntaxError\u001b[0m\u001b[1;31m:\u001b[0m invalid syntax\n"
     ]
    }
   ],
   "source": [
    "123ABC = 100\n",
    "## SyntaxError: invalid syntax"
   ]
  },
  {
   "cell_type": "markdown",
   "id": "228c56f3",
   "metadata": {},
   "source": [
    "### Reserved Keywords (예약어)"
   ]
  },
  {
   "cell_type": "markdown",
   "id": "8fdbb266",
   "metadata": {},
   "source": [
    "- Python에서 미리 선점하여 사용중인 키워드\n",
    "- 변수, 함수, 클래스 등 사용자 정의 이름으로 사용할 수 없음.\n",
    "- 예약어는 Jupyter Notebook 상에서 입력될 경우, 초록색으로 표기된다."
   ]
  },
  {
   "cell_type": "code",
   "execution_count": 5,
   "id": "a6cab157",
   "metadata": {},
   "outputs": [
    {
     "ename": "SyntaxError",
     "evalue": "invalid syntax (2423849191.py, line 1)",
     "output_type": "error",
     "traceback": [
      "\u001b[1;36m  Input \u001b[1;32mIn [5]\u001b[1;36m\u001b[0m\n\u001b[1;33m    class = 1\u001b[0m\n\u001b[1;37m          ^\u001b[0m\n\u001b[1;31mSyntaxError\u001b[0m\u001b[1;31m:\u001b[0m invalid syntax\n"
     ]
    }
   ],
   "source": [
    "class\n",
    "for\n",
    "while\n",
    "if\n",
    "elif\n",
    "else\n",
    "try\n",
    "except\n",
    "## SyntaxError: invalid syntax"
   ]
  },
  {
   "cell_type": "markdown",
   "id": "a5a56f2d",
   "metadata": {},
   "source": [
    "- 정 예약어에 사용된 단어로 변수를 만들고 싶다면, _(언더바)를 붙여서 선언한다"
   ]
  },
  {
   "cell_type": "code",
   "execution_count": 7,
   "id": "aafedf1c",
   "metadata": {},
   "outputs": [
    {
     "name": "stdout",
     "output_type": "stream",
     "text": [
      "1\n"
     ]
    }
   ],
   "source": [
    "_class = 1\n",
    "print(_class)\n",
    "## 1"
   ]
  },
  {
   "cell_type": "markdown",
   "id": "7f6f75c9",
   "metadata": {},
   "source": [
    "# <기본 데이터 타입>"
   ]
  },
  {
   "cell_type": "markdown",
   "id": "3aa3c635",
   "metadata": {},
   "source": [
    "- 정수 (Int)\n",
    "- 실수 (Float)\n",
    "- 문자열 (Str)\n",
    "- 불리언 (Boolean)"
   ]
  },
  {
   "cell_type": "markdown",
   "id": "24378f52",
   "metadata": {},
   "source": [
    "### type 함수\n",
    "- 해당 변수나 값의 타입(Type)을 알기 위해 사용"
   ]
  },
  {
   "cell_type": "code",
   "execution_count": 7,
   "id": "884a46f6",
   "metadata": {},
   "outputs": [
    {
     "name": "stdout",
     "output_type": "stream",
     "text": [
      "<class 'int'>\n"
     ]
    },
    {
     "data": {
      "text/plain": [
       "float"
      ]
     },
     "execution_count": 7,
     "metadata": {},
     "output_type": "execute_result"
    }
   ],
   "source": [
    "a = 10\n",
    "b = 11.45\n",
    "\n",
    "print(type(a))\n",
    "## <class 'int'>\n",
    "type(b)\n",
    "## Out : float"
   ]
  },
  {
   "cell_type": "markdown",
   "id": "3e92cfe2",
   "metadata": {},
   "source": [
    "### None\n",
    "- 아무런 값을 갖지 않을 때 사용\n",
    "- 일반적으로 변수가 초기 값을 갖지 않게 하여 해당 변수를 생성할 때 사용\n",
    "- 다른 언어의 Null, nil 등과 같은 의미"
   ]
  },
  {
   "cell_type": "code",
   "execution_count": 11,
   "id": "52462eab",
   "metadata": {},
   "outputs": [
    {
     "name": "stdout",
     "output_type": "stream",
     "text": [
      "None\n"
     ]
    }
   ],
   "source": [
    "## 만약, z라는 변수가 선언되어있지 않은 상태에서\n",
    "## z를 호출하게 되면\n",
    "# z\n",
    "## 오류가 발생한다.\n",
    "## NameError: name 'z' is not defined\n",
    "\n",
    "## 이 때, 초기값이 없는 변수로서 선언하고 싶은 경우,\n",
    "## 아래와 같이 None으로 선언할 수 있다.\n",
    "z = None\n",
    "\n",
    "print(z)\n",
    "## None"
   ]
  },
  {
   "cell_type": "markdown",
   "id": "785f6923",
   "metadata": {},
   "source": [
    "### Comparison Operator (비교 연산자)\n",
    "- 프로그래밍에서 비교를 수행할 경우, =(대입) 대신 ==(비교)를 사용\n",
    "- <, > (작다, 크다)\n",
    "- <=, >= (작거나 같다, 크거나 같다)\n",
    "- == (같다)\n",
    "- != (같지 않다)\n",
    "\n",
    "\n",
    "- 비교 연산자의 결과는 Bool Type"
   ]
  },
  {
   "cell_type": "code",
   "execution_count": 15,
   "id": "e97bf070",
   "metadata": {},
   "outputs": [
    {
     "name": "stdout",
     "output_type": "stream",
     "text": [
      "False\n",
      "True\n",
      "False\n",
      "True\n",
      "False\n",
      "True\n"
     ]
    }
   ],
   "source": [
    "a = 1\n",
    "b = 3\n",
    "\n",
    "print(a > b)\n",
    "print(a < b)\n",
    "print(a >= b)\n",
    "print(a <= b)\n",
    "print(a == b)\n",
    "print(a != b)\n"
   ]
  },
  {
   "cell_type": "markdown",
   "id": "45b2ddcc",
   "metadata": {},
   "source": [
    "### Numbers (숫자형 타입)\n",
    "- 정수, 실수로 구성\n",
    "- 수학의 기본 연산자(가감승제) 사용 가능"
   ]
  },
  {
   "cell_type": "code",
   "execution_count": 17,
   "id": "b39ba90f",
   "metadata": {},
   "outputs": [
    {
     "name": "stdout",
     "output_type": "stream",
     "text": [
      "8\n",
      "2\n",
      "15\n",
      "1.6666666666666667\n",
      "2\n",
      "125\n"
     ]
    }
   ],
   "source": [
    "a = 5\n",
    "b = 3\n",
    "\n",
    "print(a + b) ## 덧셈\n",
    "print(a - b) ## 뺄셈\n",
    "print(a * b) ## 곱셉\n",
    "print(a / b) ## 나눗셈\n",
    "print(a % b) ## a를 비로 나눈 나머지\n",
    "print(a ** b) ## a^b 제곱"
   ]
  },
  {
   "cell_type": "markdown",
   "id": "406f1715",
   "metadata": {},
   "source": [
    "### Operator Priorities (연산자 우선순위)\n",
    "- 파이썬에서의 수학 연산은 기본적인 수학 연산과 동일\n",
    "- 연산의 순서를 지정해주기 위해, 괄호()를 사용할 수 있음."
   ]
  },
  {
   "cell_type": "code",
   "execution_count": 19,
   "id": "478bf4f6",
   "metadata": {
    "scrolled": true
   },
   "outputs": [
    {
     "name": "stdout",
     "output_type": "stream",
     "text": [
      "34\n",
      "54\n"
     ]
    }
   ],
   "source": [
    "a = 4\n",
    "b = 5\n",
    "\n",
    "print(a + b * 6)\n",
    "print((a + b) * 6)"
   ]
  },
  {
   "cell_type": "markdown",
   "id": "aa0183a9",
   "metadata": {},
   "source": [
    "#### 연습문제_다음의 각 a값을 출력했을 때의 결과는?"
   ]
  },
  {
   "cell_type": "code",
   "execution_count": 22,
   "id": "5053f165",
   "metadata": {},
   "outputs": [
    {
     "name": "stdout",
     "output_type": "stream",
     "text": [
      "9\n",
      "6\n",
      "9\n"
     ]
    }
   ],
   "source": [
    "a = 9\n",
    "print(a)\n",
    "print(a - 3)\n",
    "print(a)\n",
    "\n",
    "## print를 한다고 해서, 변수의 값 자체가 바뀌지는 않는다.\n",
    "## 변수의 값이 바뀌려면, = (대입)을 사용하여 직접 변경되어야만 함."
   ]
  },
  {
   "cell_type": "markdown",
   "id": "8004133c",
   "metadata": {},
   "source": [
    "### Expression evaluation & assignmant (식평가 & 대입)\n",
    "- 변수의 값이 변경되기 위해서는, = (대입) 연산자가 사용되어야 함"
   ]
  },
  {
   "cell_type": "code",
   "execution_count": 26,
   "id": "dd1f5183",
   "metadata": {},
   "outputs": [
    {
     "name": "stdout",
     "output_type": "stream",
     "text": [
      "9\n"
     ]
    }
   ],
   "source": [
    "## 대입 X\n",
    "a = 9\n",
    "a - 3\n",
    "print(a)\n",
    "## 9"
   ]
  },
  {
   "cell_type": "code",
   "execution_count": 32,
   "id": "d8867fc8",
   "metadata": {},
   "outputs": [
    {
     "name": "stdout",
     "output_type": "stream",
     "text": [
      "6\n",
      "9\n",
      "3\n",
      "9\n",
      "3.0\n",
      "9.0\n"
     ]
    }
   ],
   "source": [
    "## 대입\n",
    "a = 9\n",
    "a = a - 3\n",
    "print(a)\n",
    "## 6\n",
    "\n",
    "## 이를 간략하게 표현하자면\n",
    "a += 3\n",
    "print(a)\n",
    "a -= 3*2\n",
    "print(a)\n",
    "a *= 3\n",
    "print(a)\n",
    "a /= 3\n",
    "print(a)\n",
    "a **= 2\n",
    "print(a)\n",
    "## 사칙연산 모두 적용 가능"
   ]
  },
  {
   "cell_type": "code",
   "execution_count": null,
   "id": "8bf7d0c2",
   "metadata": {},
   "outputs": [],
   "source": []
  }
 ],
 "metadata": {
  "kernelspec": {
   "display_name": "Python 3 (ipykernel)",
   "language": "python",
   "name": "python3"
  },
  "language_info": {
   "codemirror_mode": {
    "name": "ipython",
    "version": 3
   },
   "file_extension": ".py",
   "mimetype": "text/x-python",
   "name": "python",
   "nbconvert_exporter": "python",
   "pygments_lexer": "ipython3",
   "version": "3.9.12"
  }
 },
 "nbformat": 4,
 "nbformat_minor": 5
}
