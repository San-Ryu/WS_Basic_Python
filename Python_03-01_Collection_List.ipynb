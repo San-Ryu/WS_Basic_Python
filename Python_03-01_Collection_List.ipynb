{
 "cells": [
  {
   "cell_type": "markdown",
   "id": "f0ce7efd",
   "metadata": {},
   "source": [
    "Ref : 패스트캠퍼스 - 초격차 패키지 : 한 번에 끝내는 딥러닝/인공지능  \n",
    "데이터 사이언스 기초(파이썬) - 데이어 타입과 컬렉션 - 컬렉션 타입의 이해_List 1 & 2"
   ]
  },
  {
   "cell_type": "markdown",
   "id": "740642ce",
   "metadata": {},
   "source": [
    "# <컬렉션 (Collection)>\n",
    "- 어떤 것들의 모음\n",
    "- List, Tuple, Dict, Set  "
   ]
  },
  {
   "cell_type": "markdown",
   "id": "6d8f3890",
   "metadata": {},
   "source": [
    "### 리스트 (List)\n",
    "- 복수의 값을 담을 수 있는 데이터 구조\n",
    "- 실생활에서 사용하는 리스트와 동일한 의미로 이해해도 무관하다.  \n",
    "  (학생 명단, 맛집 리스트 등)\n",
    "- List는 Mutable (생성 후 변경 가능)\n",
    "  그러나, Tuple은 Immutable (생성 후에는 변경 불가)"
   ]
  },
  {
   "cell_type": "markdown",
   "id": "f6dbb7ad",
   "metadata": {},
   "source": [
    "#### List_선언"
   ]
  },
  {
   "cell_type": "markdown",
   "id": "927345f0",
   "metadata": {},
   "source": [
    "1) [] (대괄호) 안에 값을 담아서 생성 "
   ]
  },
  {
   "cell_type": "code",
   "execution_count": 30,
   "id": "7f9599e3",
   "metadata": {},
   "outputs": [
    {
     "name": "stdout",
     "output_type": "stream",
     "text": [
      "[]\n",
      "[1, 2, 3, 4, 5]\n",
      "5\n",
      "[1, 'Korea', 'Singapole', 'English', 20, [2, 4, 5]]\n",
      "21\n"
     ]
    }
   ],
   "source": [
    "## 빈 리스트\n",
    "ls_a = []\n",
    "print(ls_a)\n",
    "\n",
    "## Comma 구분자를 통해 여러 데이터를 추가 가능\n",
    "ls_a = [1, 2, 3, 4, 5]\n",
    "print(ls_a)\n",
    "print(ls_a[1] + ls_a[2]) ## 각 원소의 합이 \n",
    "\n",
    "## 숫자만이 아니라, Char이나 String 및 또다른 List를 항목 값으로 추가 가능\n",
    "ls_a = [1, \"Korea\", \"Singapole\", \"English\", 20, [2, 4, 5]]\n",
    "print(ls_a)\n",
    "print(ls_a[0] + ls_a[4])\n",
    "## 각각 Int형이므로 연산 가능\n",
    "## 21\n",
    "# print(a[0] + a[5]) \n",
    "## Int와 List 연산이므로 지원되지 않음\n",
    "## TypeError: unsupported operand type(s) for +: 'int' and 'list'"
   ]
  },
  {
   "cell_type": "markdown",
   "id": "fab4d022",
   "metadata": {},
   "source": [
    "2) list() 함수로 생성  \n",
    "- 다른 데이터 타입을 리스트로 변환할 때 사용  "
   ]
  },
  {
   "cell_type": "code",
   "execution_count": 32,
   "id": "4527554c",
   "metadata": {},
   "outputs": [
    {
     "name": "stdout",
     "output_type": "stream",
     "text": [
      "hello, my nick is upperstring\n",
      "['h', 'e', 'l', 'l', 'o', ',', ' ', 'm', 'y', ' ', 'n', 'i', 'c', 'k', ' ', 'i', 's', ' ', 'u', 'p', 'p', 'e', 'r', 's', 't', 'r', 'i', 'n', 'g']\n",
      "(100, 20, 3000)\n",
      "[100, 20, 3000]\n"
     ]
    }
   ],
   "source": [
    "str_b = 'hello, my nick is upperstring' ## Str\n",
    "ls_b = list(str_b)\n",
    "print(str_b)\n",
    "print(ls_b)\n",
    "## list() 함수는 주어진 다른 타입의 데이터를 List로 변환하는 역할을 한다.\n",
    "## Str : Char(문자) 단위로 분해하여 List의 원소로 변환\n",
    "\n",
    "\n",
    "# b01 = 200\n",
    "# print(b01)\n",
    "# b02 = list(b01)\n",
    "# print(b02)\n",
    "## Int : 사용 불가 (TypeError: 'int' object is not iterable)\n",
    "\n",
    "ls_b01 = (100, 20, 3000)\n",
    "ls_b02 = list(ls_b01)\n",
    "print(ls_b01)\n",
    "print(ls_b02)\n",
    "## Tuple : Tuple의 각 원소를 포함하는 List로 변환"
   ]
  },
  {
   "cell_type": "markdown",
   "id": "aaf15917",
   "metadata": {},
   "source": [
    "3) str.split() 함수로 생성\n",
    "- 구분자로 구분되는 리스트를 반환 (사용 빈도 높음)"
   ]
  },
  {
   "cell_type": "code",
   "execution_count": 33,
   "id": "d07e8dba",
   "metadata": {},
   "outputs": [
    {
     "name": "stdout",
     "output_type": "stream",
     "text": [
      "1, 2, 3, 4, 5, Good day\n",
      "['1,', '2,', '3,', '4,', '5,', 'Good', 'day']\n",
      "1, 2, 3, 4, 5\n",
      "['1', ' 2', ' 3', ' 4', ' 5']\n",
      " 2 3\n"
     ]
    }
   ],
   "source": [
    "str_c = \"1, 2, 3, 4, 5, Good day\"\n",
    "ls_c = str.split(str_c, \" \")\n",
    "print(str_c)\n",
    "print(ls_c)\n",
    "\n",
    "## QQ. 그러면 str.split()을 통해 변환된 List의 각 원소가 숫자일 경우,\n",
    "##     앞서 본 A의 케이스처럼 Int 연산이 가능할까?\n",
    "ls_c01 = \"1, 2, 3, 4, 5\"\n",
    "ls_c02 = str.split(ls_c01, \",\")\n",
    "print(ls_c01)\n",
    "print(ls_c02)\n",
    "print(ls_c02[1] + ls_c02[2])\n",
    "## 불가능. 저건 String으로부터 분리된 char(단어)이므로 String처럼 합쳐진다.\n",
    "## 2 3 "
   ]
  },
  {
   "cell_type": "markdown",
   "id": "a50084e8",
   "metadata": {},
   "source": [
    "#### List_Indexing\n",
    "- String의 인덱싱과 동일하게 동작  \n",
    "- [] 연산자를 이용하여 항목을 얻어올 수 있음  \n",
    "- [i] : (i - 1)번째 원소를 반환  \n",
    "- i가 음수인 경우에도 가능하다.  \n",
    "  단, 마지막 원소 [-1] 기준으로, 점점 감소\n",
    "- 문자열과의 차이는, Indexing을 통해 값을 업데이트할 수 있다는 것.  \n",
    "  (String은 Immutable, List는 Mutable한 타입이기 때문)"
   ]
  },
  {
   "cell_type": "code",
   "execution_count": 34,
   "id": "1715eb91",
   "metadata": {},
   "outputs": [
    {
     "name": "stdout",
     "output_type": "stream",
     "text": [
      "[1, 'Korea', 'Singapole', 'English', 20, [2, 4, 5]]\n",
      "Korea\n",
      "20\n",
      "['Singapole', 'English', 20]\n",
      "[2, 4, 5]\n",
      "English\n"
     ]
    }
   ],
   "source": [
    "## Indexing\n",
    "## 앞에서 사용했던 ls_a를 예로 들어보자\n",
    "ls_a = [1, \"Korea\", \"Singapole\", \"English\", 20, [2, 4, 5]]\n",
    "print(ls_a)\n",
    "\n",
    "## 일반적인 Indexing\n",
    "ls_a01 = ls_a[1]\n",
    "print(ls_a01)\n",
    "ls_a02 = a[4]\n",
    "print(ls_a02)\n",
    "\n",
    "## 범위 Indexing\n",
    "ls_a03 = ls_a[2:5]\n",
    "print(ls_a03)\n",
    "\n",
    "## Index Number는 연산이 가능하다.\n",
    "ls_a04 = ls_a[1-2] ## = -1\n",
    "print(ls_a04)\n",
    "\n",
    "## 음수 Indexing\n",
    "ls_a05 = ls_a[-3]\n",
    "print(ls_a05)"
   ]
  },
  {
   "cell_type": "code",
   "execution_count": 36,
   "id": "260ed357",
   "metadata": {},
   "outputs": [
    {
     "name": "stdout",
     "output_type": "stream",
     "text": [
      "[1, 'Korea', 'Singapole', 'English', 20, [2, 4, 5]]\n",
      "[1, 'South Korea', 'Singapole', 'English', 20, [2, 4, 5]]\n",
      "o\n"
     ]
    },
    {
     "ename": "TypeError",
     "evalue": "'str' object does not support item assignment",
     "output_type": "error",
     "traceback": [
      "\u001b[1;31m---------------------------------------------------------------------------\u001b[0m",
      "\u001b[1;31mTypeError\u001b[0m                                 Traceback (most recent call last)",
      "Input \u001b[1;32mIn [36]\u001b[0m, in \u001b[0;36m<cell line: 10>\u001b[1;34m()\u001b[0m\n\u001b[0;32m      8\u001b[0m str_a \u001b[38;5;241m=\u001b[39m \u001b[38;5;124m\"\u001b[39m\u001b[38;5;124mSouth Korea\u001b[39m\u001b[38;5;124m\"\u001b[39m\n\u001b[0;32m      9\u001b[0m \u001b[38;5;28mprint\u001b[39m(str_a[\u001b[38;5;241m1\u001b[39m])\n\u001b[1;32m---> 10\u001b[0m str_a[\u001b[38;5;241m1\u001b[39m] \u001b[38;5;241m=\u001b[39m \u001b[38;5;124m\"\u001b[39m\u001b[38;5;124mA\u001b[39m\u001b[38;5;124m\"\u001b[39m\n",
      "\u001b[1;31mTypeError\u001b[0m: 'str' object does not support item assignment"
     ]
    }
   ],
   "source": [
    "## List Element_Update\n",
    "ls_a = [1, \"Korea\", \"Singapole\", \"English\", 20, [2, 4, 5]]\n",
    "print(ls_a)\n",
    "ls_a[1] = 'South Korea'\n",
    "print(ls_a)\n",
    "\n",
    "## String과의 차이점\n",
    "str_a = \"South Korea\"\n",
    "print(str_a[1])\n",
    "str_a[1] = \"A\"\n",
    "## 변경이 불가능하다. (문자열 타입에서는 지원되지 않는 기능)\n",
    "## TypeError: 'str' object does not support item assignment"
   ]
  },
  {
   "cell_type": "code",
   "execution_count": 29,
   "id": "51043e3f",
   "metadata": {},
   "outputs": [
    {
     "name": "stdout",
     "output_type": "stream",
     "text": [
      "o\n",
      "SAuth Korea\n",
      "SAuth Korea\n",
      "South Korea\n",
      "SAuth KArea\n"
     ]
    }
   ],
   "source": [
    "## 복습\n",
    "## String을 변경하려면, \n",
    "## 재선언을 하거나,\n",
    "str_a = \"South Korea\"\n",
    "print(str_a[1])\n",
    "str_a = \"SAuth Korea\"\n",
    "print(str_a)\n",
    "\n",
    "## Slicing을 이용한다.\n",
    "str_a = str_a[0] + \"A\" + str_a[2:]\n",
    "print(str_a)\n",
    "\n",
    "## Replace 함수를 사용하는 방법도 있다.\n",
    "## (단, 특정 Char만 변경하는 것은 불가하며,\n",
    "##  str_a의 값 자체가 변경되지는 않는다.)\n",
    "str_a = \"South Korea\"\n",
    "str_b = str_a.replace('o', 'A')\n",
    "print(str_a)\n",
    "print(str_b)"
   ]
  },
  {
   "cell_type": "markdown",
   "id": "85c2cb8f",
   "metadata": {},
   "source": [
    "#### List_Slicing\n",
    "- String의 인덱싱과 동일하게 동작  \n",
    "- Slicing의 결과 역시 List 형태를 띄게 된다.  \n",
    "- Slicing -> start:end:increment"
   ]
  },
  {
   "cell_type": "code",
   "execution_count": 49,
   "id": "3aab7b40",
   "metadata": {},
   "outputs": [
    {
     "name": "stdout",
     "output_type": "stream",
     "text": [
      "[1, 2, 3, 4, 5, 6, 7, 8, 9, 10]\n",
      "[2, 3]\n",
      "[8, 9, 10]\n",
      "[1, 2, 3, 4]\n",
      "[1, 2, 3, 4, 5, 6, 7, 8, 9, 10]\n"
     ]
    }
   ],
   "source": [
    "ls_a = [1, 2, 3, 4, 5, 6, 7, 8, 9, 10]\n",
    "print(ls_a)\n",
    "ls_b = ls_a[1:3]\n",
    "print(ls_b) ## (끝번호 - 1)까지만 Slicing된다\n",
    "## 2, 3\n",
    "\n",
    "## Slicing에서, 앞 뒤 생략시 끝까지 Slicing\n",
    "ls_b = ls_a[7:]\n",
    "print(ls_b)\n",
    "ls_b = ls_a[:4]\n",
    "print(ls_b)\n",
    "ls_b = ls_a[:]\n",
    "print(ls_b)"
   ]
  },
  {
   "cell_type": "code",
   "execution_count": 54,
   "id": "8d7dcc49",
   "metadata": {},
   "outputs": [
    {
     "name": "stdout",
     "output_type": "stream",
     "text": [
      "[2, 3, 4, 5, 6, 7]\n",
      "[2, 3, 4, 5, 6, 7]\n",
      "[2, 4, 6]\n",
      "[1, 5, 9]\n"
     ]
    }
   ],
   "source": [
    "## Slicing의 Increment 사용\n",
    "## start:end:increment\n",
    "## Increment : 건너뛰는 값을 말함.\n",
    "ls_b = ls_a[1:7]\n",
    "print(ls_b) \n",
    "# 2, 3, 4, 5, 6, 7\n",
    "ls_b = ls_a[1:7:1] \n",
    "print(ls_b)\n",
    "## 기존 결과와 동일하다 \n",
    "## (Increment의 Default값은 1이다.)\n",
    "# 2, 3, 4, 5, 6, 7\n",
    "\n",
    "ls_b = ls_a[1:7:2] \n",
    "print(ls_b)\n",
    "## 원소를 건너뛰는 것을 볼 수 있다.\n",
    "## (다른 분야에서의 \"Interval\"과 비슷한 의미로 이해할 수 있다.)\n",
    "## 2, 4, 6\n",
    "ls_b = ls_a[::4]\n",
    "print(ls_b)"
   ]
  },
  {
   "cell_type": "markdown",
   "id": "00bbbc60",
   "metadata": {},
   "source": [
    "#### List_멤버 함수\n",
    "- 생성된 List 객체에 대한 함수\n",
    "- 앞서 String에서 배운 split()이나 upper() 등과 같이,  \n",
    "  List에도 멤버함수가 존재"
   ]
  },
  {
   "cell_type": "markdown",
   "id": "db9efb7c",
   "metadata": {},
   "source": [
    "#### append()\n",
    "- 리스트의 마지막에 원소를 추가\n",
    "- append([object])"
   ]
  },
  {
   "cell_type": "code",
   "execution_count": 101,
   "id": "8545c4e4",
   "metadata": {},
   "outputs": [
    {
     "name": "stdout",
     "output_type": "stream",
     "text": [
      "[1, 2, 3, 4, 5, 6, 7, 8, 9, '10']\n"
     ]
    },
    {
     "ename": "TypeError",
     "evalue": "unsupported operand type(s) for +: 'int' and 'str'",
     "output_type": "error",
     "traceback": [
      "\u001b[1;31m---------------------------------------------------------------------------\u001b[0m",
      "\u001b[1;31mTypeError\u001b[0m                                 Traceback (most recent call last)",
      "Input \u001b[1;32mIn [101]\u001b[0m, in \u001b[0;36m<cell line: 6>\u001b[1;34m()\u001b[0m\n\u001b[0;32m      3\u001b[0m \u001b[38;5;28mprint\u001b[39m(ls_a)\n\u001b[0;32m      4\u001b[0m \u001b[38;5;66;03m## ls_a의 마지막 항목으로 \"10\"의 문자열이 추가된 것을 알 수 있다.\u001b[39;00m\n\u001b[1;32m----> 6\u001b[0m \u001b[38;5;28mprint\u001b[39m(\u001b[43mls_a\u001b[49m\u001b[43m[\u001b[49m\u001b[38;5;241;43m1\u001b[39;49m\u001b[43m]\u001b[49m\u001b[43m \u001b[49m\u001b[38;5;241;43m+\u001b[39;49m\u001b[43m \u001b[49m\u001b[43mls_a\u001b[49m\u001b[43m[\u001b[49m\u001b[38;5;241;43m-\u001b[39;49m\u001b[38;5;241;43m1\u001b[39;49m\u001b[43m]\u001b[49m)\n",
      "\u001b[1;31mTypeError\u001b[0m: unsupported operand type(s) for +: 'int' and 'str'"
     ]
    }
   ],
   "source": [
    "ls_a = [1, 2, 3, 4, 5, 6, 7, 8, 9]\n",
    "ls_a.append(\"10\")\n",
    "print(ls_a)\n",
    "## ls_a의 마지막 항목으로 \"10\"의 문자열이 추가된 것을 알 수 있다.\n",
    "\n",
    "print(ls_a[1] + ls_a[-1])\n",
    "## 당연히 연산 불가능하다. (추가된건 String이니까)\n",
    "## TypeError: unsupported operand type(s) for +: 'int' and 'str'"
   ]
  },
  {
   "cell_type": "markdown",
   "id": "8b1d121d",
   "metadata": {},
   "source": [
    "#### extend()\n",
    "- 리스트를 연장\n",
    "- \"+=\" 연산으로도 가능\n",
    "- extend([object])"
   ]
  },
  {
   "cell_type": "code",
   "execution_count": 63,
   "id": "225638d3",
   "metadata": {},
   "outputs": [
    {
     "name": "stdout",
     "output_type": "stream",
     "text": [
      "[1, 2, 3]\n",
      "[2, 1, 0]\n",
      "[1, 2, 3, 2, 1, 0]\n",
      "[1, 2, 3, 2, 1, 0, 1, 2, 3, 2, 1, 0]\n"
     ]
    }
   ],
   "source": [
    "ls_a = [1, 2, 3]\n",
    "print(ls_a)\n",
    "ls_b = [2, 1, 0]\n",
    "print(ls_b)\n",
    "\n",
    "## 두 List를 합친다.\n",
    "ls_a.extend(ls_b)\n",
    "print(ls_a)\n",
    "\n",
    "## += 연산으로도 많이 사용한다\n",
    "ls_a += ls_a\n",
    "print(ls_a)"
   ]
  },
  {
   "cell_type": "code",
   "execution_count": 65,
   "id": "4176f0a5",
   "metadata": {
    "scrolled": true
   },
   "outputs": [
    {
     "name": "stdout",
     "output_type": "stream",
     "text": [
      "[1, 2, 3]\n",
      "[2, 1, 0]\n",
      "[1, 2, 3, [2, 1, 0]]\n"
     ]
    }
   ],
   "source": [
    "## Append로 추가할 수도 있지 않은가?\n",
    "ls_a = [1, 2, 3]\n",
    "print(ls_a)\n",
    "ls_b = [2, 1, 0]\n",
    "print(ls_b)\n",
    "\n",
    "## Append로 두 List를 합쳐보자\n",
    "ls_a.append(ls_b)\n",
    "print(ls_a)\n",
    "## ls_a[3]으로서 ls_b 전체가 추가된 것을 볼 수 있다.\n",
    "## [1, 2, 3, [2, 1, 0]]"
   ]
  },
  {
   "cell_type": "markdown",
   "id": "821c34f3",
   "metadata": {},
   "source": [
    "#### insert()\n",
    "- 리스트의 원하는 위치에 원하는 원소를 추가 가능\n",
    "- insert([index], [object])"
   ]
  },
  {
   "cell_type": "code",
   "execution_count": 119,
   "id": "8c66e206",
   "metadata": {},
   "outputs": [
    {
     "name": "stdout",
     "output_type": "stream",
     "text": [
      "[1, 2, 7]\n",
      "[3, 4, 5, 6]\n",
      "[1, 2, 4, 7]\n",
      "11\n",
      "[1, 2, 3, 4, 5, 6, 7]\n",
      "[1, 2, 3, 4, 5, 6, 7]\n",
      "[1, 2, 3, 4, 5, 6, 7]\n",
      "[1, 2, 3, 4, 5, 6, 7]\n"
     ]
    }
   ],
   "source": [
    "ls_a = [1, 2, 7]\n",
    "print(ls_a)\n",
    "ls_b = [3, 4, 5, 6]\n",
    "print(ls_b)\n",
    "\n",
    "## Q : 두 구문의 차이는 무엇인가?\n",
    "# ls_a.insert(2, ls_b)\n",
    "#ls_a.insert(2, ls_b[:])\n",
    "# print(ls_a)\n",
    "## A : 동일하다\n",
    "## 왜냐면, 앞서 List_Slicing에서 배운 것과 같이,\n",
    "## List의 Slicing 결과값의 데이터형은 List이기 때문\n",
    "## [1, 2, 7, [3, 4, 5, 6]]\n",
    "\n",
    "## 단, Indexing 경우, 해당 데이터 형으로 출력된다.\n",
    "ls_a.insert(2, ls_b[1]) \n",
    "print(ls_a)\n",
    "print(ls_a[2] + ls_a[3]) \n",
    "## Slicing = X, Indexing = O (혼동하지 말 것)\n",
    "## 정상적으로 연산이 되는 것을 볼 수 있다.\n",
    "## 4 + 7 = 11\n",
    "\n",
    "## 만약, 내가 생각한 그 것대로 추가하려면\n",
    "## Code01과 Code02와 같은 느낌으로 가능하다.\n",
    "## (for, range 등의 개념은 추후에 다룰 예정)\n",
    "## Code01\n",
    "ls_a = [1, 2, 7] ## Init_a\n",
    "ls_b = [3, 4, 5, 6] ## Init_b\n",
    "tmp_n = len(ls_b)\n",
    "for i in range(0, tmp_n):\n",
    "    ls_a.insert(2 + i, ls_b[i])\n",
    "print(ls_a)\n",
    "\n",
    "## Code02 (Code01과 동일 기능)\n",
    "ls_a = [1, 2, 7] ## Init_a\n",
    "ls_b = [3, 4, 5, 6] ## Init_b\n",
    "idx = 0\n",
    "for n in ls_b:\n",
    "    ls_a.insert(2 + idx, n)\n",
    "    idx += 1\n",
    "print(ls_a)\n",
    "\n",
    "## 아래에 설명된 pop() 메서드 참고\n",
    "## Code03_01 (Code01, Code02과 동일 기능)\n",
    "ls_a = [1, 2, 7] ## Init_a\n",
    "ls_b = [3, 4, 5, 6] ## Init_b\n",
    "ls_c = ls_b ## ls_b가 보존되어야하는 경우, 별도로 선언해줘야 한다.\n",
    "tmp_n = len(ls_c)\n",
    "for i in range(0, tmp_n):\n",
    "    ls_a.insert(2, ls_c.pop())\n",
    "    idx += 1\n",
    "print(ls_a)\n",
    "\n",
    "## Code03_02 (Code01, Code02, Code03-01과 동일 기능)\n",
    "## Code03-01의 역방향\n",
    "ls_a = [1, 2, 7] ## Init_a\n",
    "ls_b = [3, 4, 5, 6] ## Init_b\n",
    "ls_c = ls_b ## ls_b가 보존되어야하는 경우, 별도로 선언해줘야 한다.\n",
    "tmp_n = len(ls_c)\n",
    "for i in range(0, tmp_n):\n",
    "    ls_a.insert(-1, ls_c.pop(0))\n",
    "    idx += 1\n",
    "print(ls_a)"
   ]
  },
  {
   "cell_type": "code",
   "execution_count": 100,
   "id": "279a052d",
   "metadata": {},
   "outputs": [
    {
     "name": "stdout",
     "output_type": "stream",
     "text": [
      "None\n",
      "None\n"
     ]
    }
   ],
   "source": [
    "## 여기서 ls_a에 특정 값을 insert한 결과를 ls_c에 대입하는 경우,\n",
    "ls_c = ls_a.insert(3, ls_b)\n",
    "print(ls_c)\n",
    "ls_c = ls_a.insert(3, ls_b[:])\n",
    "print(ls_c)\n",
    "## ls_c는 None값으로 나타난다.\n",
    "## 왜 그럴까?"
   ]
  },
  {
   "cell_type": "markdown",
   "id": "28d09e5b",
   "metadata": {},
   "source": [
    "#### ※ Mutating/Non-Mutating method\n",
    "- Python의 Method는 Mutating과 Non-Mutating Method로 구분된다.  \n",
    "- Mutating Method는 Method를 통해 개체를 변경한다.  \n",
    "- Non-Mutating Method는 Method를 통해 개체를 변경하지 않는다.  \n",
    "  \n",
    "  \n",
    "1) Non-Mutating Method\n",
    "- Count/Index 등은 모두 Non-Mutating Method\n",
    "- Count : 지정된 인자의 횟수나 개체 수를 반환하나, List는 변경되지 않음.  \n",
    "  Index : 마찬가지로, 인수를 반환하는 메서드이지만 List는 변경되지 않음.  \n",
    "\n",
    "2) Mutating Method\n",
    "- 하지만, 앞서 배운 Append/Extend/Insert 등의 메서드는 List를 변경하는 것이고, 결과값이라는 것이 존재하지 않음.\n",
    "- 그래서 결과값이 없다. (None)  \n",
    "\n",
    "\n",
    "Ref.  \n",
    "[1] https://stackoverflow.com/questions/1516889/pythons-insert-returning-none  \n",
    "[2] https://runestone.academy/ns/books/published/fopp/TransformingSequences/MutatingMethods.html"
   ]
  },
  {
   "cell_type": "markdown",
   "id": "78058c45",
   "metadata": {},
   "source": [
    "#### remove()\n",
    "- Item 삭제\n",
    "- remove([object])"
   ]
  },
  {
   "cell_type": "code",
   "execution_count": 111,
   "id": "2adcb79b",
   "metadata": {},
   "outputs": [
    {
     "name": "stdout",
     "output_type": "stream",
     "text": [
      "[1, 2, 2, 3, 3, 7]\n",
      "[1, 2, 3, 3, 7]\n"
     ]
    },
    {
     "ename": "ValueError",
     "evalue": "list.remove(x): x not in list",
     "output_type": "error",
     "traceback": [
      "\u001b[1;31m---------------------------------------------------------------------------\u001b[0m",
      "\u001b[1;31mValueError\u001b[0m                                Traceback (most recent call last)",
      "Input \u001b[1;32mIn [111]\u001b[0m, in \u001b[0;36m<cell line: 9>\u001b[1;34m()\u001b[0m\n\u001b[0;32m      5\u001b[0m \u001b[38;5;28mprint\u001b[39m(ls_a)\n\u001b[0;32m      6\u001b[0m \u001b[38;5;66;03m## 가장 낮은 Index의 1건만 제거한다\u001b[39;00m\n\u001b[0;32m      7\u001b[0m \n\u001b[0;32m      8\u001b[0m \u001b[38;5;66;03m## 만약, list에 존재하지 않는 원소를 삭제하려 하면 Err 발생\u001b[39;00m\n\u001b[1;32m----> 9\u001b[0m \u001b[43mls_a\u001b[49m\u001b[38;5;241;43m.\u001b[39;49m\u001b[43mremove\u001b[49m\u001b[43m(\u001b[49m\u001b[38;5;241;43m3000\u001b[39;49m\u001b[43m)\u001b[49m\n",
      "\u001b[1;31mValueError\u001b[0m: list.remove(x): x not in list"
     ]
    }
   ],
   "source": [
    "ls_a = [1, 2, 2, 3, 3, 7]\n",
    "print(ls_a)\n",
    "\n",
    "ls_a.remove(2)\n",
    "print(ls_a)\n",
    "## 가장 낮은 Index의 1건만 제거한다\n",
    "\n",
    "## 만약, list에 존재하지 않는 원소를 삭제하려 하면 Err 발생\n",
    "ls_a.remove(3000)\n",
    "## SyntaxError: invalid syntax\n",
    "## ValueError: list.remove(x): x not in list"
   ]
  },
  {
   "cell_type": "markdown",
   "id": "98d15c90",
   "metadata": {},
   "source": [
    "#### pop()\n",
    "- 삭제하고자 하는 Item을 반환한 후, 삭제  \n",
    "- pop([index]) / index : default값은 마지막 Item  \n",
    "- Mutating / Non-Mutating 특성을 모두 가지고 있음."
   ]
  },
  {
   "cell_type": "code",
   "execution_count": 127,
   "id": "b36adb24",
   "metadata": {},
   "outputs": [
    {
     "name": "stdout",
     "output_type": "stream",
     "text": [
      "[1, 2, 3, 4]\n",
      "5\n",
      "[1, 2, 4]\n",
      "3\n",
      "[2, 3, 4, 5]\n",
      "1\n"
     ]
    }
   ],
   "source": [
    "ls_a = [1, 2, 3, 4, 5]\n",
    "val_b = ls_a.pop()\n",
    "print(ls_a)\n",
    "print(val_b)\n",
    "\n",
    "## 인덱스를 지정할 수 있다.\n",
    "val_b = ls_a.pop(2) ## 3번째 원소\n",
    "print(ls_a)\n",
    "print(val_b)\n",
    "\n",
    "ls_a = [1, 2, 3, 4, 5] ## Init_a\n",
    "val_b = ls_a.pop(0) ## 첫번째 원소\n",
    "print(ls_a)\n",
    "print(val_b)"
   ]
  },
  {
   "cell_type": "code",
   "execution_count": 128,
   "id": "57873e2f",
   "metadata": {},
   "outputs": [
    {
     "name": "stdout",
     "output_type": "stream",
     "text": [
      "[2, 3, 5]\n",
      "4\n",
      "[2, 3]\n",
      "5\n"
     ]
    }
   ],
   "source": [
    "## 역방향으로는 불가능하다.\n",
    "val_b = ls_a.pop(2)\n",
    "print(ls_a)\n",
    "print(val_b)\n",
    "val_b = ls_a.pop(2)\n",
    "print(ls_a)\n",
    "print(val_b)"
   ]
  },
  {
   "cell_type": "markdown",
   "id": "aaf06aa9",
   "metadata": {},
   "source": [
    "#### index()\n",
    "- 찾고자 하는 값의 Index값 반환\n",
    "- index([object])\n",
    "- 가장 낮은 Index 1건만 출력\n",
    "- remove와 마찬가지로, list 내에 존재하지 않는 값을 요청시 Err"
   ]
  },
  {
   "cell_type": "code",
   "execution_count": 132,
   "id": "bafd6392",
   "metadata": {
    "scrolled": true
   },
   "outputs": [
    {
     "ename": "ValueError",
     "evalue": "8 is not in list",
     "output_type": "error",
     "traceback": [
      "\u001b[1;31m---------------------------------------------------------------------------\u001b[0m",
      "\u001b[1;31mValueError\u001b[0m                                Traceback (most recent call last)",
      "Input \u001b[1;32mIn [132]\u001b[0m, in \u001b[0;36m<cell line: 6>\u001b[1;34m()\u001b[0m\n\u001b[0;32m      4\u001b[0m \u001b[38;5;66;03m## 존재하지 않는 값 요청시 Err\u001b[39;00m\n\u001b[0;32m      5\u001b[0m ls_a \u001b[38;5;241m=\u001b[39m [\u001b[38;5;241m1\u001b[39m, \u001b[38;5;241m2\u001b[39m, \u001b[38;5;241m2\u001b[39m, \u001b[38;5;241m3\u001b[39m, \u001b[38;5;241m3\u001b[39m, \u001b[38;5;241m7\u001b[39m]\n\u001b[1;32m----> 6\u001b[0m \u001b[43mls_a\u001b[49m\u001b[38;5;241;43m.\u001b[39;49m\u001b[43mindex\u001b[49m\u001b[43m(\u001b[49m\u001b[38;5;241;43m8\u001b[39;49m\u001b[43m)\u001b[49m\n",
      "\u001b[1;31mValueError\u001b[0m: 8 is not in list"
     ]
    }
   ],
   "source": [
    "ls_a = [1, 2, 2, 3, 3, 7]\n",
    "ls_a.index(2)\n",
    "\n",
    "## 존재하지 않는 값 요청시 Err\n",
    "ls_a = [1, 2, 2, 3, 3, 7]\n",
    "ls_a.index(8)\n",
    "## ValueError: 8 is not in list"
   ]
  },
  {
   "cell_type": "markdown",
   "id": "aa39c84c",
   "metadata": {},
   "source": [
    "#### 정렬 Method  \n",
    "- 정렬과 관련된 Method는 2가지이다. (sort() / sorted())  \n",
    "\n",
    "1) sort()  \n",
    "- Mutating. 리스트 자체를 내부적으로 정렬  \n",
    "- sort(reverse=[T/F])\n",
    "\n"
   ]
  },
  {
   "cell_type": "code",
   "execution_count": 151,
   "id": "8ff45976",
   "metadata": {},
   "outputs": [
    {
     "name": "stdout",
     "output_type": "stream",
     "text": [
      "[1, 3, 5, 8, 9, 10, 11, 15, 88]\n",
      "[88, 15, 11, 10, 9, 8, 5, 3, 1]\n",
      "None\n"
     ]
    }
   ],
   "source": [
    "ls_a = [5, 8, 9, 1, 3, 10, 11, 15, 88] ## Init_a\n",
    "ls_a.sort()\n",
    "print(ls_a)\n",
    "\n",
    "## 역순도 가능하다\n",
    "ls_a = [5, 8, 9, 1, 3, 10, 11, 15, 88] ## Init_a\n",
    "ls_a.sort(reverse = True)\n",
    "print(ls_a)\n",
    "\n",
    "## sort 메서드는 Mutating 메서드이므로, 결과값이 없다.\n",
    "ls_b = ls_a.sort()\n",
    "print(ls_b)\n",
    "\n",
    "## Q. String과 Int가 섞여있는 리스트는 어떨까?\n",
    "# ls_a = [5, 8, 9, 1, 3, 10, 11, 15, 88, \"A\", \"가나다\"]\n",
    "# ls_a.sort()\n",
    "## A. TypeError 발생한다.\n",
    "## TypeError: '<' not supported between instances of 'str' and 'int'"
   ]
  },
  {
   "cell_type": "markdown",
   "id": "f220ae6f",
   "metadata": {},
   "source": [
    "2) sorted()  \n",
    "- Non-Mutating. 리스트의 정렬된 복사본을 반환"
   ]
  },
  {
   "cell_type": "code",
   "execution_count": 152,
   "id": "dd4ab058",
   "metadata": {},
   "outputs": [
    {
     "name": "stdout",
     "output_type": "stream",
     "text": [
      "[5, 8, 9, 1, 3, 10, 11, 15, 88]\n",
      "[1, 3, 5, 8, 9, 10, 11, 15, 88]\n"
     ]
    }
   ],
   "source": [
    "## sorted() 메서드를 사용하면, 정렬된 복사본을 만들 수 있다\n",
    "ls_a = [5, 8, 9, 1, 3, 10, 11, 15, 88]\n",
    "ls_b = sorted(ls_a)\n",
    "print(ls_a)\n",
    "print(ls_b)"
   ]
  },
  {
   "cell_type": "markdown",
   "id": "1ef9c772",
   "metadata": {},
   "source": [
    "#### 키워드 in\n",
    "- 찾고자 하는 값이 List 내에 존재하는지 확인\n",
    "- [value] in [list]\n",
    "- 결과값의 유형은 Boolean (True/False)"
   ]
  },
  {
   "cell_type": "code",
   "execution_count": 135,
   "id": "dd4e5eb0",
   "metadata": {},
   "outputs": [
    {
     "name": "stdout",
     "output_type": "stream",
     "text": [
      "True\n",
      "False\n"
     ]
    }
   ],
   "source": [
    "ls_a = [1, 2, 2, 3, 3, 7]\n",
    "val_a = ls_a[1]\n",
    "val_b = 8\n",
    "\n",
    "res_a = val_a in ls_a\n",
    "res_b = val_b in ls_a\n",
    "print(res_a)\n",
    "print(res_b)"
   ]
  }
 ],
 "metadata": {
  "kernelspec": {
   "display_name": "Python 3 (ipykernel)",
   "language": "python",
   "name": "python3"
  },
  "language_info": {
   "codemirror_mode": {
    "name": "ipython",
    "version": 3
   },
   "file_extension": ".py",
   "mimetype": "text/x-python",
   "name": "python",
   "nbconvert_exporter": "python",
   "pygments_lexer": "ipython3",
   "version": "3.9.12"
  }
 },
 "nbformat": 4,
 "nbformat_minor": 5
}
