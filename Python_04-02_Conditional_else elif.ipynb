{
 "cells": [
  {
   "cell_type": "markdown",
   "id": "f0ce7efd",
   "metadata": {},
   "source": [
    "Ref : 패스트캠퍼스 - 초격차 패키지 : 한 번에 끝내는 딥러닝/인공지능  \n",
    "데이터 사이언스 기초(파이썬) - 조건문과 반복문 - 조건문(if, elif, else) 활용하기 2"
   ]
  },
  {
   "cell_type": "markdown",
   "id": "740642ce",
   "metadata": {},
   "source": [
    "# <조건문 (Conditional)>\n",
    "- 특정 조건을 만족하는 경우에만 작업을 수행하도록 함  \n",
    "- 모든 조건은 Boolean으로 입력됨  \n",
    "- if, elif, else가 사용됨  "
   ]
  },
  {
   "cell_type": "markdown",
   "id": "6d8f3890",
   "metadata": {},
   "source": [
    "### 조건문 형성_if\n",
    "- 조건문 Keyword에 종속된 코드는 들여쓰기로 작성  \n",
    "- 아래의 예시 코드와 같이, 들여쓰기 처리된 1줄의 Code만 조건의 영향을 받음  \n",
    "  (이를 Block 또는 Code-Block이라 함)\n",
    "- 모든 블록의 시작행의 마지막에는 : (Colon)이 필요  "
   ]
  },
  {
   "cell_type": "markdown",
   "id": "e9ea7451",
   "metadata": {},
   "source": [
    "### 조건문 형성_else\n",
    "- if 조건문에 해당하지 않는 나머지 경우를 표현하기 위해 \n",
    "  else-block 사용\n",
    "- if 조건이 True일 경우, if Block 수행\n",
    "  if 조건이 False일 경우, else Block 수행\n",
    "- 주의 : if와 else 사이에 elif 부분을 제외한 다른 코드 입력 불가"
   ]
  },
  {
   "cell_type": "code",
   "execution_count": 4,
   "id": "fb73ceac",
   "metadata": {},
   "outputs": [
    {
     "name": "stdout",
     "output_type": "stream",
     "text": [
      "Before :  201\n",
      "After :  402\n"
     ]
    }
   ],
   "source": [
    "a = 201\n",
    "\n",
    "## 짝수인 경우에는 +1\n",
    "## 홀수인 경우에는 *2\n",
    "print(\"Before : \", a)\n",
    "if a % 2 == 0:\n",
    "    a += 1\n",
    "else:\n",
    "    a *= 2\n",
    "print(\"After : \", a)"
   ]
  },
  {
   "cell_type": "markdown",
   "id": "980fb9a8",
   "metadata": {},
   "source": [
    "### 조건문 형성_elif  \n",
    "- 여러 조건에 대한 조건문을 사용하려면, elif 키워드를 사용  \n",
    "- 각 조건을 확인 후, True인 조건의 Code Block을 실행한 후, 전체 조건문을 종료한다.  \n",
    "  (C나 Java의 조건문들(if, else if, else, switch - case - break)과 동일)  \n",
    "- \"조건문을 사용할 때는, if 이후 0개 이상의 elif를 사용 가능하며, 0개 또는 1개의 else를 사용 가능함\"  \n",
    "   -> if문만 써도 되고, elif나 else는 옵션임.  "
   ]
  },
  {
   "cell_type": "code",
   "execution_count": 5,
   "id": "e20d7acb",
   "metadata": {},
   "outputs": [
    {
     "name": "stdout",
     "output_type": "stream",
     "text": [
      "a % 4\n",
      "2\n"
     ]
    }
   ],
   "source": [
    "## elif문의 사용\n",
    "a = 42\n",
    "print(\"a % 4\")\n",
    "if a % 4 == 0:\n",
    "    print(\"0\")\n",
    "elif a % 4 == 1:\n",
    "    print(\"1\")\n",
    "elif a % 4 == 2:\n",
    "    print(\"2\")\n",
    "else:\n",
    "    print(\"3\")"
   ]
  },
  {
   "cell_type": "code",
   "execution_count": 13,
   "id": "607bcdc7",
   "metadata": {
    "scrolled": true
   },
   "outputs": [
    {
     "name": "stdout",
     "output_type": "stream",
     "text": [
      "a는 몇의 배수?\n",
      "1\n",
      "a는 몇의 배수?\n",
      "4\n",
      "a는 몇의 배수?\n",
      "4\n",
      "3\n",
      "2\n"
     ]
    }
   ],
   "source": [
    "## 만약 조건이 중복된다면 어떨까?\n",
    "a = 24\n",
    "print(\"a는 몇의 배수?\")\n",
    "if a % 1 == 0:\n",
    "    print(\"1\")\n",
    "elif a % 2 == 0:\n",
    "    print(\"2\")\n",
    "elif a % 3 == 0:\n",
    "    print(\"3\")\n",
    "elif a % 4 == 0:\n",
    "    print(\"4\")\n",
    "## 여기서 a = 42는 1 2 3 4 모두의 배수이다.\n",
    "## 그러므로, 모든 조건이 True이지만, \n",
    "## 제일 먼저 마주치는 True인 조건의 Code Block을 실행한 후, 조건문을 종료하므로\n",
    "## print(\"1\")만 실행된다\n",
    "\n",
    "print(\"a는 몇의 배수?\")\n",
    "if a % 4 == 0:\n",
    "    print(\"4\")\n",
    "elif a % 3 == 0:\n",
    "    print(\"3\")\n",
    "elif a % 2 == 0:\n",
    "    print(\"2\")\n",
    "elif a % 1 == 0:\n",
    "    print(\"1\")\n",
    "## 순서를 바꿔도, 제일 위에 있는 조건이 실행된 후 조건문이 종료되어,\n",
    "## print(\"4\")만 실행된다\n",
    "\n",
    "## if elif문과 여러개의 if문은 다르다\n",
    "print(\"a는 몇의 배수?\")\n",
    "if a % 4 == 0:\n",
    "    print(\"4\")\n",
    "if a % 3 == 0:\n",
    "    print(\"3\")\n",
    "if a % 2 == 0:\n",
    "    print(\"2\")\n",
    "else:\n",
    "    print(\"1\")\n",
    "## if Block은 모두 True로 인식되어 출력되는 것을 알 수 있다.\n",
    "## (else Block의 경우, if문의 True 판정으로 인해 실행되지 않음.)### 조건문 형성_elif  \n",
    "- 여러 조건에 대한 조건문을 사용하려면, elif 키워드를 사용  \n",
    "- 각 조건을 확인 후, True인 조건의 Code Block을 실행한 후, 전체 조건문을 종료한다.  \n",
    "  (C나 Java의 조건문들(if, else if, else, switch - case - break)과 동일)  \n",
    "- \"조건문을 사용할 때는, if 이후 0개 이상의 elif를 사용 가능하며, 0개 또는 1개의 else를 사용 가능함\"  \n",
    "   -> if문만 써도 되고, elif나 else는 옵션임.  "
   ]
  },
  {
   "cell_type": "markdown",
   "id": "08c2d6c8",
   "metadata": {},
   "source": [
    "### 조건문 형성_중첩 조건문 (Nested Condition)\n",
    "- 단순히 여러 조건을 늘어놓는 것이 아닌, 중첩된 조건문 사용 가능  \n",
    "- Depth, Hierarchy 등의 의미와 같음."
   ]
  },
  {
   "cell_type": "code",
   "execution_count": 28,
   "id": "6527eb86",
   "metadata": {},
   "outputs": [
    {
     "name": "stdout",
     "output_type": "stream",
     "text": [
      "Pass or Non-Pass\n",
      "Pass\n"
     ]
    }
   ],
   "source": [
    "## 3개의 과목을 모두 통과해야만 Pass인 시험\n",
    "a = 100\n",
    "b = 100\n",
    "c = 100\n",
    "\n",
    "res = ''\n",
    "\n",
    "print(\"Pass or Non-Pass\")\n",
    "if a >= 90:\n",
    "    if b >= 90:\n",
    "        if c >= 90:\n",
    "            res = 'Pass'\n",
    "        else:\n",
    "            res = 'Non-Pass'\n",
    "    else:\n",
    "        res = 'Non-Pass'\n",
    "else: \n",
    "    res = 'Non-Pass'\n",
    "            \n",
    "print(res)"
   ]
  },
  {
   "cell_type": "code",
   "execution_count": null,
   "id": "16bc95e7",
   "metadata": {},
   "outputs": [],
   "source": []
  }
 ],
 "metadata": {
  "kernelspec": {
   "display_name": "Python 3 (ipykernel)",
   "language": "python",
   "name": "python3"
  },
  "language_info": {
   "codemirror_mode": {
    "name": "ipython",
    "version": 3
   },
   "file_extension": ".py",
   "mimetype": "text/x-python",
   "name": "python",
   "nbconvert_exporter": "python",
   "pygments_lexer": "ipython3",
   "version": "3.9.12"
  }
 },
 "nbformat": 4,
 "nbformat_minor": 5
}
