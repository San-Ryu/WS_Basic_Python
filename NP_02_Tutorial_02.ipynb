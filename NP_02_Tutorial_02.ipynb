{
 "cells": [
  {
   "cell_type": "code",
   "execution_count": 1,
   "id": "ae6cfb87",
   "metadata": {},
   "outputs": [],
   "source": [
    "# ■ 기본적으로 필요한 패키지를 Import한다.\n",
    "# ■ 현재 Code로 작성되고 있는지 반드시 확인한다.\n",
    "import numpy as np\n",
    "import pandas as pd\n",
    "import tensorflow as tf\n",
    "# # # # # # # # # # # # # # # # # # # # # # # # # # # # # # # # # # # # # # # # # # "
   ]
  },
  {
   "cell_type": "code",
   "execution_count": 2,
   "id": "874cd329",
   "metadata": {},
   "outputs": [
    {
     "name": "stdout",
     "output_type": "stream",
     "text": [
      "[0 1 2 3 4 5 6 7 8 9]\n"
     ]
    }
   ],
   "source": [
    "a = np.arange(10)\n",
    "print(a)"
   ]
  },
  {
   "cell_type": "code",
   "execution_count": 3,
   "id": "43a6633c",
   "metadata": {},
   "outputs": [
    {
     "name": "stdout",
     "output_type": "stream",
     "text": [
      "5\n"
     ]
    }
   ],
   "source": [
    "#Indexing\n",
    "#배열 [0 1 2 3 4 5 6 7 8 9]\n",
    "#순번  0 1 2 3 4 5\n",
    "print(a[5])"
   ]
  },
  {
   "cell_type": "code",
   "execution_count": 4,
   "id": "c4f4f5c3",
   "metadata": {},
   "outputs": [
    {
     "name": "stdout",
     "output_type": "stream",
     "text": [
      "[5 6 7]\n"
     ]
    }
   ],
   "source": [
    "#slicing\n",
    "print(a[5:8])"
   ]
  },
  {
   "cell_type": "code",
   "execution_count": 8,
   "id": "19f6d675",
   "metadata": {},
   "outputs": [
    {
     "name": "stdout",
     "output_type": "stream",
     "text": [
      "9\n"
     ]
    }
   ],
   "source": [
    "print(a[-1])"
   ]
  },
  {
   "cell_type": "code",
   "execution_count": 15,
   "id": "d7290f23",
   "metadata": {},
   "outputs": [
    {
     "name": "stdout",
     "output_type": "stream",
     "text": [
      "[]\n",
      "[]\n",
      "[]\n",
      "[  3   4 100 100 100   8]\n",
      "[100   8]\n"
     ]
    }
   ],
   "source": [
    "print(a[-1:7])\n",
    "print(a[-1:-5])\n",
    "print(a[-1:5])\n",
    "print(a[-7:-1])\n",
    "print(a[7:-1])"
   ]
  },
  {
   "cell_type": "code",
   "execution_count": 16,
   "id": "bc6f3195",
   "metadata": {},
   "outputs": [
    {
     "name": "stdout",
     "output_type": "stream",
     "text": [
      "[  0   1   2   3   4 100 100 100   8   9]\n"
     ]
    }
   ],
   "source": [
    "#Slicing을 통해 범위 내 모든 숫자를 변경할 수 있다.\n",
    "a[5:8] = 100\n",
    "print(a)"
   ]
  },
  {
   "cell_type": "code",
   "execution_count": 23,
   "id": "efff5258",
   "metadata": {},
   "outputs": [
    {
     "name": "stdout",
     "output_type": "stream",
     "text": [
      "#### Array B ####\n",
      "[ 1  2  3  4  5  6  7  8  9 10 11 12]\n",
      "(12,)\n",
      "1\n",
      "#### indexing ####\n",
      "2 () 0\n",
      "#### slicing ####\n",
      "[2] (1,) 1\n"
     ]
    }
   ],
   "source": [
    "#indexing과 slicing의 차이\n",
    "#indexing은 사용하고나면 항상 랭크(차원)가 감소한다.\n",
    "# Ex) 2차원 배열 Indexing -> 1차원 배열\n",
    "#     1차원 배열 Indexing -> 변수\n",
    "#slicing은 사용해도 차원이 유지된다.\n",
    "b = np.arange(1, 13)\n",
    "print(\"#### Array B ####\")\n",
    "print(b)\n",
    "print(b.shape)\n",
    "print(b.ndim)\n",
    "print(\"#### indexing ####\")\n",
    "idx = b[1]\n",
    "print(idx, idx.shape, idx.ndim)\n",
    "print(\"#### slicing ####\")\n",
    "slc = b[1:2]\n",
    "print(slc, slc.shape, slc.ndim)\n",
    "# idx = 2 / slc = [2]로\n",
    "# 동일해보이는 숫자를 뽑아왔음에도 불구하고,\n",
    "# idx의 경우 \n",
    "# () -> shape이 없음\n",
    "# 0 -> 0차원 (차원이 없음)\n",
    "# slc의 경우\n",
    "# (1,) -> shape 존재\n",
    "# 1 -> 1차원"
   ]
  },
  {
   "cell_type": "code",
   "execution_count": 30,
   "id": "32986dd1",
   "metadata": {},
   "outputs": [
    {
     "name": "stdout",
     "output_type": "stream",
     "text": [
      "[[ 1  2  3  4]\n",
      " [ 5  6  7  8]\n",
      " [ 9 10 11 12]]\n",
      "(3, 4)\n",
      "2\n"
     ]
    }
   ],
   "source": [
    "#2차원 배열에서의 shape/ndim은 다음과 같다\n",
    "b = b.reshape(3, 4)\n",
    "print(b)\n",
    "print(b.shape)\n",
    "print(b.ndim)"
   ]
  },
  {
   "cell_type": "code",
   "execution_count": 36,
   "id": "ad945abb",
   "metadata": {},
   "outputs": [
    {
     "name": "stdout",
     "output_type": "stream",
     "text": [
      "[5 6 7 8] (4,) 1\n",
      "[[5 6 7 8]] (1, 4) 2\n",
      "6 () 0\n"
     ]
    }
   ],
   "source": [
    "#2차원 배열 b에서 2개의 row를 추출한다.\n",
    "row_r1 = b[1, :]\n",
    "row_r2 = b[1:2, :]\n",
    "print(row_r1, row_r1.shape, row_r1.ndim)\n",
    "print(row_r2, row_r2.shape, row_r2.ndim)\n",
    "# 5678로 내용물은 같으나, \n",
    "# indexing을 쓴 row_r1의 차원과 Slicing을 쓴 row_r2의 차원의 차이가 있음\n",
    "row_r3 = b[1, 1]\n",
    "print(row_r3, row_r3.shape, row_r3.ndim)\n",
    "# row_r1에서 index을 한번 더 쓰면 차원이 0으로 한번 더 감소하는 것을 알 수 있다."
   ]
  },
  {
   "cell_type": "code",
   "execution_count": 13,
   "id": "545ce15d",
   "metadata": {
    "scrolled": true
   },
   "outputs": [
    {
     "name": "stdout",
     "output_type": "stream",
     "text": [
      "[[ 1  2  3  4]\n",
      " [ 5  6  7  8]\n",
      " [ 9 10 11 12]]\n"
     ]
    }
   ],
   "source": [
    "# tip\n",
    "c = np.arange(1, 13)\n",
    "#reshape : shape 옵션 값과 배열의 길이가 맞지 않으면 reshape 되지 않음\n",
    "#c = np.arange(1, 14)\n",
    "c = c.reshape(3, 4)\n",
    "print(c)"
   ]
  },
  {
   "cell_type": "code",
   "execution_count": 20,
   "id": "8f8917b2",
   "metadata": {},
   "outputs": [
    {
     "name": "stdout",
     "output_type": "stream",
     "text": [
      "[[[ 0  1  2  3]\n",
      "  [ 4  5  6  7]\n",
      "  [ 8  9 10 11]]\n",
      "\n",
      " [[12 13 14 15]\n",
      "  [16 17 18 19]\n",
      "  [20 21 22 23]]]\n",
      "\n",
      "\n",
      "(2, 3, 4)\n"
     ]
    }
   ],
   "source": [
    "c = np.arange(24).reshape(2, 3, 4)\n",
    "print(c)\n",
    "print(\"\\n\")\n",
    "print(c.shape)"
   ]
  },
  {
   "cell_type": "code",
   "execution_count": null,
   "id": "5283ae9b",
   "metadata": {},
   "outputs": [],
   "source": []
  }
 ],
 "metadata": {
  "kernelspec": {
   "display_name": "Python 3 (ipykernel)",
   "language": "python",
   "name": "python3"
  },
  "language_info": {
   "codemirror_mode": {
    "name": "ipython",
    "version": 3
   },
   "file_extension": ".py",
   "mimetype": "text/x-python",
   "name": "python",
   "nbconvert_exporter": "python",
   "pygments_lexer": "ipython3",
   "version": "3.9.12"
  }
 },
 "nbformat": 4,
 "nbformat_minor": 5
}
