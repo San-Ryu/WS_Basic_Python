{
 "cells": [
  {
   "cell_type": "markdown",
   "id": "f0ce7efd",
   "metadata": {},
   "source": [
    "Ref : 패스트캠퍼스 - 초격차 패키지 : 한 번에 끝내는 딥러닝/인공지능  \n",
    "데이터 사이언스 기초(파이썬) - 데이어 타입과 컬렉션 - 컬렉션 타입의 이해_Dictionary"
   ]
  },
  {
   "cell_type": "markdown",
   "id": "740642ce",
   "metadata": {},
   "source": [
    "# <컬렉션 (Collection)>\n",
    "- 어떤 것들의 모음\n",
    "- List, Tuple, Dict, Set  "
   ]
  },
  {
   "cell_type": "markdown",
   "id": "6d8f3890",
   "metadata": {},
   "source": [
    "### 딕셔너리 (Dictionary)\n",
    "- Key와 Value를 갖는 데이터 구조  \n",
    "- Key는 내부적으로 Hash값으로서 저장됨  \n",
    "  (Hash -> 동일한 Key가 중복으로 존재할 수 없음)\n",
    "- 순서를 따지지 않음  \n",
    "  (인덱스가 없음.)  \n",
    "\n",
    "※ 가장 자주 쓰는 Collection 중 하나  \n",
    "(Set은 거의 사용하지 않음)"
   ]
  },
  {
   "cell_type": "markdown",
   "id": "f6dbb7ad",
   "metadata": {},
   "source": [
    "#### Dictionary_선언"
   ]
  },
  {
   "cell_type": "markdown",
   "id": "927345f0",
   "metadata": {},
   "source": [
    "1) {} 안에 값을 담아서 생성  \n",
    "   {'[Key]' : '[Value]'}  \n",
    "   형태로 값을 저장"
   ]
  },
  {
   "cell_type": "code",
   "execution_count": 4,
   "id": "55902381",
   "metadata": {},
   "outputs": [
    {
     "name": "stdout",
     "output_type": "stream",
     "text": [
      "1\n",
      "5\n"
     ]
    }
   ],
   "source": [
    "## 일반적인 List의 선언\n",
    "ls_a = [1, 2, 3, 4, 5, 50, 100]\n",
    "print(ls_a[0])\n",
    "print(ls_a[4])\n",
    "## 인덱스의 번호를 알고 있으면 리스트의 길이와 무관하게 값을 조회할 수 있다.\n",
    "## 인덱스를 통해 데이터로 접근하는 시간은 거의 0에 가깝다.\n",
    "## (인덱스의 길이와 데이터로 접근하는 시간은 거의 무관하다.)\n",
    "## 리스트의 경우, 해당 Item을 안다고 해서 접근하기는 어렵지만, Index를 알면 바로 접근 가능\n",
    "\n",
    "## 곧, Index를 모르는 경우, 해당 Item으로 올바르게 접근하기도 어렵거니와 Item으로 접근하더라도 해당 Item이 맞는지 검증이 필요하다."
   ]
  },
  {
   "cell_type": "code",
   "execution_count": 17,
   "id": "361d7690",
   "metadata": {},
   "outputs": [
    {
     "name": "stdout",
     "output_type": "stream",
     "text": [
      "dict_A : <class 'dict'> / dict_B : <class 'dict'>\n",
      "{'Korea': 'Seoul', 'Canada': 'Ottawa', 'USA': 'Washington D.C'}\n",
      "Seoul\n"
     ]
    }
   ],
   "source": [
    "## 이 맥락은 Dictionary도 비슷한데,\n",
    "## Dictionary는 값의 Key를 내부적으로 Hash값으로 저장한다.\n",
    "## 곧, Key값이 곧 Index와 같은 역할을 한다.\n",
    "## 그리고, Key에 해당하는 Value를 가져오는 것에는 시간이 걸리지 않음.\n",
    "\n",
    "## Dictionary의 선언\n",
    "dict_a = {'Korea' : 'Seoul'\n",
    "          , 'Canada' : 'Ottawa'\n",
    "          , 'USA' : 'Washington D.C'}\n",
    "\n",
    "print(\"dict_A :\", type(dict_a), \"/ dict_B :\", type(dict_b))\n",
    "print(dict_a)\n",
    "\n",
    "print(a['Korea'])\n",
    "## Key값을 명시해서 Key에 해당하는 값을 출력하는것."
   ]
  },
  {
   "cell_type": "code",
   "execution_count": 21,
   "id": "19b9bd23",
   "metadata": {},
   "outputs": [
    {
     "name": "stdout",
     "output_type": "stream",
     "text": [
      "1\n"
     ]
    },
    {
     "ename": "KeyError",
     "evalue": "2",
     "output_type": "error",
     "traceback": [
      "\u001b[1;31m---------------------------------------------------------------------------\u001b[0m",
      "\u001b[1;31mKeyError\u001b[0m                                  Traceback (most recent call last)",
      "Input \u001b[1;32mIn [21]\u001b[0m, in \u001b[0;36m<cell line: 14>\u001b[1;34m()\u001b[0m\n\u001b[0;32m      9\u001b[0m dict_b \u001b[38;5;241m=\u001b[39m {\u001b[38;5;241m0\u001b[39m : \u001b[38;5;241m1\u001b[39m\n\u001b[0;32m     10\u001b[0m          , \u001b[38;5;241m1\u001b[39m : \u001b[38;5;241m6\u001b[39m\n\u001b[0;32m     11\u001b[0m          , \u001b[38;5;241m5\u001b[39m : \u001b[38;5;241m3\u001b[39m\n\u001b[0;32m     12\u001b[0m          , \u001b[38;5;241m10\u001b[39m : \u001b[38;5;241m10\u001b[39m}\n\u001b[0;32m     13\u001b[0m \u001b[38;5;28mprint\u001b[39m(dict_b[\u001b[38;5;241m0\u001b[39m])\n\u001b[1;32m---> 14\u001b[0m \u001b[38;5;28mprint\u001b[39m(\u001b[43mdict_b\u001b[49m\u001b[43m[\u001b[49m\u001b[38;5;241;43m2\u001b[39;49m\u001b[43m]\u001b[49m)\n",
      "\u001b[1;31mKeyError\u001b[0m: 2"
     ]
    }
   ],
   "source": [
    "dict_b = {} ## 빈 Dictionary 선언\n",
    "## 하지만, List와의 차이가 있음.\n",
    "# print(dict_a[0])\n",
    "## Indexing시 Error 발생 \n",
    "## KeyError: 0\n",
    "\n",
    "## Key를 Integer로 넣어주면 List와 비슷하게 동작할 수 있다.\n",
    "## 그러나, 이는 엄연히 Index가 아닌 Key로서 동작하는 것이니 혼동하지 말 것\n",
    "dict_b = {0 : 1\n",
    "         , 1 : 6\n",
    "         , 5 : 3\n",
    "         , 10 : 10}\n",
    "print(dict_b[0])\n",
    "print(dict_b[2]) ## 없는 Key를 조회하면 Error가 발생하는 것을 알 수 있음."
   ]
  },
  {
   "cell_type": "markdown",
   "id": "0dd43b53",
   "metadata": {},
   "source": [
    "#### Dictionary_값의 추가 및 수정\n",
    "- 추가하는 데이터에 입력된 Key가 기존에 이미 존재하는 경우,  \n",
    "   -> 입력된 Value로 기존의 Value를 대체\n",
    "- 추가하는 데이터에 입력된 Key가 존재하지 않는 경우,  \n",
    "   -> 새로운 Key와 Value를 추가  \n",
    "     (Key는 중복으로 존재할 수 없으므로.)  \n",
    "     (단, Value는 얼마든지 중복 가능)"
   ]
  },
  {
   "cell_type": "code",
   "execution_count": 25,
   "id": "aa1a87ad",
   "metadata": {},
   "outputs": [
    {
     "name": "stdout",
     "output_type": "stream",
     "text": [
      "{'Korea': 'Seoul', 'Canada': 'Ottawa', 'USA': 'Washington D.C', 'Japan': 'Tokyo'}\n",
      "{'Korea': 'Busan', 'Canada': 'Ottawa', 'USA': 'Washington D.C', 'Japan': 'Tokyo'}\n"
     ]
    }
   ],
   "source": [
    "## Init_A\n",
    "dict_a = {'Korea' : 'Seoul'\n",
    "          , 'Canada' : 'Ottawa'\n",
    "          , 'USA' : 'Washington D.C'}\n",
    "\n",
    "dict_a['Japan'] = 'Tokyo'\n",
    "print(dict_a)\n",
    "## 추가되는 것을 볼 수 있다.\n",
    "\n",
    "dict_a['Korea'] = 'Busan'\n",
    "print(dict_a)\n",
    "## 갱신되는 것을 볼 수 있다,\n",
    "\n",
    "## Q. for문을 통해 List처럼 넣을 수 있나?"
   ]
  },
  {
   "cell_type": "markdown",
   "id": "00bbbc60",
   "metadata": {},
   "source": [
    "#### Dictionary_멤버 함수\n",
    "- 생성된 Dict 객체에 대한 함수\n",
    "- 앞서 배운 List와 같이, Dict에도 멤버함수가 존재"
   ]
  },
  {
   "cell_type": "markdown",
   "id": "9d7793e8",
   "metadata": {},
   "source": [
    "update()\n",
    "- 두 Dictionary를 병합\n",
    "- 켭치는 키가 있다면, Parameter로 전달되는 Key값이 Overwrite된다.\n",
    "- Muataing Method이다. (결과값 존재 X)"
   ]
  },
  {
   "cell_type": "code",
   "execution_count": 34,
   "id": "bce6aaaa",
   "metadata": {
    "scrolled": true
   },
   "outputs": [
    {
     "name": "stdout",
     "output_type": "stream",
     "text": [
      "{1: 'a', 2: 'b', 3: 'c', 4: 'd'}\n",
      "{4: 'e', 5: 'f', 6: 'g'}\n",
      "{1: 'a', 2: 'b', 3: 'c', 4: 'd'}\n",
      "None\n"
     ]
    }
   ],
   "source": [
    "dict_a = {1 : 'a'\n",
    "         , 2 : 'b'\n",
    "         , 3 : 'c'\n",
    "         , 4 : 'd'}\n",
    "dict_b = {4 : 'e'\n",
    "         , 5 : 'f'\n",
    "         , 6 : 'g'}\n",
    "print(dict_a)\n",
    "print(dict_b)\n",
    "\n",
    "dict_a.update(dict_b)\n",
    "\n",
    "print(dict_a)\n",
    "## 1) 두 Dictionary가 병합되었다.\n",
    "## 2) 기존 A에 있던 Key : 4의 Value가 \n",
    "##    Parameter로 입력되는 B의 Value로 대체된 것을 볼 수 있다.\n",
    "\n",
    "## Mutating Method인 것을 확인할 수 있다.\n",
    "# dict_c = dict_a.update(dict_b)\n",
    "# print(dict_c)"
   ]
  },
  {
   "cell_type": "markdown",
   "id": "4860223a",
   "metadata": {},
   "source": [
    "Key 삭제 : pop() / del 키워드\n",
    "- Key를 입력하여 해당 Key를 삭제  \n",
    "- (두가지 모두) 없는 Key를 입력하면 KeyError 발생함."
   ]
  },
  {
   "cell_type": "code",
   "execution_count": 41,
   "id": "9196ab3a",
   "metadata": {},
   "outputs": [
    {
     "name": "stdout",
     "output_type": "stream",
     "text": [
      "{1: 'a', 2: 'b', 3: 'c', 4: 'd'}\n",
      "{1: 'a', 3: 'c', 4: 'd'}\n",
      "{1: 'a', 3: 'c'}\n"
     ]
    }
   ],
   "source": [
    "dict_a = {1 : 'a'\n",
    "         , 2 : 'b'\n",
    "         , 3 : 'c'\n",
    "         , 4 : 'd'}\n",
    "print(dict_a)\n",
    "\n",
    "dict_a.pop(2)\n",
    "print(dict_a)\n",
    "\n",
    "del dict_a[4]\n",
    "print(dict_a)"
   ]
  },
  {
   "cell_type": "markdown",
   "id": "966390e9",
   "metadata": {},
   "source": [
    "### ※ Del Keyword\n",
    "- 특정 변수를 선언하면, 해당 Kernel을 종료할 때까지 변수가 남아있다.  \n",
    "  (전역변수처럼)\n",
    "- 그러한 변수를 삭제하기 위해서 사용 가능"
   ]
  },
  {
   "cell_type": "code",
   "execution_count": 52,
   "id": "0522d904",
   "metadata": {},
   "outputs": [],
   "source": [
    "## Declare\n",
    "a = 100\n",
    "\n",
    "dict_a = {1 : 'a'\n",
    "         , 2 : 'b'\n",
    "         , 3 : 'c'\n",
    "         , 4 : 'd'}"
   ]
  },
  {
   "cell_type": "code",
   "execution_count": 53,
   "id": "872d626d",
   "metadata": {},
   "outputs": [
    {
     "name": "stdout",
     "output_type": "stream",
     "text": [
      "100\n",
      "{1: 'a', 2: 'b', 3: 'c', 4: 'd'}\n"
     ]
    }
   ],
   "source": [
    "## Print_01\n",
    "print(a)\n",
    "print(dict_a)\n",
    "## Kernel 내에 변수가 남아있으므로, \n",
    "## Cell이 달라져도 값이 정상적으로 출력된다."
   ]
  },
  {
   "cell_type": "code",
   "execution_count": 54,
   "id": "efead62c",
   "metadata": {},
   "outputs": [],
   "source": [
    "## Del\n",
    "## 이러한 값의 잔류를 원하지 않는다면 Del Keyword를 사용할 수 있다.\n",
    "del a\n",
    "\n",
    "del dict_a"
   ]
  },
  {
   "cell_type": "code",
   "execution_count": 56,
   "id": "4c9b2269",
   "metadata": {},
   "outputs": [
    {
     "ename": "NameError",
     "evalue": "name 'a' is not defined",
     "output_type": "error",
     "traceback": [
      "\u001b[1;31m---------------------------------------------------------------------------\u001b[0m",
      "\u001b[1;31mNameError\u001b[0m                                 Traceback (most recent call last)",
      "Input \u001b[1;32mIn [56]\u001b[0m, in \u001b[0;36m<cell line: 2>\u001b[1;34m()\u001b[0m\n\u001b[0;32m      1\u001b[0m \u001b[38;5;66;03m## Print_02\u001b[39;00m\n\u001b[1;32m----> 2\u001b[0m \u001b[38;5;28mprint\u001b[39m(\u001b[43ma\u001b[49m)\n\u001b[0;32m      3\u001b[0m \u001b[38;5;28mprint\u001b[39m(dict_a)\n",
      "\u001b[1;31mNameError\u001b[0m: name 'a' is not defined"
     ]
    }
   ],
   "source": [
    "## Print_02\n",
    "print(a)\n",
    "print(dict_a)\n",
    "## 값을 찾을 수 없는 것을 알 수 있다. \n",
    "## (선언된 것이 삭제되었으므로)\n",
    "## NameError: name 'a' is not defined"
   ]
  },
  {
   "cell_type": "markdown",
   "id": "9288af3c",
   "metadata": {},
   "source": [
    "clear()\n",
    "- Dictionary의 모든 값을 초기화"
   ]
  },
  {
   "cell_type": "code",
   "execution_count": 57,
   "id": "ac4ceb12",
   "metadata": {},
   "outputs": [
    {
     "name": "stdout",
     "output_type": "stream",
     "text": [
      "{1: 'a', 2: 'b', 3: 'c', 4: 'd'}\n",
      "{}\n"
     ]
    }
   ],
   "source": [
    "dict_a = {1 : 'a'\n",
    "         , 2 : 'b'\n",
    "         , 3 : 'c'\n",
    "         , 4 : 'd'}\n",
    "print(dict_a)\n",
    "\n",
    "dict_a.clear()\n",
    "print(dict_a)"
   ]
  },
  {
   "cell_type": "markdown",
   "id": "e582d2a7",
   "metadata": {},
   "source": [
    "in Keyword\n",
    "- Key값의 존재 여부 확인  \n",
    "  (Value를 확인하는 것이 아님)  \n",
    "- O(1) 연산 - Dictionary의 크기와 관계 없이 항상 연산속도가 일정하다"
   ]
  },
  {
   "cell_type": "code",
   "execution_count": 63,
   "id": "4d6ae21f",
   "metadata": {},
   "outputs": [
    {
     "name": "stdout",
     "output_type": "stream",
     "text": [
      "{1: 'a', 2: 'b', 3: 'c', 4: 'd'}\n",
      "True\n",
      "False\n"
     ]
    }
   ],
   "source": [
    "dict_a = {1 : 'a'\n",
    "         , 2 : 'b'\n",
    "         , 3 : 'c'\n",
    "         , 4 : 'd'}\n",
    "print(dict_a)\n",
    "\n",
    "print(2 in dict_a)\n",
    "print(5 in dict_a)"
   ]
  },
  {
   "cell_type": "markdown",
   "id": "fbf77d88",
   "metadata": {},
   "source": [
    "Value Access : .get() / dict[key]\n",
    "- .get() : Key가 없는 경우 None 반환\n",
    "- dict[key] : Key가 없는 경우 Error \n",
    "\n",
    "-> Error문을 원하지 않으면 .get()을 활용"
   ]
  },
  {
   "cell_type": "code",
   "execution_count": 65,
   "id": "30f3b953",
   "metadata": {},
   "outputs": [
    {
     "name": "stdout",
     "output_type": "stream",
     "text": [
      "a\n",
      "None\n",
      "a\n"
     ]
    },
    {
     "ename": "KeyError",
     "evalue": "5",
     "output_type": "error",
     "traceback": [
      "\u001b[1;31m---------------------------------------------------------------------------\u001b[0m",
      "\u001b[1;31mKeyError\u001b[0m                                  Traceback (most recent call last)",
      "Input \u001b[1;32mIn [65]\u001b[0m, in \u001b[0;36m<cell line: 12>\u001b[1;34m()\u001b[0m\n\u001b[0;32m     10\u001b[0m \u001b[38;5;66;03m## dict[key]\u001b[39;00m\n\u001b[0;32m     11\u001b[0m \u001b[38;5;28mprint\u001b[39m(dict_a[\u001b[38;5;241m1\u001b[39m]) \u001b[38;5;66;03m## Key 있는 경우\u001b[39;00m\n\u001b[1;32m---> 12\u001b[0m \u001b[38;5;28mprint\u001b[39m(\u001b[43mdict_a\u001b[49m\u001b[43m[\u001b[49m\u001b[38;5;241;43m5\u001b[39;49m\u001b[43m]\u001b[49m)\n",
      "\u001b[1;31mKeyError\u001b[0m: 5"
     ]
    }
   ],
   "source": [
    "dict_a = {1 : 'a'\n",
    "         , 2 : 'b'\n",
    "         , 3 : 'c'\n",
    "         , 4 : 'd'}\n",
    "\n",
    "## .get()\n",
    "print(dict_a.get(1)) ## Key 있는 경우\n",
    "print(dict_a.get(5)) ## Key 없는 경우\n",
    "\n",
    "## dict[key]\n",
    "print(dict_a[1]) ## Key 있는 경우\n",
    "print(dict_a[5]) ## Key 없는 경우\n"
   ]
  },
  {
   "cell_type": "code",
   "execution_count": 68,
   "id": "91356fe7",
   "metadata": {},
   "outputs": [
    {
     "name": "stdout",
     "output_type": "stream",
     "text": [
      "a\n"
     ]
    }
   ],
   "source": [
    "## dict[Key]의 에러문을 원치 않으면, \n",
    "## 이런 방법도 사용할 수 있다\n",
    "if 1 in dict_a:\n",
    "    print(dict_a[1])\n",
    "## 값 반환됨\n",
    "    \n",
    "if 5 in dict_a:\n",
    "    print(dict_a[5])\n",
    "## 값 반환되지 않음\n",
    "## Error 또한 없음"
   ]
  },
  {
   "cell_type": "markdown",
   "id": "969c6d1d",
   "metadata": {},
   "source": [
    "모든 Key, Values에 대한 접근  \n",
    "- keys() : Key값만 반환  \n",
    "- values() : Value값만 반환  \n",
    "- items() : Key, Value의 튜플을 반환  "
   ]
  },
  {
   "cell_type": "code",
   "execution_count": 73,
   "id": "2ab72679",
   "metadata": {},
   "outputs": [
    {
     "name": "stdout",
     "output_type": "stream",
     "text": [
      "{1: 'a', 2: 'b', 3: 'c', 4: 'd', 'a': 1, 'b': 2, 'c': 3, 'd': 4}\n",
      "dict_keys([1, 2, 3, 4, 'a', 'b', 'c', 'd'])\n",
      "dict_values(['a', 'b', 'c', 'd', 1, 2, 3, 4])\n",
      "dict_items([(1, 'a'), (2, 'b'), (3, 'c'), (4, 'd'), ('a', 1), ('b', 2), ('c', 3), ('d', 4)])\n"
     ]
    }
   ],
   "source": [
    "dict_a = {1 : 'a'\n",
    "         , 2 : 'b'\n",
    "         , 3 : 'c'\n",
    "         , 4 : 'd'\n",
    "         , 'a' : 1\n",
    "         , 'b' : 2\n",
    "         , 'c' : 3\n",
    "         , 'd' : 4}\n",
    "\n",
    "print(dict_a)\n",
    "print(dict_a.keys())\n",
    "print(dict_a.values())\n",
    "print(dict_a.items())"
   ]
  },
  {
   "cell_type": "markdown",
   "id": "2f4b2514",
   "metadata": {},
   "source": [
    "#### ※ Dictionary와 여기서 반환된 결과값들은 List로 변환시킬 수 있다."
   ]
  },
  {
   "cell_type": "code",
   "execution_count": 81,
   "id": "7537f001",
   "metadata": {},
   "outputs": [
    {
     "name": "stdout",
     "output_type": "stream",
     "text": [
      "{1: 'a', 2: 'b', 3: 'c', 4: 'd', 'a': 1, 'b': 2, 'c': 3, 'd': 4}\n",
      "dict_keys([1, 2, 3, 4, 'a', 'b', 'c', 'd'])\n",
      "dict_values(['a', 'b', 'c', 'd', 1, 2, 3, 4])\n",
      "dict_items([(1, 'a'), (2, 'b'), (3, 'c'), (4, 'd'), ('a', 1), ('b', 2), ('c', 3), ('d', 4)])\n",
      "▶ To List\n",
      "[1, 2, 3, 4, 'a', 'b', 'c', 'd']\n",
      "[1, 2, 3, 4, 'a', 'b', 'c', 'd']\n",
      "['a', 'b', 'c', 'd', 1, 2, 3, 4]\n",
      "[(1, 'a'), (2, 'b'), (3, 'c'), (4, 'd'), ('a', 1), ('b', 2), ('c', 3), ('d', 4)]\n"
     ]
    }
   ],
   "source": [
    "## Init_A\n",
    "dict_a = {1 : 'a'\n",
    "         , 2 : 'b'\n",
    "         , 3 : 'c'\n",
    "         , 4 : 'd'\n",
    "         , 'a' : 1\n",
    "         , 'b' : 2\n",
    "         , 'c' : 3\n",
    "         , 'd' : 4}\n",
    "\n",
    "## Dictionary\n",
    "print(dict_a)\n",
    "print(dict_a.keys())\n",
    "print(dict_a.values())\n",
    "print(dict_a.items())\n",
    "\n",
    "## To List\n",
    "print(\"▶ To List\")\n",
    "print(list(dict_a)) ## Key로 구성된 List가 된다.\n",
    "print(list(dict_a.keys())) ## Key로 구성된 List가 된다.\n",
    "print(list(dict_a.values())) ## Value로 구성된 List가 된다.\n",
    "print(list(dict_a.items())) ## (Key, Value) Tuple로 구성된 List가 된다."
   ]
  },
  {
   "cell_type": "code",
   "execution_count": null,
   "id": "956dc8c7",
   "metadata": {},
   "outputs": [],
   "source": []
  }
 ],
 "metadata": {
  "kernelspec": {
   "display_name": "Python 3 (ipykernel)",
   "language": "python",
   "name": "python3"
  },
  "language_info": {
   "codemirror_mode": {
    "name": "ipython",
    "version": 3
   },
   "file_extension": ".py",
   "mimetype": "text/x-python",
   "name": "python",
   "nbconvert_exporter": "python",
   "pygments_lexer": "ipython3",
   "version": "3.9.12"
  }
 },
 "nbformat": 4,
 "nbformat_minor": 5
}
